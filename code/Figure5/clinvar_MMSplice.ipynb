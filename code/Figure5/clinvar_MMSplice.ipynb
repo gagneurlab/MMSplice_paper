{
 "cells": [
  {
   "cell_type": "code",
   "execution_count": 1,
   "metadata": {},
   "outputs": [],
   "source": [
    "%load_ext autoreload\n",
    "%autoreload 2"
   ]
  },
  {
   "cell_type": "code",
   "execution_count": 2,
   "metadata": {},
   "outputs": [
    {
     "name": "stderr",
     "output_type": "stream",
     "text": [
      "Using TensorFlow backend.\n"
     ]
    }
   ],
   "source": [
    "import numpy as np\n",
    "import pandas as pd\n",
    "import matplotlib.pyplot as plt\n",
    "%matplotlib inline \n",
    "\n",
    "from tqdm import tqdm\n",
    "\n",
    "from mmsplice.generic import logit, expit\n",
    "from mmsplice.utils import max_varEff\n",
    "from mmsplice.utils.postproc import transform\n",
    "\n",
    "projectDIR = '../../data/'"
   ]
  },
  {
   "cell_type": "code",
   "execution_count": 3,
   "metadata": {},
   "outputs": [],
   "source": [
    "def get_start_end(s):\n",
    "    # get start and end from exon string\n",
    "    ssplit = s.split('_')\n",
    "    start = int(ssplit[1])\n",
    "    end, strand = ssplit[2].split(':')\n",
    "    end = int(end)\n",
    "    return start, end, strand\n",
    "\n",
    "def get_var_pos(s):\n",
    "    # get variant position from variant string\n",
    "    ssplit = s.split(\":\")\n",
    "    return int(ssplit[1])\n",
    "\n",
    "def dinu_disrupt(x):\n",
    "    exon_start, exon_end, strand = get_start_end(x['exons'])\n",
    "    var_pos = get_var_pos(x['ID'])\n",
    "    return ((var_pos - exon_end > 0) and (var_pos - exon_end < 3)) or ((exon_start - var_pos > 0) and (exon_start - var_pos < 3))"
   ]
  },
  {
   "cell_type": "markdown",
   "metadata": {},
   "source": [
    "## Load predictions from MMSplice and other models"
   ]
  },
  {
   "cell_type": "markdown",
   "metadata": {},
   "source": [
    "MMSplice, done with Snakefile from the Snakefile in this directory. "
   ]
  },
  {
   "cell_type": "code",
   "execution_count": 4,
   "metadata": {},
   "outputs": [],
   "source": [
    "predUniqMax = max_varEff(projectDIR + 'clinvar/mmsplice_pred.csv')"
   ]
  },
  {
   "cell_type": "code",
   "execution_count": 5,
   "metadata": {},
   "outputs": [],
   "source": [
    "predUniqMax['dinu_disrupt'] =  predUniqMax.apply(dinu_disrupt, axis=1)"
   ]
  },
  {
   "cell_type": "code",
   "execution_count": 6,
   "metadata": {},
   "outputs": [
    {
     "data": {
      "text/plain": [
       "(69379, 14)"
      ]
     },
     "execution_count": 6,
     "metadata": {},
     "output_type": "execute_result"
    }
   ],
   "source": [
    "predUniqMax.shape"
   ]
  },
  {
   "cell_type": "code",
   "execution_count": 7,
   "metadata": {},
   "outputs": [
    {
     "data": {
      "text/html": [
       "<div>\n",
       "<style scoped>\n",
       "    .dataframe tbody tr th:only-of-type {\n",
       "        vertical-align: middle;\n",
       "    }\n",
       "\n",
       "    .dataframe tbody tr th {\n",
       "        vertical-align: top;\n",
       "    }\n",
       "\n",
       "    .dataframe thead th {\n",
       "        text-align: right;\n",
       "    }\n",
       "</style>\n",
       "<table border=\"1\" class=\"dataframe\">\n",
       "  <thead>\n",
       "    <tr style=\"text-align: right;\">\n",
       "      <th></th>\n",
       "      <th>ID</th>\n",
       "      <th>mmsplice_diff</th>\n",
       "      <th>exons</th>\n",
       "      <th>mmsplice_ref_acceptorIntron</th>\n",
       "      <th>mmsplice_ref_acceptor</th>\n",
       "      <th>mmsplice_ref_exon</th>\n",
       "      <th>mmsplice_ref_donor</th>\n",
       "      <th>mmsplice_ref_donorIntron</th>\n",
       "      <th>mmsplice_alt_acceptorIntron</th>\n",
       "      <th>mmsplice_alt_acceptor</th>\n",
       "      <th>mmsplice_alt_exon</th>\n",
       "      <th>mmsplice_alt_donor</th>\n",
       "      <th>mmsplice_alt_donorIntron</th>\n",
       "      <th>dinu_disrupt</th>\n",
       "    </tr>\n",
       "  </thead>\n",
       "  <tbody>\n",
       "    <tr>\n",
       "      <th>0</th>\n",
       "      <td>10:100177926:C:['T']</td>\n",
       "      <td>-0.359619</td>\n",
       "      <td>10_100177932_100178014:-</td>\n",
       "      <td>-4.054594</td>\n",
       "      <td>5.272730</td>\n",
       "      <td>-2.743317</td>\n",
       "      <td>2.674313</td>\n",
       "      <td>-0.163427</td>\n",
       "      <td>-4.054594</td>\n",
       "      <td>5.272730</td>\n",
       "      <td>-2.743317</td>\n",
       "      <td>2.194031</td>\n",
       "      <td>-0.163427</td>\n",
       "      <td>False</td>\n",
       "    </tr>\n",
       "    <tr>\n",
       "      <th>1</th>\n",
       "      <td>10:100179910:C:['T']</td>\n",
       "      <td>0.087183</td>\n",
       "      <td>10_100179802_100179915:-</td>\n",
       "      <td>-3.862209</td>\n",
       "      <td>5.427852</td>\n",
       "      <td>-2.754818</td>\n",
       "      <td>3.642254</td>\n",
       "      <td>0.182360</td>\n",
       "      <td>-3.862209</td>\n",
       "      <td>5.427852</td>\n",
       "      <td>-2.698903</td>\n",
       "      <td>3.642254</td>\n",
       "      <td>0.182360</td>\n",
       "      <td>False</td>\n",
       "    </tr>\n",
       "    <tr>\n",
       "      <th>2</th>\n",
       "      <td>10:100179917:T:['G']</td>\n",
       "      <td>-2.958933</td>\n",
       "      <td>10_100179802_100179915:-</td>\n",
       "      <td>-3.862209</td>\n",
       "      <td>5.427852</td>\n",
       "      <td>-2.754818</td>\n",
       "      <td>3.642254</td>\n",
       "      <td>0.182360</td>\n",
       "      <td>-3.862209</td>\n",
       "      <td>1.335677</td>\n",
       "      <td>-2.754818</td>\n",
       "      <td>3.642254</td>\n",
       "      <td>0.182360</td>\n",
       "      <td>True</td>\n",
       "    </tr>\n",
       "    <tr>\n",
       "      <th>3</th>\n",
       "      <td>10:100182277:G:['T']</td>\n",
       "      <td>-0.691924</td>\n",
       "      <td>10_100182126_100182270:-</td>\n",
       "      <td>-3.915008</td>\n",
       "      <td>-3.626794</td>\n",
       "      <td>-3.049119</td>\n",
       "      <td>3.016737</td>\n",
       "      <td>0.397928</td>\n",
       "      <td>-4.197525</td>\n",
       "      <td>-4.045979</td>\n",
       "      <td>-3.049119</td>\n",
       "      <td>3.016737</td>\n",
       "      <td>0.397928</td>\n",
       "      <td>False</td>\n",
       "    </tr>\n",
       "    <tr>\n",
       "      <th>4</th>\n",
       "      <td>10:100182285:T:['C']</td>\n",
       "      <td>-0.129285</td>\n",
       "      <td>10_100182126_100182270:-</td>\n",
       "      <td>-3.915008</td>\n",
       "      <td>-3.626794</td>\n",
       "      <td>-3.049119</td>\n",
       "      <td>3.016737</td>\n",
       "      <td>0.397928</td>\n",
       "      <td>-3.933263</td>\n",
       "      <td>-3.771658</td>\n",
       "      <td>-3.049119</td>\n",
       "      <td>3.016737</td>\n",
       "      <td>0.397928</td>\n",
       "      <td>False</td>\n",
       "    </tr>\n",
       "  </tbody>\n",
       "</table>\n",
       "</div>"
      ],
      "text/plain": [
       "                     ID  mmsplice_diff                     exons  \\\n",
       "0  10:100177926:C:['T']      -0.359619  10_100177932_100178014:-   \n",
       "1  10:100179910:C:['T']       0.087183  10_100179802_100179915:-   \n",
       "2  10:100179917:T:['G']      -2.958933  10_100179802_100179915:-   \n",
       "3  10:100182277:G:['T']      -0.691924  10_100182126_100182270:-   \n",
       "4  10:100182285:T:['C']      -0.129285  10_100182126_100182270:-   \n",
       "\n",
       "   mmsplice_ref_acceptorIntron  mmsplice_ref_acceptor  mmsplice_ref_exon  \\\n",
       "0                    -4.054594               5.272730          -2.743317   \n",
       "1                    -3.862209               5.427852          -2.754818   \n",
       "2                    -3.862209               5.427852          -2.754818   \n",
       "3                    -3.915008              -3.626794          -3.049119   \n",
       "4                    -3.915008              -3.626794          -3.049119   \n",
       "\n",
       "   mmsplice_ref_donor  mmsplice_ref_donorIntron  mmsplice_alt_acceptorIntron  \\\n",
       "0            2.674313                 -0.163427                    -4.054594   \n",
       "1            3.642254                  0.182360                    -3.862209   \n",
       "2            3.642254                  0.182360                    -3.862209   \n",
       "3            3.016737                  0.397928                    -4.197525   \n",
       "4            3.016737                  0.397928                    -3.933263   \n",
       "\n",
       "   mmsplice_alt_acceptor  mmsplice_alt_exon  mmsplice_alt_donor  \\\n",
       "0               5.272730          -2.743317            2.194031   \n",
       "1               5.427852          -2.698903            3.642254   \n",
       "2               1.335677          -2.754818            3.642254   \n",
       "3              -4.045979          -3.049119            3.016737   \n",
       "4              -3.771658          -3.049119            3.016737   \n",
       "\n",
       "   mmsplice_alt_donorIntron  dinu_disrupt  \n",
       "0                 -0.163427         False  \n",
       "1                  0.182360         False  \n",
       "2                  0.182360          True  \n",
       "3                  0.397928         False  \n",
       "4                  0.397928         False  "
      ]
     },
     "execution_count": 7,
     "metadata": {},
     "output_type": "execute_result"
    }
   ],
   "source": [
    "predUniqMax.head()"
   ]
  },
  {
   "cell_type": "markdown",
   "metadata": {},
   "source": [
    "kipoi models"
   ]
  },
  {
   "cell_type": "code",
   "execution_count": 8,
   "metadata": {},
   "outputs": [],
   "source": [
    "import pickle\n",
    "def read_pkl(fname):\n",
    "    with open(fname, 'rb') as f:\n",
    "        return pickle.load(f)"
   ]
  },
  {
   "cell_type": "code",
   "execution_count": 9,
   "metadata": {},
   "outputs": [],
   "source": [
    "clinvar_file = projectDIR + \"clinvar/clinvar_ext_Xy.pkl\"\n",
    "X_clinvar, y_clinvar = read_pkl(clinvar_file)"
   ]
  },
  {
   "cell_type": "code",
   "execution_count": 10,
   "metadata": {},
   "outputs": [
    {
     "data": {
      "text/plain": [
       "(11663, 44)"
      ]
     },
     "execution_count": 10,
     "metadata": {},
     "output_type": "execute_result"
    }
   ],
   "source": [
    "X_clinvar.shape"
   ]
  },
  {
   "cell_type": "code",
   "execution_count": 11,
   "metadata": {},
   "outputs": [],
   "source": [
    "X_clinvar['early_stop'] = X_clinvar.early_stop.astype(bool)\n",
    "y_clinvar = y_clinvar[~X_clinvar['early_stop']]\n",
    "X_clinvar = X_clinvar[~X_clinvar['early_stop']]"
   ]
  },
  {
   "cell_type": "code",
   "execution_count": 12,
   "metadata": {},
   "outputs": [],
   "source": [
    "X_clinvar = X_clinvar.merge(predUniqMax, how='left', left_on='variant_id', right_on='ID')"
   ]
  },
  {
   "cell_type": "code",
   "execution_count": 13,
   "metadata": {},
   "outputs": [
    {
     "data": {
      "text/plain": [
       "0"
      ]
     },
     "execution_count": 13,
     "metadata": {},
     "output_type": "execute_result"
    }
   ],
   "source": [
    "sum(X_clinvar['mmsplice_diff'].isna().astype(int))"
   ]
  },
  {
   "cell_type": "code",
   "execution_count": 14,
   "metadata": {},
   "outputs": [
    {
     "data": {
      "text/plain": [
       "4127.0"
      ]
     },
     "execution_count": 14,
     "metadata": {},
     "output_type": "execute_result"
    }
   ],
   "source": [
    "sum(X_clinvar['HAL_isna'])"
   ]
  },
  {
   "cell_type": "markdown",
   "metadata": {},
   "source": [
    "### Modeling"
   ]
  },
  {
   "cell_type": "code",
   "execution_count": 15,
   "metadata": {},
   "outputs": [
    {
     "name": "stderr",
     "output_type": "stream",
     "text": [
      "/opt/modules/i12g/anaconda/3-5.0.1/envs/splicing/lib/python3.6/site-packages/sklearn/ensemble/weight_boosting.py:29: DeprecationWarning: numpy.core.umath_tests is an internal NumPy module and should not be imported. It will be removed in a future NumPy release.\n",
      "  from numpy.core.umath_tests import inner1d\n"
     ]
    }
   ],
   "source": [
    "# Scikit-learn imports\n",
    "import sklearn\n",
    "from sklearn.base import BaseEstimator, TransformerMixin\n",
    "from sklearn.model_selection import cross_validate, cross_val_predict\n",
    "from sklearn.metrics import roc_curve, auc, roc_auc_score\n",
    "from sklearn.pipeline import Pipeline\n",
    "from sklearn.linear_model import LogisticRegression, LogisticRegressionCV\n",
    "from sklearn.ensemble import RandomForestClassifier\n",
    "from sklearn.preprocessing import LabelEncoder, LabelBinarizer\n",
    "from sklearn.ensemble import RandomForestClassifier\n",
    "from sklearn_pandas import DataFrameMapper"
   ]
  },
  {
   "cell_type": "code",
   "execution_count": 16,
   "metadata": {},
   "outputs": [],
   "source": [
    "class ZeroImputer(BaseEstimator, TransformerMixin):\n",
    "    def fit(self, X, y=None):\n",
    "        return self\n",
    "    def transform(self, X, y=None):\n",
    "        return pd.DataFrame(X).fillna(0).copy()"
   ]
  },
  {
   "cell_type": "code",
   "execution_count": 17,
   "metadata": {},
   "outputs": [],
   "source": [
    "def preproc(features):\n",
    "    \"\"\"Pre-processing pipeline\n",
    "    \"\"\"\n",
    "    return DataFrameMapper([\n",
    "            (features, [ZeroImputer(), \n",
    "                        sklearn.preprocessing.StandardScaler(),\n",
    "                       ]),\n",
    "        ])"
   ]
  },
  {
   "cell_type": "code",
   "execution_count": 18,
   "metadata": {},
   "outputs": [],
   "source": [
    "# model = LogisticRegressionCV(penalty=\"l1\", solver='liblinear', scoring=\"roc_auc\", cv=3, n_jobs=1)\n",
    "# LogReg is completely fine here as D < 20 < 1000 < N\n",
    "model=LogisticRegressionCV(penalty=\"l1\", solver='liblinear', scoring=\"roc_auc\", cv=3, n_jobs=1)\n",
    "np.random.seed(42)"
   ]
  },
  {
   "cell_type": "code",
   "execution_count": 19,
   "metadata": {},
   "outputs": [],
   "source": [
    "def evaluate(df, y, features, model, model_name):\n",
    "    perm = np.random.permutation(len(df))  # permute rows\n",
    "    ret = cross_validate(Pipeline([('preproc', preproc(features)), \n",
    "                                   ('model', model)]), \n",
    "                         df.iloc[perm], y[perm], scoring=['accuracy', 'roc_auc'], cv=10, n_jobs=10, return_train_score=True)\n",
    "    means = pd.DataFrame(ret).describe().loc['mean']\n",
    "    means.index = \"mean_\" + means.index\n",
    "    sds = pd.DataFrame(ret).describe().loc['std']\n",
    "    sds.index = \"std_\" + sds.index\n",
    "    return pd.DataFrame([{**dict(means), **dict(sds), \"model_name\": model_name}])"
   ]
  },
  {
   "cell_type": "code",
   "execution_count": 20,
   "metadata": {},
   "outputs": [],
   "source": [
    "from sklearn.utils import resample\n",
    "def roc(df, y, features, model, bootstrap=999):\n",
    "    perm = np.random.permutation(len(df))  # permute rows\n",
    "    pred = cross_val_predict(Pipeline([('preproc', preproc(features)), \n",
    "                                   ('model', model)]), \n",
    "                         df.iloc[perm], y[perm], cv=10, n_jobs=10, method='predict_proba')\n",
    "    print(roc_auc_score(y[perm], pred[:,1]))\n",
    "    aucs = []\n",
    "    ## Boostrap here\n",
    "    n = 0\n",
    "    while n < bootstrap:\n",
    "#         import pdb\n",
    "#         pdb.set_trace()\n",
    "        boot = resample(y[perm], pred[:,1])\n",
    "        aucs.append(roc_auc_score(boot[0], boot[1]))\n",
    "        n += 1\n",
    "    return np.array(aucs)\n",
    "    #fpr, tpr, _ = roc_curve(y[perm], pred[:,1])\n",
    "    #return fpr, tpr"
   ]
  },
  {
   "cell_type": "markdown",
   "metadata": {},
   "source": [
    "## Plus conservation"
   ]
  },
  {
   "cell_type": "code",
   "execution_count": 21,
   "metadata": {},
   "outputs": [],
   "source": [
    "ref_list = ['mmsplice_ref_acceptorIntron', 'mmsplice_ref_acceptor', 'mmsplice_ref_exon', 'mmsplice_ref_donor', 'mmsplice_ref_donorIntron']\n",
    "alt_list = ['mmsplice_alt_acceptorIntron', 'mmsplice_alt_acceptor', 'mmsplice_alt_exon', 'mmsplice_alt_donor', 'mmsplice_alt_donorIntron']\n",
    "X = X_clinvar[alt_list].values - X_clinvar[ref_list].values\n",
    "\n",
    "X_clinvar['mmsplice_exon_overlap'] = np.logical_or(np.logical_and(X[:,1]!=0, X[:,2]!=0), np.logical_and(X[:,2]!=0, X[:,3]!=0))\n",
    "X_clinvar['mmsplice_acceptor_intron_overlap'] = np.logical_and(X[:,0]!=0, X[:,1]!=0)\n",
    "X_clinvar['mmsplice_donor_intron_overlap'] = np.logical_and(X[:,3]!=0, X[:,4]!=0)\n",
    "\n",
    "MMSplice_features = [x for x in X_clinvar.columns[X_clinvar.columns.str.startswith('mmsplice')]]\n",
    "MaxEntScan_features = [x for x in X_clinvar.columns[X_clinvar.columns.str.startswith('MaxEntScan')]]\n",
    "HAL_features = [x for x in X_clinvar.columns[X_clinvar.columns.str.startswith('HAL')]]\n",
    "spidex_feat = ['dpsi_max_tissue', 'dpsi_zscore', 'dpsi_max_tissue_isna', 'dpsi_zscore_isna']\n",
    "# MMSplice_features.remove(\"mmsplice_diff\")"
   ]
  },
  {
   "cell_type": "code",
   "execution_count": 22,
   "metadata": {},
   "outputs": [],
   "source": [
    "dbscsnv_dbscsnv_feat = ['dbscSNV_rf_score', 'dbscSNV_rf_score_isna']"
   ]
  },
  {
   "cell_type": "code",
   "execution_count": 23,
   "metadata": {},
   "outputs": [],
   "source": [
    "conservation_features = ['phyloP46way_placental', 'phyloP46way_primate', 'CADD_raw', 'CADD_phred']"
   ]
  },
  {
   "cell_type": "code",
   "execution_count": 24,
   "metadata": {},
   "outputs": [],
   "source": [
    "kipoi_features = ['MaxEntScan/3prime_alt',\n",
    "                  'MaxEntScan/3prime_ref',\n",
    "                  'MaxEntScan/3prime_isna',\n",
    "                  'MaxEntScan/5prime_alt',\n",
    "                  'MaxEntScan/5prime_ref',\n",
    "                  'MaxEntScan/5prime_isna',\n",
    "                  'HAL_ref',\n",
    "                  'HAL_alt',\n",
    "                  'HAL_isna',\n",
    "                  'labranchor_logit_alt',\n",
    "                  'labranchor_logit_ref',\n",
    "                  'labranchor_isna']"
   ]
  },
  {
   "cell_type": "code",
   "execution_count": 25,
   "metadata": {},
   "outputs": [],
   "source": [
    "clinvar_kipoi_features = kipoi_features + conservation_features"
   ]
  },
  {
   "cell_type": "markdown",
   "metadata": {},
   "source": [
    "## Plot ROC curve"
   ]
  },
  {
   "cell_type": "code",
   "execution_count": 26,
   "metadata": {},
   "outputs": [],
   "source": [
    "feature_group = [MMSplice_features, MMSplice_features+conservation_features, spidex_feat, kipoi_features, kipoi_features+MMSplice_features, clinvar_kipoi_features + MMSplice_features]\n",
    "model_names = [\"MMSplice\", \"MMSplice + conservation\", \"SPANR\", \"kipoiSplice4\", \"kipoiSplice5\", \"kipoiSplice5_conservation\"]"
   ]
  },
  {
   "cell_type": "code",
   "execution_count": 27,
   "metadata": {},
   "outputs": [
    {
     "name": "stdout",
     "output_type": "stream",
     "text": [
      "MMSplice\n",
      "0.9391301845079518\n",
      "MMSplice + conservation\n",
      "0.9725761138023892\n",
      "SPANR\n",
      "0.8203990027180611\n",
      "kipoiSplice4\n",
      "0.927360638663383\n",
      "kipoiSplice5\n",
      "0.953609192838422\n",
      "kipoiSplice5_conservation\n",
      "0.978603013791776\n"
     ]
    }
   ],
   "source": [
    "stats = []\n",
    "for i, feat in enumerate(feature_group):\n",
    "    print(model_names[i])\n",
    "    stats.append(roc(X_clinvar, y_clinvar, feat, model, bootstrap=999))"
   ]
  },
  {
   "cell_type": "code",
   "execution_count": 28,
   "metadata": {},
   "outputs": [],
   "source": [
    "stats = np.stack(stats)"
   ]
  },
  {
   "cell_type": "code",
   "execution_count": 29,
   "metadata": {},
   "outputs": [
    {
     "data": {
      "image/png": "[encoded data removed]",
      "text/plain": [
       "<Figure size 432x288 with 1 Axes>"
      ]
     },
     "metadata": {},
     "output_type": "display_data"
    }
   ],
   "source": [
    "## compare with SPANR\n",
    "(1 + sum(stats[0,:] < stats[2,:])) / 1000\n",
    "plt.hist(stats[0,:] - stats[2,:])\n",
    "plt.show()"
   ]
  },
  {
   "cell_type": "code",
   "execution_count": 30,
   "metadata": {},
   "outputs": [
    {
     "data": {
      "image/png": "[encoded data removed]",
      "text/plain": [
       "<Figure size 432x288 with 1 Axes>"
      ]
     },
     "metadata": {},
     "output_type": "display_data"
    }
   ],
   "source": [
    "## compare with ensemble of MaxEntScan, HAL and labranchor\n",
    "(1 + sum(stats[0,:] < stats[3,:])) / 1000\n",
    "plt.hist(stats[0,:] - stats[3,:])\n",
    "plt.show()"
   ]
  },
  {
   "cell_type": "code",
   "execution_count": 31,
   "metadata": {},
   "outputs": [
    {
     "data": {
      "image/png": "[encoded data removed]",
      "text/plain": [
       "<Figure size 432x288 with 1 Axes>"
      ]
     },
     "metadata": {},
     "output_type": "display_data"
    }
   ],
   "source": [
    "## compare ensemble of MaxEntScan, HAL and labranchor to ensemble with/w.o MMSplice\n",
    "(1 + sum(stats[4,:] < stats[3,:])) / 1000\n",
    "plt.hist(stats[4,:] - stats[2,:])\n",
    "plt.show()"
   ]
  },
  {
   "cell_type": "code",
   "execution_count": 32,
   "metadata": {},
   "outputs": [
    {
     "name": "stdout",
     "output_type": "stream",
     "text": [
      "0.002\n"
     ]
    },
    {
     "data": {
      "image/png": "[encoded data removed]",
      "text/plain": [
       "<Figure size 432x288 with 1 Axes>"
      ]
     },
     "metadata": {},
     "output_type": "display_data"
    }
   ],
   "source": [
    "## compare MMSplice + conservation with ensemble of MaxEntScan, HAL, labranchor and MMSplice + conservation\n",
    "print((1 + sum(stats[5,:] < stats[1,:])) / 1000)\n",
    "plt.hist(stats[5,:] - stats[1,:])\n",
    "plt.show()"
   ]
  },
  {
   "cell_type": "markdown",
   "metadata": {},
   "source": [
    "## Cumulate performance"
   ]
  },
  {
   "cell_type": "code",
   "execution_count": 33,
   "metadata": {},
   "outputs": [],
   "source": [
    "def run_model_groups(df, y, model_groups,\n",
    "                     model=LogisticRegressionCV(penalty=\"l1\", solver='liblinear', scoring=\"roc_auc\", cv=3, n_jobs=1)):\n",
    "    res = []\n",
    "    use_features = []\n",
    "    for mg in tqdm(model_groups):\n",
    "        use_features += [f for f in df.columns if f.startswith(mg)]\n",
    "        if mg=='labranchor':\n",
    "            mg = 'labranchor (KipoiSplice4)'\n",
    "        elif mg=='MMSplice':\n",
    "            mg = 'MMSplice (KipoiSplice5)'\n",
    "        res.append(evaluate(df, y, use_features, model, model_name=mg))\n",
    "    return pd.concat(res)"
   ]
  },
  {
   "cell_type": "code",
   "execution_count": 34,
   "metadata": {},
   "outputs": [],
   "source": [
    "models = [\"MaxEntScan/3prime\", \"MaxEntScan/5prime\", \"HAL\", \"labranchor\" ,\"mmsplice\"]"
   ]
  },
  {
   "cell_type": "code",
   "execution_count": 35,
   "metadata": {},
   "outputs": [
    {
     "name": "stderr",
     "output_type": "stream",
     "text": [
      "100%|██████████| 5/5 [01:18<00:00, 15.70s/it]\n"
     ]
    }
   ],
   "source": [
    "res_clinvar = run_model_groups(X_clinvar, y_clinvar, models, model=model)"
   ]
  },
  {
   "cell_type": "code",
   "execution_count": 36,
   "metadata": {},
   "outputs": [
    {
     "data": {
      "text/html": [
       "<div>\n",
       "<style scoped>\n",
       "    .dataframe tbody tr th:only-of-type {\n",
       "        vertical-align: middle;\n",
       "    }\n",
       "\n",
       "    .dataframe tbody tr th {\n",
       "        vertical-align: top;\n",
       "    }\n",
       "\n",
       "    .dataframe thead th {\n",
       "        text-align: right;\n",
       "    }\n",
       "</style>\n",
       "<table border=\"1\" class=\"dataframe\">\n",
       "  <thead>\n",
       "    <tr style=\"text-align: right;\">\n",
       "      <th></th>\n",
       "      <th>mean_fit_time</th>\n",
       "      <th>mean_score_time</th>\n",
       "      <th>mean_test_accuracy</th>\n",
       "      <th>mean_test_roc_auc</th>\n",
       "      <th>mean_train_accuracy</th>\n",
       "      <th>mean_train_roc_auc</th>\n",
       "      <th>model_name</th>\n",
       "      <th>std_fit_time</th>\n",
       "      <th>std_score_time</th>\n",
       "      <th>std_test_accuracy</th>\n",
       "      <th>std_test_roc_auc</th>\n",
       "      <th>std_train_accuracy</th>\n",
       "      <th>std_train_roc_auc</th>\n",
       "    </tr>\n",
       "  </thead>\n",
       "  <tbody>\n",
       "    <tr>\n",
       "      <th>0</th>\n",
       "      <td>3.159491</td>\n",
       "      <td>0.026368</td>\n",
       "      <td>0.745592</td>\n",
       "      <td>0.779734</td>\n",
       "      <td>0.745642</td>\n",
       "      <td>0.779730</td>\n",
       "      <td>MaxEntScan/3prime</td>\n",
       "      <td>0.350036</td>\n",
       "      <td>0.018622</td>\n",
       "      <td>0.012685</td>\n",
       "      <td>0.009475</td>\n",
       "      <td>0.001476</td>\n",
       "      <td>0.000974</td>\n",
       "    </tr>\n",
       "    <tr>\n",
       "      <th>0</th>\n",
       "      <td>3.521396</td>\n",
       "      <td>0.028753</td>\n",
       "      <td>0.832474</td>\n",
       "      <td>0.896028</td>\n",
       "      <td>0.832810</td>\n",
       "      <td>0.896443</td>\n",
       "      <td>MaxEntScan/5prime</td>\n",
       "      <td>0.331880</td>\n",
       "      <td>0.016654</td>\n",
       "      <td>0.013516</td>\n",
       "      <td>0.009632</td>\n",
       "      <td>0.001699</td>\n",
       "      <td>0.001109</td>\n",
       "    </tr>\n",
       "    <tr>\n",
       "      <th>0</th>\n",
       "      <td>5.181367</td>\n",
       "      <td>0.074637</td>\n",
       "      <td>0.834157</td>\n",
       "      <td>0.906214</td>\n",
       "      <td>0.834469</td>\n",
       "      <td>0.906798</td>\n",
       "      <td>HAL</td>\n",
       "      <td>0.620320</td>\n",
       "      <td>0.043730</td>\n",
       "      <td>0.010730</td>\n",
       "      <td>0.008280</td>\n",
       "      <td>0.001216</td>\n",
       "      <td>0.000903</td>\n",
       "    </tr>\n",
       "    <tr>\n",
       "      <th>0</th>\n",
       "      <td>6.036655</td>\n",
       "      <td>0.071322</td>\n",
       "      <td>0.842744</td>\n",
       "      <td>0.927893</td>\n",
       "      <td>0.843190</td>\n",
       "      <td>0.928425</td>\n",
       "      <td>labranchor (KipoiSplice4)</td>\n",
       "      <td>0.537341</td>\n",
       "      <td>0.040516</td>\n",
       "      <td>0.010847</td>\n",
       "      <td>0.004031</td>\n",
       "      <td>0.001151</td>\n",
       "      <td>0.000453</td>\n",
       "    </tr>\n",
       "    <tr>\n",
       "      <th>0</th>\n",
       "      <td>37.988574</td>\n",
       "      <td>0.073585</td>\n",
       "      <td>0.872144</td>\n",
       "      <td>0.953564</td>\n",
       "      <td>0.873853</td>\n",
       "      <td>0.954744</td>\n",
       "      <td>mmsplice</td>\n",
       "      <td>7.095836</td>\n",
       "      <td>0.027216</td>\n",
       "      <td>0.014400</td>\n",
       "      <td>0.004536</td>\n",
       "      <td>0.002229</td>\n",
       "      <td>0.000536</td>\n",
       "    </tr>\n",
       "  </tbody>\n",
       "</table>\n",
       "</div>"
      ],
      "text/plain": [
       "   mean_fit_time  mean_score_time  mean_test_accuracy  mean_test_roc_auc  \\\n",
       "0       3.159491         0.026368            0.745592           0.779734   \n",
       "0       3.521396         0.028753            0.832474           0.896028   \n",
       "0       5.181367         0.074637            0.834157           0.906214   \n",
       "0       6.036655         0.071322            0.842744           0.927893   \n",
       "0      37.988574         0.073585            0.872144           0.953564   \n",
       "\n",
       "   mean_train_accuracy  mean_train_roc_auc                 model_name  \\\n",
       "0             0.745642            0.779730          MaxEntScan/3prime   \n",
       "0             0.832810            0.896443          MaxEntScan/5prime   \n",
       "0             0.834469            0.906798                        HAL   \n",
       "0             0.843190            0.928425  labranchor (KipoiSplice4)   \n",
       "0             0.873853            0.954744                   mmsplice   \n",
       "\n",
       "   std_fit_time  std_score_time  std_test_accuracy  std_test_roc_auc  \\\n",
       "0      0.350036        0.018622           0.012685          0.009475   \n",
       "0      0.331880        0.016654           0.013516          0.009632   \n",
       "0      0.620320        0.043730           0.010730          0.008280   \n",
       "0      0.537341        0.040516           0.010847          0.004031   \n",
       "0      7.095836        0.027216           0.014400          0.004536   \n",
       "\n",
       "   std_train_accuracy  std_train_roc_auc  \n",
       "0            0.001476           0.000974  \n",
       "0            0.001699           0.001109  \n",
       "0            0.001216           0.000903  \n",
       "0            0.001151           0.000453  \n",
       "0            0.002229           0.000536  "
      ]
     },
     "execution_count": 36,
     "metadata": {},
     "output_type": "execute_result"
    }
   ],
   "source": [
    "res_clinvar"
   ]
  },
  {
   "cell_type": "code",
   "execution_count": 37,
   "metadata": {},
   "outputs": [
    {
     "data": {
      "text/plain": [
       "['mmsplice_diff',\n",
       " 'mmsplice_ref_acceptorIntron',\n",
       " 'mmsplice_ref_acceptor',\n",
       " 'mmsplice_ref_exon',\n",
       " 'mmsplice_ref_donor',\n",
       " 'mmsplice_ref_donorIntron',\n",
       " 'mmsplice_alt_acceptorIntron',\n",
       " 'mmsplice_alt_acceptor',\n",
       " 'mmsplice_alt_exon',\n",
       " 'mmsplice_alt_donor',\n",
       " 'mmsplice_alt_donorIntron',\n",
       " 'mmsplice_exon_overlap',\n",
       " 'mmsplice_acceptor_intron_overlap',\n",
       " 'mmsplice_donor_intron_overlap']"
      ]
     },
     "execution_count": 37,
     "metadata": {},
     "output_type": "execute_result"
    }
   ],
   "source": [
    "MMSplice_features"
   ]
  },
  {
   "cell_type": "code",
   "execution_count": 38,
   "metadata": {},
   "outputs": [],
   "source": [
    "res_clinvar = res_clinvar.append(evaluate(X_clinvar, y_clinvar, clinvar_kipoi_features + spidex_feat + MMSplice_features, \n",
    "                                          model=model,\n",
    "                                          model_name=\"KipoiSplice5 w/ cons.\"))"
   ]
  },
  {
   "cell_type": "code",
   "execution_count": 39,
   "metadata": {},
   "outputs": [],
   "source": [
    "res_clinvar = res_clinvar.append(evaluate(X_clinvar, y_clinvar, spidex_feat,\n",
    "                                          model=model,\n",
    "                                          model_name=\"SPANR\"))"
   ]
  },
  {
   "cell_type": "code",
   "execution_count": 40,
   "metadata": {},
   "outputs": [],
   "source": [
    "res_clinvar = res_clinvar.append(evaluate(X_clinvar, y_clinvar, spidex_feat + conservation_features,\n",
    "                                          model=model,\n",
    "                                          model_name=\"SPANR w/ cons.\"))"
   ]
  },
  {
   "cell_type": "code",
   "execution_count": 41,
   "metadata": {},
   "outputs": [],
   "source": [
    "res_clinvar = res_clinvar.append(evaluate(X_clinvar, y_clinvar, MMSplice_features,\n",
    "                                          model=model,\n",
    "                                          model_name=\"MMSplice\"))"
   ]
  },
  {
   "cell_type": "code",
   "execution_count": 42,
   "metadata": {},
   "outputs": [],
   "source": [
    "res_clinvar = res_clinvar.append(evaluate(X_clinvar, y_clinvar, MMSplice_features + conservation_features,\n",
    "                                          model=model,\n",
    "                                          model_name=\"MMSplice w/ cons.\"))"
   ]
  },
  {
   "cell_type": "code",
   "execution_count": 43,
   "metadata": {},
   "outputs": [
    {
     "data": {
      "text/html": [
       "<div>\n",
       "<style scoped>\n",
       "    .dataframe tbody tr th:only-of-type {\n",
       "        vertical-align: middle;\n",
       "    }\n",
       "\n",
       "    .dataframe tbody tr th {\n",
       "        vertical-align: top;\n",
       "    }\n",
       "\n",
       "    .dataframe thead th {\n",
       "        text-align: right;\n",
       "    }\n",
       "</style>\n",
       "<table border=\"1\" class=\"dataframe\">\n",
       "  <thead>\n",
       "    <tr style=\"text-align: right;\">\n",
       "      <th></th>\n",
       "      <th>mean_fit_time</th>\n",
       "      <th>mean_score_time</th>\n",
       "      <th>mean_test_accuracy</th>\n",
       "      <th>mean_test_roc_auc</th>\n",
       "      <th>mean_train_accuracy</th>\n",
       "      <th>mean_train_roc_auc</th>\n",
       "      <th>model_name</th>\n",
       "      <th>std_fit_time</th>\n",
       "      <th>std_score_time</th>\n",
       "      <th>std_test_accuracy</th>\n",
       "      <th>std_test_roc_auc</th>\n",
       "      <th>std_train_accuracy</th>\n",
       "      <th>std_train_roc_auc</th>\n",
       "    </tr>\n",
       "  </thead>\n",
       "  <tbody>\n",
       "    <tr>\n",
       "      <th>0</th>\n",
       "      <td>3.159491</td>\n",
       "      <td>0.026368</td>\n",
       "      <td>0.745592</td>\n",
       "      <td>0.779734</td>\n",
       "      <td>0.745642</td>\n",
       "      <td>0.779730</td>\n",
       "      <td>MaxEntScan/3prime</td>\n",
       "      <td>0.350036</td>\n",
       "      <td>0.018622</td>\n",
       "      <td>0.012685</td>\n",
       "      <td>0.009475</td>\n",
       "      <td>0.001476</td>\n",
       "      <td>0.000974</td>\n",
       "    </tr>\n",
       "    <tr>\n",
       "      <th>0</th>\n",
       "      <td>3.521396</td>\n",
       "      <td>0.028753</td>\n",
       "      <td>0.832474</td>\n",
       "      <td>0.896028</td>\n",
       "      <td>0.832810</td>\n",
       "      <td>0.896443</td>\n",
       "      <td>MaxEntScan/5prime</td>\n",
       "      <td>0.331880</td>\n",
       "      <td>0.016654</td>\n",
       "      <td>0.013516</td>\n",
       "      <td>0.009632</td>\n",
       "      <td>0.001699</td>\n",
       "      <td>0.001109</td>\n",
       "    </tr>\n",
       "    <tr>\n",
       "      <th>0</th>\n",
       "      <td>5.181367</td>\n",
       "      <td>0.074637</td>\n",
       "      <td>0.834157</td>\n",
       "      <td>0.906214</td>\n",
       "      <td>0.834469</td>\n",
       "      <td>0.906798</td>\n",
       "      <td>HAL</td>\n",
       "      <td>0.620320</td>\n",
       "      <td>0.043730</td>\n",
       "      <td>0.010730</td>\n",
       "      <td>0.008280</td>\n",
       "      <td>0.001216</td>\n",
       "      <td>0.000903</td>\n",
       "    </tr>\n",
       "    <tr>\n",
       "      <th>0</th>\n",
       "      <td>6.036655</td>\n",
       "      <td>0.071322</td>\n",
       "      <td>0.842744</td>\n",
       "      <td>0.927893</td>\n",
       "      <td>0.843190</td>\n",
       "      <td>0.928425</td>\n",
       "      <td>labranchor (KipoiSplice4)</td>\n",
       "      <td>0.537341</td>\n",
       "      <td>0.040516</td>\n",
       "      <td>0.010847</td>\n",
       "      <td>0.004031</td>\n",
       "      <td>0.001151</td>\n",
       "      <td>0.000453</td>\n",
       "    </tr>\n",
       "    <tr>\n",
       "      <th>0</th>\n",
       "      <td>37.988574</td>\n",
       "      <td>0.073585</td>\n",
       "      <td>0.872144</td>\n",
       "      <td>0.953564</td>\n",
       "      <td>0.873853</td>\n",
       "      <td>0.954744</td>\n",
       "      <td>mmsplice</td>\n",
       "      <td>7.095836</td>\n",
       "      <td>0.027216</td>\n",
       "      <td>0.014400</td>\n",
       "      <td>0.004536</td>\n",
       "      <td>0.002229</td>\n",
       "      <td>0.000536</td>\n",
       "    </tr>\n",
       "    <tr>\n",
       "      <th>0</th>\n",
       "      <td>26.124957</td>\n",
       "      <td>0.137398</td>\n",
       "      <td>0.944003</td>\n",
       "      <td>0.978704</td>\n",
       "      <td>0.944657</td>\n",
       "      <td>0.979723</td>\n",
       "      <td>KipoiSplice5 w/ cons.</td>\n",
       "      <td>3.903458</td>\n",
       "      <td>0.052763</td>\n",
       "      <td>0.007184</td>\n",
       "      <td>0.005602</td>\n",
       "      <td>0.000940</td>\n",
       "      <td>0.000594</td>\n",
       "    </tr>\n",
       "    <tr>\n",
       "      <th>0</th>\n",
       "      <td>2.666498</td>\n",
       "      <td>0.048773</td>\n",
       "      <td>0.754084</td>\n",
       "      <td>0.820490</td>\n",
       "      <td>0.754353</td>\n",
       "      <td>0.820813</td>\n",
       "      <td>SPANR</td>\n",
       "      <td>0.538807</td>\n",
       "      <td>0.035998</td>\n",
       "      <td>0.012646</td>\n",
       "      <td>0.012347</td>\n",
       "      <td>0.001598</td>\n",
       "      <td>0.001387</td>\n",
       "    </tr>\n",
       "    <tr>\n",
       "      <th>0</th>\n",
       "      <td>4.492783</td>\n",
       "      <td>0.045935</td>\n",
       "      <td>0.852822</td>\n",
       "      <td>0.920389</td>\n",
       "      <td>0.853549</td>\n",
       "      <td>0.920716</td>\n",
       "      <td>SPANR w/ cons.</td>\n",
       "      <td>0.496884</td>\n",
       "      <td>0.025525</td>\n",
       "      <td>0.007306</td>\n",
       "      <td>0.004797</td>\n",
       "      <td>0.000658</td>\n",
       "      <td>0.000493</td>\n",
       "    </tr>\n",
       "    <tr>\n",
       "      <th>0</th>\n",
       "      <td>30.575840</td>\n",
       "      <td>0.056467</td>\n",
       "      <td>0.839757</td>\n",
       "      <td>0.938853</td>\n",
       "      <td>0.842142</td>\n",
       "      <td>0.940133</td>\n",
       "      <td>MMSplice</td>\n",
       "      <td>6.843838</td>\n",
       "      <td>0.030113</td>\n",
       "      <td>0.010673</td>\n",
       "      <td>0.006326</td>\n",
       "      <td>0.001487</td>\n",
       "      <td>0.000754</td>\n",
       "    </tr>\n",
       "    <tr>\n",
       "      <th>0</th>\n",
       "      <td>22.127516</td>\n",
       "      <td>0.085036</td>\n",
       "      <td>0.930751</td>\n",
       "      <td>0.972510</td>\n",
       "      <td>0.931716</td>\n",
       "      <td>0.973183</td>\n",
       "      <td>MMSplice w/ cons.</td>\n",
       "      <td>3.945723</td>\n",
       "      <td>0.053475</td>\n",
       "      <td>0.007183</td>\n",
       "      <td>0.003721</td>\n",
       "      <td>0.000767</td>\n",
       "      <td>0.000446</td>\n",
       "    </tr>\n",
       "  </tbody>\n",
       "</table>\n",
       "</div>"
      ],
      "text/plain": [
       "   mean_fit_time  mean_score_time  mean_test_accuracy  mean_test_roc_auc  \\\n",
       "0       3.159491         0.026368            0.745592           0.779734   \n",
       "0       3.521396         0.028753            0.832474           0.896028   \n",
       "0       5.181367         0.074637            0.834157           0.906214   \n",
       "0       6.036655         0.071322            0.842744           0.927893   \n",
       "0      37.988574         0.073585            0.872144           0.953564   \n",
       "0      26.124957         0.137398            0.944003           0.978704   \n",
       "0       2.666498         0.048773            0.754084           0.820490   \n",
       "0       4.492783         0.045935            0.852822           0.920389   \n",
       "0      30.575840         0.056467            0.839757           0.938853   \n",
       "0      22.127516         0.085036            0.930751           0.972510   \n",
       "\n",
       "   mean_train_accuracy  mean_train_roc_auc                 model_name  \\\n",
       "0             0.745642            0.779730          MaxEntScan/3prime   \n",
       "0             0.832810            0.896443          MaxEntScan/5prime   \n",
       "0             0.834469            0.906798                        HAL   \n",
       "0             0.843190            0.928425  labranchor (KipoiSplice4)   \n",
       "0             0.873853            0.954744                   mmsplice   \n",
       "0             0.944657            0.979723      KipoiSplice5 w/ cons.   \n",
       "0             0.754353            0.820813                      SPANR   \n",
       "0             0.853549            0.920716             SPANR w/ cons.   \n",
       "0             0.842142            0.940133                   MMSplice   \n",
       "0             0.931716            0.973183          MMSplice w/ cons.   \n",
       "\n",
       "   std_fit_time  std_score_time  std_test_accuracy  std_test_roc_auc  \\\n",
       "0      0.350036        0.018622           0.012685          0.009475   \n",
       "0      0.331880        0.016654           0.013516          0.009632   \n",
       "0      0.620320        0.043730           0.010730          0.008280   \n",
       "0      0.537341        0.040516           0.010847          0.004031   \n",
       "0      7.095836        0.027216           0.014400          0.004536   \n",
       "0      3.903458        0.052763           0.007184          0.005602   \n",
       "0      0.538807        0.035998           0.012646          0.012347   \n",
       "0      0.496884        0.025525           0.007306          0.004797   \n",
       "0      6.843838        0.030113           0.010673          0.006326   \n",
       "0      3.945723        0.053475           0.007183          0.003721   \n",
       "\n",
       "   std_train_accuracy  std_train_roc_auc  \n",
       "0            0.001476           0.000974  \n",
       "0            0.001699           0.001109  \n",
       "0            0.001216           0.000903  \n",
       "0            0.001151           0.000453  \n",
       "0            0.002229           0.000536  \n",
       "0            0.000940           0.000594  \n",
       "0            0.001598           0.001387  \n",
       "0            0.000658           0.000493  \n",
       "0            0.001487           0.000754  \n",
       "0            0.000767           0.000446  "
      ]
     },
     "execution_count": 43,
     "metadata": {},
     "output_type": "execute_result"
    }
   ],
   "source": [
    "res_clinvar"
   ]
  },
  {
   "cell_type": "markdown",
   "metadata": {},
   "source": [
    "## Plot"
   ]
  },
  {
   "cell_type": "code",
   "execution_count": 44,
   "metadata": {},
   "outputs": [],
   "source": [
    "cm = plt.get_cmap('tab10')"
   ]
  },
  {
   "cell_type": "code",
   "execution_count": 45,
   "metadata": {},
   "outputs": [],
   "source": [
    "kipoi_model_names = [\n",
    "    'MaxEntScan/3prime',\n",
    "     '+MaxEntScan/5prime',\n",
    "     '+HAL',\n",
    "     '+labranchor',\n",
    "     '+MMSplice',\n",
    "     '+conservation (KipoiSplice5)']"
   ]
  },
  {
   "cell_type": "code",
   "execution_count": 46,
   "metadata": {},
   "outputs": [
    {
     "data": {
      "text/plain": [
       "0            MaxEntScan/3prime\n",
       "0            MaxEntScan/5prime\n",
       "0                          HAL\n",
       "0    labranchor (KipoiSplice4)\n",
       "0                     mmsplice\n",
       "0        KipoiSplice5 w/ cons.\n",
       "0                        SPANR\n",
       "0               SPANR w/ cons.\n",
       "0                     MMSplice\n",
       "0            MMSplice w/ cons.\n",
       "Name: model_name, dtype: object"
      ]
     },
     "execution_count": 46,
     "metadata": {},
     "output_type": "execute_result"
    }
   ],
   "source": [
    "res_clinvar.model_name"
   ]
  },
  {
   "cell_type": "code",
   "execution_count": 47,
   "metadata": {},
   "outputs": [],
   "source": [
    "other_model_names = list(res_clinvar.model_name[6:])"
   ]
  },
  {
   "cell_type": "code",
   "execution_count": 48,
   "metadata": {},
   "outputs": [
    {
     "data": {
      "image/png": "[encoded data removed]",
      "text/plain": [
       "<Figure size 432x288 with 1 Axes>"
      ]
     },
     "execution_count": 48,
     "metadata": {},
     "output_type": "execute_result"
    }
   ],
   "source": [
    "fig=plt.figure(figsize=(6, 4))\n",
    "fig.subplots_adjust(bottom=0.3, left=0.1)\n",
    "plt.subplot(111)\n",
    "col1 = cm.colors[0]\n",
    "col2 = cm.colors[1]\n",
    "tilt = 30\n",
    "plt.errorbar(kipoi_model_names, res_clinvar.mean_test_roc_auc[:6], yerr=res_clinvar.std_test_roc_auc[:6], fmt='p--', color=col1)\n",
    "#plt.errorbar(res_clinvar.model_name[4:5], res_clinvar.mean_test_roc_auc[4:5], yerr=res_clinvar.std_test_roc_auc[4:5], fmt='o', color=col1)\n",
    "plt.errorbar(other_model_names, res_clinvar.mean_test_roc_auc[6:], yerr=res_clinvar.std_test_roc_auc[6:], fmt='o', color=col2)\n",
    "plt.title(\"ClinVar\")\n",
    "plt.grid(alpha=0.4)\n",
    "plt.ylim((None, 1))\n",
    "plt.ylabel(\"auROC\")\n",
    "plt.xticks(rotation=tilt, horizontalalignment=\"right\");\n",
    "#plt.tight_layout(h_pad=0);\n",
    "# plt.savefig('clinvar_20180429.pdf', dpi=600)\n",
    "plt.close(fig)    # close the figure\n",
    "fig"
   ]
  },
  {
   "cell_type": "code",
   "execution_count": null,
   "metadata": {},
   "outputs": [],
   "source": []
  }
 ],
 "metadata": {
  "kernelspec": {
   "display_name": "Python [conda env:splicing]",
   "language": "python",
   "name": "conda-env-splicing-py"
  },
  "language_info": {
   "codemirror_mode": {
    "name": "ipython",
    "version": 3
   },
   "file_extension": ".py",
   "mimetype": "text/x-python",
   "name": "python",
   "nbconvert_exporter": "python",
   "pygments_lexer": "ipython3",
   "version": "3.6.0"
  }
 },
 "nbformat": 4,
 "nbformat_minor": 2
}
