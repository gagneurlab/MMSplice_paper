{
 "cells": [
  {
   "cell_type": "markdown",
   "metadata": {},
   "source": [
    "## Load variants and PSIs"
   ]
  },
  {
   "cell_type": "code",
   "execution_count": 1,
   "metadata": {},
   "outputs": [],
   "source": [
    "import pandas as pd\n",
    "projectDIR = \"../../data/gtex/\""
   ]
  },
  {
   "cell_type": "code",
   "execution_count": 2,
   "metadata": {},
   "outputs": [],
   "source": [
    "df = pd.read_csv(projectDIR + 'A3SS_PSI.csv', index_col=0)\n",
    "df = df.reset_index()"
   ]
  },
  {
   "cell_type": "code",
   "execution_count": 3,
   "metadata": {},
   "outputs": [],
   "source": [
    "df['VARIANT'] = df.CHROM.map(str) + '_' + df.variant_position.map(str) + '_' + df.REF + '_' + df.ALT"
   ]
  },
  {
   "cell_type": "code",
   "execution_count": 4,
   "metadata": {},
   "outputs": [],
   "source": [
    "df['ID'] = df.event_name + df.VARIANT"
   ]
  },
  {
   "cell_type": "markdown",
   "metadata": {},
   "source": [
    "## Split into variant-exon pair format for the two alternative exons"
   ]
  },
  {
   "cell_type": "code",
   "execution_count": 5,
   "metadata": {},
   "outputs": [
    {
     "data": {
      "text/html": [
       "<div>\n",
       "<style scoped>\n",
       "    .dataframe tbody tr th:only-of-type {\n",
       "        vertical-align: middle;\n",
       "    }\n",
       "\n",
       "    .dataframe tbody tr th {\n",
       "        vertical-align: top;\n",
       "    }\n",
       "\n",
       "    .dataframe thead th {\n",
       "        text-align: right;\n",
       "    }\n",
       "</style>\n",
       "<table border=\"1\" class=\"dataframe\">\n",
       "  <thead>\n",
       "    <tr style=\"text-align: right;\">\n",
       "      <th></th>\n",
       "      <th>index</th>\n",
       "      <th>event_name</th>\n",
       "      <th>CHROM</th>\n",
       "      <th>variant_position</th>\n",
       "      <th>REF</th>\n",
       "      <th>ALT</th>\n",
       "      <th>HETERO_MEAN</th>\n",
       "      <th>WT_MEAN</th>\n",
       "      <th>HOMO_MEAN</th>\n",
       "      <th>VARIANT</th>\n",
       "      <th>ID</th>\n",
       "    </tr>\n",
       "  </thead>\n",
       "  <tbody>\n",
       "    <tr>\n",
       "      <th>0</th>\n",
       "      <td>0</td>\n",
       "      <td>chr21:45173464:45173600:+@chr21:45175358|45175...</td>\n",
       "      <td>21</td>\n",
       "      <td>45175571</td>\n",
       "      <td>C</td>\n",
       "      <td>A</td>\n",
       "      <td>0.017500</td>\n",
       "      <td>0.017569</td>\n",
       "      <td>NaN</td>\n",
       "      <td>21_45175571_C_A</td>\n",
       "      <td>chr21:45173464:45173600:+@chr21:45175358|45175...</td>\n",
       "    </tr>\n",
       "    <tr>\n",
       "      <th>1</th>\n",
       "      <td>1</td>\n",
       "      <td>chr16:11935764:11935857:-@chr16:11935674|11935...</td>\n",
       "      <td>16</td>\n",
       "      <td>11935684</td>\n",
       "      <td>CAAAGA</td>\n",
       "      <td>C</td>\n",
       "      <td>0.908182</td>\n",
       "      <td>0.915887</td>\n",
       "      <td>NaN</td>\n",
       "      <td>16_11935684_CAAAGA_C</td>\n",
       "      <td>chr16:11935764:11935857:-@chr16:11935674|11935...</td>\n",
       "    </tr>\n",
       "    <tr>\n",
       "      <th>2</th>\n",
       "      <td>2</td>\n",
       "      <td>chr16:50821697:50821763:+@chr16:50825469|50825...</td>\n",
       "      <td>16</td>\n",
       "      <td>50825459</td>\n",
       "      <td>G</td>\n",
       "      <td>A</td>\n",
       "      <td>0.772308</td>\n",
       "      <td>0.765786</td>\n",
       "      <td>NaN</td>\n",
       "      <td>16_50825459_G_A</td>\n",
       "      <td>chr16:50821697:50821763:+@chr16:50825469|50825...</td>\n",
       "    </tr>\n",
       "    <tr>\n",
       "      <th>3</th>\n",
       "      <td>3</td>\n",
       "      <td>chr16:89619387:89619543:+@chr16:89620147|89620...</td>\n",
       "      <td>16</td>\n",
       "      <td>89620148</td>\n",
       "      <td>A</td>\n",
       "      <td>G</td>\n",
       "      <td>0.029091</td>\n",
       "      <td>0.024246</td>\n",
       "      <td>NaN</td>\n",
       "      <td>16_89620148_A_G</td>\n",
       "      <td>chr16:89619387:89619543:+@chr16:89620147|89620...</td>\n",
       "    </tr>\n",
       "    <tr>\n",
       "      <th>4</th>\n",
       "      <td>4</td>\n",
       "      <td>chr19:19030484:19030665:+@chr19:19031389|19031...</td>\n",
       "      <td>19</td>\n",
       "      <td>19031444</td>\n",
       "      <td>C</td>\n",
       "      <td>T</td>\n",
       "      <td>0.781667</td>\n",
       "      <td>0.850264</td>\n",
       "      <td>NaN</td>\n",
       "      <td>19_19031444_C_T</td>\n",
       "      <td>chr19:19030484:19030665:+@chr19:19031389|19031...</td>\n",
       "    </tr>\n",
       "  </tbody>\n",
       "</table>\n",
       "</div>"
      ],
      "text/plain": [
       "   index                                         event_name  CHROM  \\\n",
       "0      0  chr21:45173464:45173600:+@chr21:45175358|45175...     21   \n",
       "1      1  chr16:11935764:11935857:-@chr16:11935674|11935...     16   \n",
       "2      2  chr16:50821697:50821763:+@chr16:50825469|50825...     16   \n",
       "3      3  chr16:89619387:89619543:+@chr16:89620147|89620...     16   \n",
       "4      4  chr19:19030484:19030665:+@chr19:19031389|19031...     19   \n",
       "\n",
       "   variant_position     REF ALT  HETERO_MEAN   WT_MEAN  HOMO_MEAN  \\\n",
       "0          45175571       C   A     0.017500  0.017569        NaN   \n",
       "1          11935684  CAAAGA   C     0.908182  0.915887        NaN   \n",
       "2          50825459       G   A     0.772308  0.765786        NaN   \n",
       "3          89620148       A   G     0.029091  0.024246        NaN   \n",
       "4          19031444       C   T     0.781667  0.850264        NaN   \n",
       "\n",
       "                VARIANT                                                 ID  \n",
       "0       21_45175571_C_A  chr21:45173464:45173600:+@chr21:45175358|45175...  \n",
       "1  16_11935684_CAAAGA_C  chr16:11935764:11935857:-@chr16:11935674|11935...  \n",
       "2       16_50825459_G_A  chr16:50821697:50821763:+@chr16:50825469|50825...  \n",
       "3       16_89620148_A_G  chr16:89619387:89619543:+@chr16:89620147|89620...  \n",
       "4       19_19031444_C_T  chr19:19030484:19030665:+@chr19:19031389|19031...  "
      ]
     },
     "execution_count": 5,
     "metadata": {},
     "output_type": "execute_result"
    }
   ],
   "source": [
    "df.head()"
   ]
  },
  {
   "cell_type": "code",
   "execution_count": 6,
   "metadata": {},
   "outputs": [],
   "source": [
    "def get_alt_exon(event_name, SA1=True):\n",
    "    ''' Give coordinates of SA1 or SA2\n",
    "    '''\n",
    "    strand = event_name[-1]\n",
    "    event_split = event_name.split(\":\")\n",
    "    chrom = event_split[0]\n",
    "    if strand == \"+\":\n",
    "        end = event_split[-2]\n",
    "        if SA1:\n",
    "            start = event_split[-3].split('|')[0]\n",
    "        else:\n",
    "            start = event_split[-3].split('|')[1]\n",
    "    else:\n",
    "        if SA1:\n",
    "            end = event_split[-3].split('|')[1]\n",
    "        else:\n",
    "            end = event_split[-3].split('|')[0]\n",
    "        start = event_split[-2]\n",
    "    return chrom, start, end, strand"
   ]
  },
  {
   "cell_type": "code",
   "execution_count": 7,
   "metadata": {},
   "outputs": [],
   "source": [
    "from copy import deepcopy\n",
    "df_SA1 = deepcopy(df)\n",
    "df_SA2 = deepcopy(df)"
   ]
  },
  {
   "cell_type": "code",
   "execution_count": 8,
   "metadata": {},
   "outputs": [],
   "source": [
    "df_SA1['seqnames'], df_SA1['exon_start'], df_SA1['exon_end'], df_SA1['strand'] = zip(*df.event_name.apply(get_alt_exon))"
   ]
  },
  {
   "cell_type": "code",
   "execution_count": 9,
   "metadata": {},
   "outputs": [],
   "source": [
    "df_SA1 = df_SA1[['event_name', 'VARIANT', 'seqnames', 'exon_start', 'exon_end', 'strand', 'variant_position', 'REF', 'ALT', 'ID']]"
   ]
  },
  {
   "cell_type": "code",
   "execution_count": 10,
   "metadata": {},
   "outputs": [],
   "source": [
    "df_SA1.to_csv(projectDIR+'A3SS_SA1_variant.csv')"
   ]
  },
  {
   "cell_type": "code",
   "execution_count": 11,
   "metadata": {},
   "outputs": [],
   "source": [
    "df_SA2['seqnames'], df_SA2['exon_start'], df_SA2['exon_end'], df_SA2['strand'] = zip(*df.event_name.apply(lambda x: get_alt_exon(x, SA1=False)))"
   ]
  },
  {
   "cell_type": "code",
   "execution_count": 12,
   "metadata": {},
   "outputs": [],
   "source": [
    "df_SA2 = df_SA2[['event_name', 'VARIANT', 'seqnames', 'exon_start', 'exon_end', 'strand', 'variant_position', 'REF', 'ALT', 'ID']]"
   ]
  },
  {
   "cell_type": "code",
   "execution_count": 13,
   "metadata": {},
   "outputs": [],
   "source": [
    "df_SA2.to_csv(projectDIR+'A3SS_SA2_variant.csv')"
   ]
  },
  {
   "cell_type": "code",
   "execution_count": null,
   "metadata": {},
   "outputs": [],
   "source": []
  }
 ],
 "metadata": {
  "kernelspec": {
   "display_name": "Python [conda root]",
   "language": "python",
   "name": "conda-root-py"
  },
  "language_info": {
   "codemirror_mode": {
    "name": "ipython",
    "version": 3
   },
   "file_extension": ".py",
   "mimetype": "text/x-python",
   "name": "python",
   "nbconvert_exporter": "python",
   "pygments_lexer": "ipython3",
   "version": "3.6.3"
  }
 },
 "nbformat": 4,
 "nbformat_minor": 2
}
