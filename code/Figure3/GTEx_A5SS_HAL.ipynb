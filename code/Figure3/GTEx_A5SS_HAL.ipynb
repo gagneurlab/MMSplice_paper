{
 "cells": [
  {
   "cell_type": "markdown",
   "metadata": {},
   "source": [
    "## Predict A5SS with HAL"
   ]
  },
  {
   "cell_type": "code",
   "execution_count": 1,
   "metadata": {},
   "outputs": [
    {
     "name": "stderr",
     "output_type": "stream",
     "text": [
      "/opt/modules/i12g/anaconda/3-5.0.1/envs/mmsplice-manuscript/lib/python3.6/importlib/_bootstrap.py:219: RuntimeWarning: numpy.dtype size changed, may indicate binary incompatibility. Expected 96, got 88\n",
      "  return f(*args, **kwds)\n",
      "/opt/modules/i12g/anaconda/3-5.0.1/envs/mmsplice-manuscript/lib/python3.6/importlib/_bootstrap.py:219: RuntimeWarning: numpy.dtype size changed, may indicate binary incompatibility. Expected 96, got 88\n",
      "  return f(*args, **kwds)\n",
      "/opt/modules/i12g/anaconda/3-5.0.1/envs/mmsplice-manuscript/lib/python3.6/importlib/_bootstrap.py:219: RuntimeWarning: numpy.dtype size changed, may indicate binary incompatibility. Expected 96, got 88\n",
      "  return f(*args, **kwds)\n",
      "Using TensorFlow backend.\n",
      "/opt/modules/i12g/anaconda/3-5.0.1/envs/mmsplice-manuscript/lib/python3.6/importlib/_bootstrap.py:219: RuntimeWarning: numpy.dtype size changed, may indicate binary incompatibility. Expected 96, got 88\n",
      "  return f(*args, **kwds)\n",
      "/opt/modules/i12g/anaconda/3-5.0.1/envs/mmsplice-manuscript/lib/python3.6/site-packages/sklearn/base.py:251: UserWarning: Trying to unpickle estimator HuberRegressor from version 0.19.2 when using version 0.20.0. This might lead to breaking code or invalid results. Use at your own risk.\n",
      "  UserWarning)\n",
      "/opt/modules/i12g/anaconda/3-5.0.1/envs/mmsplice-manuscript/lib/python3.6/site-packages/sklearn/base.py:251: UserWarning: Trying to unpickle estimator StandardScaler from version 0.19.2 when using version 0.20.0. This might lead to breaking code or invalid results. Use at your own risk.\n",
      "  UserWarning)\n",
      "/opt/modules/i12g/anaconda/3-5.0.1/envs/mmsplice-manuscript/lib/python3.6/site-packages/sklearn/base.py:251: UserWarning: Trying to unpickle estimator LogisticRegression from version 0.19.2 when using version 0.20.0. This might lead to breaking code or invalid results. Use at your own risk.\n",
      "  UserWarning)\n",
      "/opt/modules/i12g/anaconda/3-5.0.1/envs/mmsplice-manuscript/lib/python3.6/site-packages/sklearn/base.py:251: UserWarning: Trying to unpickle estimator Pipeline from version 0.19.2 when using version 0.20.0. This might lead to breaking code or invalid results. Use at your own risk.\n",
      "  UserWarning)\n"
     ]
    }
   ],
   "source": [
    "import kipoi\n",
    "from kipoi.model import KerasModel\n",
    "import numpy as np\n",
    "import pandas as pd\n",
    "from scipy.stats import spearmanr, pearsonr\n",
    "import matplotlib.pyplot as plt\n",
    "%matplotlib inline \n",
    "\n",
    "from mmsplice.exon_dataloader import ExonDataset\n",
    "from mmsplice import MMSplice\n",
    "from mmsplice.generic import expit, logit\n",
    "\n",
    "from kipoi.data import DataLoader\n",
    "from kipoi.data_utils import numpy_collate\n",
    "\n",
    "from keras.models import load_model\n",
    "from concise.preprocessing import encodeDNA\n",
    "\n",
    "%load_ext autoreload\n",
    "%autoreload 2\n",
    "\n",
    "projectDIR = \"../../data/\""
   ]
  },
  {
   "cell_type": "code",
   "execution_count": 2,
   "metadata": {},
   "outputs": [],
   "source": [
    "dl1 = ExonDataset(projectDIR+\"gtex/A5SS_SD1_variant.csv\",\n",
    "                  projectDIR+\"shared/hg19.fa\", split_seq=False, overhang=(80,80))"
   ]
  },
  {
   "cell_type": "code",
   "execution_count": 3,
   "metadata": {},
   "outputs": [],
   "source": [
    "dl2 = ExonDataset(projectDIR+\"gtex/A5SS_SD2_variant.csv\",\n",
    "           projectDIR+\"shared/hg19.fa\", split_seq=False, overhang=(80,80))"
   ]
  },
  {
   "cell_type": "code",
   "execution_count": 4,
   "metadata": {},
   "outputs": [],
   "source": [
    "dl1 = DataLoader(dl1, batch_size=dl1.__len__(), collate_fn=numpy_collate, shuffle=False)\n",
    "dl1 = iter(dl1)\n",
    "dt1 = next(dl1)"
   ]
  },
  {
   "cell_type": "code",
   "execution_count": 5,
   "metadata": {},
   "outputs": [],
   "source": [
    "dl2 = DataLoader(dl2, batch_size=dl2.__len__(), collate_fn=numpy_collate, shuffle=False)\n",
    "dl2 = iter(dl2)\n",
    "dt2 = next(dl2)"
   ]
  },
  {
   "cell_type": "code",
   "execution_count": 6,
   "metadata": {},
   "outputs": [],
   "source": [
    "df = pd.read_csv(projectDIR+\"gtex/A5SS_PSI.csv\", index_col=0)\n",
    "df = df.reset_index()"
   ]
  },
  {
   "cell_type": "code",
   "execution_count": 7,
   "metadata": {},
   "outputs": [],
   "source": [
    "df['SD1_REF_SEQ'] = dt1['inputs']['seq']\n",
    "df['SD1_ALT_SEQ'] = dt1['mut_inputs']['seq']"
   ]
  },
  {
   "cell_type": "code",
   "execution_count": 8,
   "metadata": {},
   "outputs": [],
   "source": [
    "df['SD2_REF_SEQ'] = dt2['inputs']['seq']\n",
    "df['SD2_ALT_SEQ'] = dt2['mut_inputs']['seq']"
   ]
  },
  {
   "cell_type": "markdown",
   "metadata": {},
   "source": [
    "## Score with HAL and MaxEnt"
   ]
  },
  {
   "cell_type": "code",
   "execution_count": 9,
   "metadata": {},
   "outputs": [],
   "source": [
    "def getHALseq(x):\n",
    "    ''' Get HAL required sequence, only for SDs\n",
    "    '''\n",
    "    return (x.SD1_REF_SEQ[-83:-74], x.SD2_REF_SEQ[-83:-74]), (x.SD1_ALT_SEQ[-83:-74], x.SD2_ALT_SEQ[-83:-74])"
   ]
  },
  {
   "cell_type": "code",
   "execution_count": 10,
   "metadata": {},
   "outputs": [],
   "source": [
    "import scipy.io as sio\n",
    "import sys\n",
    "sys.path.append(\"/data/ouga/home/ag_gagneur/chengju/project/recods/Scripts/\")\n",
    "from dnatools import make_mer_list # got from HAL paper code\n",
    "data = sio.loadmat(projectDIR+'model_full_data.mat')\n",
    "sd_scores = pd.DataFrame(index=make_mer_list(6),data=data['Mer_scores'][:4**6*8].reshape(4**6,8)[:,2:6])"
   ]
  },
  {
   "cell_type": "code",
   "execution_count": 11,
   "metadata": {},
   "outputs": [],
   "source": [
    "def score_seq_HAL(sd_pair):\n",
    "    score = 0\n",
    "    SD1, SD2 = sd_pair\n",
    "    for b in range(4):\n",
    "        score -= sd_scores.loc[SD1[b:b+6],b]\n",
    "        score += sd_scores.loc[SD2[b:b+6],b]\n",
    "    return score"
   ]
  },
  {
   "cell_type": "code",
   "execution_count": 12,
   "metadata": {},
   "outputs": [],
   "source": [
    "from maxentpy import maxent\n",
    "def score_seq_MaxEnt(sd_pair):\n",
    "    SD1, SD2 = sd_pair\n",
    "    return maxent.score5(SD2) - maxent.score5(SD1)"
   ]
  },
  {
   "cell_type": "code",
   "execution_count": 13,
   "metadata": {},
   "outputs": [],
   "source": [
    "def score_diff(x, m='HAL', hetero=False):\n",
    "    wt, mut = getHALseq(x)\n",
    "    if m=='HAL':  \n",
    "        effect_size = score_seq_HAL(mut) - score_seq_HAL(wt)\n",
    "    else:\n",
    "        wt_score = score_seq_MaxEnt(wt)\n",
    "        mut_score = score_seq_MaxEnt(mut)\n",
    "        if hetero:\n",
    "            effect_size = (wt_score + mut_score) / 2 - wt_score\n",
    "        else:\n",
    "            effect_size = mut_score - wt_score\n",
    "    return effect_size"
   ]
  },
  {
   "cell_type": "code",
   "execution_count": 14,
   "metadata": {},
   "outputs": [],
   "source": [
    "hal_pred = df.apply(score_diff, axis=1)\n",
    "maxent_pred_homo = df.apply(lambda x: score_diff(x, m='MaxEnt', hetero=False), axis=1)\n",
    "maxent_pred_hetero = df.apply(lambda x: score_diff(x, m='MaxEnt', hetero=True), axis=1)"
   ]
  },
  {
   "cell_type": "code",
   "execution_count": 16,
   "metadata": {},
   "outputs": [],
   "source": [
    "ref_psi = df.WT_MEAN.values\n",
    "PSI_MUT = expit(logit(ref_psi)+hal_pred)"
   ]
  },
  {
   "cell_type": "code",
   "execution_count": 17,
   "metadata": {},
   "outputs": [],
   "source": [
    "df['HOMO_dPSI'] = PSI_MUT - ref_psi\n",
    "df['HETERO_dPSI'] = (PSI_MUT+ref_psi)/2 - ref_psi\n",
    "df['dMaxEnt_homo'] = maxent_pred_homo\n",
    "df['dMaxEnt_hetero'] = maxent_pred_hetero"
   ]
  },
  {
   "cell_type": "code",
   "execution_count": 18,
   "metadata": {},
   "outputs": [],
   "source": [
    "df_HOMO = df[~df.HOMO_MEAN.isna()]\n",
    "df_HETERO = df[~df.HETERO_MEAN.isna()]"
   ]
  },
  {
   "cell_type": "code",
   "execution_count": 19,
   "metadata": {},
   "outputs": [
    {
     "data": {
      "image/png": "[encoded data removed]",
      "text/plain": [
       "<Figure size 360x360 with 1 Axes>"
      ]
     },
     "metadata": {
      "needs_background": "light"
     },
     "output_type": "display_data"
    }
   ],
   "source": [
    "pred = np.concatenate([df_HOMO['HOMO_dPSI'], df_HETERO['HETERO_dPSI']])\n",
    "measured = np.concatenate([df_HOMO['HOMO_MEAN'] - df_HOMO['WT_MEAN'], df_HETERO['HETERO_MEAN'] - df_HETERO['WT_MEAN']])\n",
    "r = pearsonr(pred, measured)[0]\n",
    "\n",
    "fig = plt.figure(figsize=(5, 5))\n",
    "ax = fig.add_subplot(111)\n",
    "# ax.axis([-1,1,-1,1])\n",
    "ax.scatter(df_HOMO['HOMO_dPSI'], df_HOMO['HOMO_MEAN'] - df_HOMO['WT_MEAN'], s=5, c='b')\n",
    "ax.scatter(df_HETERO['HETERO_dPSI'], df_HETERO['HETERO_MEAN'] - df_HETERO['WT_MEAN'], s=5, c='r')\n",
    "ax.text(-0.9,0.9,'$R$=%0.2f' %r,fontsize=15,ha='left',va='top')\n",
    "ax.set_xlabel(\"Predicted DPSI\")\n",
    "ax.set_ylabel(\"Measured DPSI\")\n",
    "ax.axhline(y=0,c='k')\n",
    "ax.axvline(x=0,c='k')\n",
    "ax.spines['bottom'].set_visible(False)\n",
    "ax.spines['left'].set_visible(False)\n",
    "ax.spines['top'].set_visible(False)\n",
    "ax.spines['right'].set_visible(False)\n",
    "plt.show()"
   ]
  },
  {
   "cell_type": "code",
   "execution_count": 20,
   "metadata": {},
   "outputs": [
    {
     "data": {
      "image/png": "[encoded data removed]",
      "text/plain": [
       "<Figure size 360x360 with 1 Axes>"
      ]
     },
     "metadata": {
      "needs_background": "light"
     },
     "output_type": "display_data"
    }
   ],
   "source": [
    "pred = np.concatenate([df_HOMO['dMaxEnt_homo'], df_HETERO['dMaxEnt_hetero']])\n",
    "measured = np.concatenate([df_HOMO['HOMO_MEAN'] - df_HOMO['WT_MEAN'], df_HETERO['HETERO_MEAN'] - df_HETERO['WT_MEAN']])\n",
    "r = pearsonr(pred, measured)[0]\n",
    "\n",
    "fig = plt.figure(figsize=(5, 5))\n",
    "ax = fig.add_subplot(111)\n",
    "# ax.axis([-1,1,-1,1])\n",
    "ax.scatter(df_HOMO['dMaxEnt_homo'], df_HOMO['HOMO_MEAN'] - df_HOMO['WT_MEAN'], s=5, c='b')\n",
    "ax.scatter(df_HETERO['dMaxEnt_hetero'], df_HETERO['HETERO_MEAN'] - df_HETERO['WT_MEAN'], s=5, c='r')\n",
    "ax.text(-15,0.9,'$R$=%0.2f' %r,fontsize=15,ha='left',va='top')\n",
    "ax.set_xlabel(\"Predicted DPSI\")\n",
    "ax.set_ylabel(\"Measured DPSI\")\n",
    "ax.axhline(y=0,c='k')\n",
    "ax.axvline(x=0,c='k')\n",
    "ax.spines['bottom'].set_visible(False)\n",
    "ax.spines['left'].set_visible(False)\n",
    "ax.spines['top'].set_visible(False)\n",
    "ax.spines['right'].set_visible(False)\n",
    "plt.show()"
   ]
  },
  {
   "cell_type": "code",
   "execution_count": 21,
   "metadata": {},
   "outputs": [],
   "source": [
    "df_HOMO.to_csv(projectDIR + \"gtex/HAL_SD_HOMO.csv\")\n",
    "df_HETERO.to_csv(projectDIR + \"gtex/HAL_SD_HETERO.csv\")"
   ]
  },
  {
   "cell_type": "code",
   "execution_count": null,
   "metadata": {},
   "outputs": [],
   "source": []
  }
 ],
 "metadata": {
  "kernelspec": {
   "display_name": "Python [conda env:mmsplice-manuscript]",
   "language": "python",
   "name": "conda-env-mmsplice-manuscript-py"
  },
  "language_info": {
   "codemirror_mode": {
    "name": "ipython",
    "version": 3
   },
   "file_extension": ".py",
   "mimetype": "text/x-python",
   "name": "python",
   "nbconvert_exporter": "python",
   "pygments_lexer": "ipython3",
   "version": "3.6.6"
  }
 },
 "nbformat": 4,
 "nbformat_minor": 2
}
