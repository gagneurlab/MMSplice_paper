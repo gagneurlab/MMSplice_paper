{
 "cells": [
  {
   "cell_type": "markdown",
   "metadata": {},
   "source": [
    "## Load variants and PSIs"
   ]
  },
  {
   "cell_type": "code",
   "execution_count": 1,
   "metadata": {},
   "outputs": [],
   "source": [
    "import pandas as pd"
   ]
  },
  {
   "cell_type": "code",
   "execution_count": 2,
   "metadata": {},
   "outputs": [],
   "source": [
    "projectDIR = \"../../data/gtex/\""
   ]
  },
  {
   "cell_type": "code",
   "execution_count": 3,
   "metadata": {},
   "outputs": [],
   "source": [
    "df = pd.read_csv(projectDIR + 'A5SS_PSI.csv', index_col=0)"
   ]
  },
  {
   "cell_type": "code",
   "execution_count": 4,
   "metadata": {},
   "outputs": [],
   "source": [
    "df['VARIANT'] = df.CHROM.map(str) + '_' + df.variant_position.map(str) + '_' + df.REF + '_' + df.ALT"
   ]
  },
  {
   "cell_type": "code",
   "execution_count": 5,
   "metadata": {},
   "outputs": [],
   "source": [
    "df['ID'] = df.event_name + df.VARIANT"
   ]
  },
  {
   "cell_type": "markdown",
   "metadata": {},
   "source": [
    "## Split into variant-exon pair format for the two alternative exons"
   ]
  },
  {
   "cell_type": "code",
   "execution_count": 6,
   "metadata": {},
   "outputs": [],
   "source": [
    "def get_alt_exon(event_name, SD1=True):\n",
    "    ''' Give coordinates of the two alternative exons\n",
    "    '''\n",
    "    strand = event_name[-1]\n",
    "    event_split = event_name.split(\":\")\n",
    "    chrom = event_split[0]\n",
    "    if strand == \"+\":\n",
    "        start = event_split[1]\n",
    "        if SD1:\n",
    "            end = event_split[2].split('|')[0]\n",
    "        else:\n",
    "            end = event_split[2].split('|')[1]\n",
    "    else:\n",
    "        if SD1:\n",
    "            start = event_split[2].split('|')[1]\n",
    "        else:\n",
    "            start = event_split[2].split('|')[0]\n",
    "        end = event_split[1]\n",
    "    return chrom, start, end, strand"
   ]
  },
  {
   "cell_type": "code",
   "execution_count": 7,
   "metadata": {},
   "outputs": [],
   "source": [
    "from copy import deepcopy\n",
    "df_SD1 = deepcopy(df)\n",
    "df_SD2 = deepcopy(df)"
   ]
  },
  {
   "cell_type": "code",
   "execution_count": 8,
   "metadata": {},
   "outputs": [],
   "source": [
    "df_SD1['seqnames'], df_SD1['exon_start'], df_SD1['exon_end'], df_SD1['strand'] = zip(*df.event_name.apply(get_alt_exon))"
   ]
  },
  {
   "cell_type": "code",
   "execution_count": 9,
   "metadata": {},
   "outputs": [],
   "source": [
    "df_SD1 = df_SD1[['event_name', 'VARIANT', 'seqnames', 'exon_start', 'exon_end', 'strand', 'variant_position', 'REF', 'ALT', 'ID']]"
   ]
  },
  {
   "cell_type": "code",
   "execution_count": 10,
   "metadata": {},
   "outputs": [],
   "source": [
    "df_SD1.to_csv(projectDIR + 'A5SS_SD1_variant.csv')"
   ]
  },
  {
   "cell_type": "code",
   "execution_count": 11,
   "metadata": {},
   "outputs": [],
   "source": [
    "df_SD2['seqnames'], df_SD2['exon_start'], df_SD2['exon_end'], df_SD2['strand'] = zip(*df.event_name.apply(lambda x: get_alt_exon(x, SD1=False)))"
   ]
  },
  {
   "cell_type": "code",
   "execution_count": 12,
   "metadata": {},
   "outputs": [],
   "source": [
    "df_SD2 = df_SD2[['event_name', 'VARIANT', 'seqnames', 'exon_start', 'exon_end', 'strand', 'variant_position', 'REF', 'ALT', 'ID']]"
   ]
  },
  {
   "cell_type": "code",
   "execution_count": 13,
   "metadata": {},
   "outputs": [],
   "source": [
    "df_SD2.to_csv(projectDIR+'A5SS_SD2_variant.csv')"
   ]
  },
  {
   "cell_type": "code",
   "execution_count": null,
   "metadata": {},
   "outputs": [],
   "source": []
  }
 ],
 "metadata": {
  "kernelspec": {
   "display_name": "Python [conda root]",
   "language": "python",
   "name": "conda-root-py"
  },
  "language_info": {
   "codemirror_mode": {
    "name": "ipython",
    "version": 3
   },
   "file_extension": ".py",
   "mimetype": "text/x-python",
   "name": "python",
   "nbconvert_exporter": "python",
   "pygments_lexer": "ipython3",
   "version": "3.6.3"
  }
 },
 "nbformat": 4,
 "nbformat_minor": 2
}
