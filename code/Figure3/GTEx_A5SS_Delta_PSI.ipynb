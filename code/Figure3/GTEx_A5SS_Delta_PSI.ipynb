{
 "cells": [
  {
   "cell_type": "markdown",
   "metadata": {},
   "source": [
    "## Predict delta PSI of GTEx A5SS events"
   ]
  },
  {
   "cell_type": "code",
   "execution_count": 1,
   "metadata": {},
   "outputs": [
    {
     "name": "stderr",
     "output_type": "stream",
     "text": [
      "/opt/modules/i12g/anaconda/3-5.0.1/envs/mmsplice-manuscript/lib/python3.6/importlib/_bootstrap.py:219: RuntimeWarning: numpy.dtype size changed, may indicate binary incompatibility. Expected 96, got 88\n",
      "  return f(*args, **kwds)\n",
      "/opt/modules/i12g/anaconda/3-5.0.1/envs/mmsplice-manuscript/lib/python3.6/importlib/_bootstrap.py:219: RuntimeWarning: numpy.dtype size changed, may indicate binary incompatibility. Expected 96, got 88\n",
      "  return f(*args, **kwds)\n",
      "/opt/modules/i12g/anaconda/3-5.0.1/envs/mmsplice-manuscript/lib/python3.6/importlib/_bootstrap.py:219: RuntimeWarning: numpy.dtype size changed, may indicate binary incompatibility. Expected 96, got 88\n",
      "  return f(*args, **kwds)\n",
      "Using TensorFlow backend.\n",
      "/opt/modules/i12g/anaconda/3-5.0.1/envs/mmsplice-manuscript/lib/python3.6/site-packages/sklearn/base.py:251: UserWarning: Trying to unpickle estimator HuberRegressor from version 0.19.2 when using version 0.20.0. This might lead to breaking code or invalid results. Use at your own risk.\n",
      "  UserWarning)\n",
      "/opt/modules/i12g/anaconda/3-5.0.1/envs/mmsplice-manuscript/lib/python3.6/site-packages/sklearn/base.py:251: UserWarning: Trying to unpickle estimator StandardScaler from version 0.19.2 when using version 0.20.0. This might lead to breaking code or invalid results. Use at your own risk.\n",
      "  UserWarning)\n",
      "/opt/modules/i12g/anaconda/3-5.0.1/envs/mmsplice-manuscript/lib/python3.6/site-packages/sklearn/base.py:251: UserWarning: Trying to unpickle estimator LogisticRegression from version 0.19.2 when using version 0.20.0. This might lead to breaking code or invalid results. Use at your own risk.\n",
      "  UserWarning)\n",
      "/opt/modules/i12g/anaconda/3-5.0.1/envs/mmsplice-manuscript/lib/python3.6/site-packages/sklearn/base.py:251: UserWarning: Trying to unpickle estimator Pipeline from version 0.19.2 when using version 0.20.0. This might lead to breaking code or invalid results. Use at your own risk.\n",
      "  UserWarning)\n"
     ]
    }
   ],
   "source": [
    "import kipoi\n",
    "import numpy as np\n",
    "import pandas as pd\n",
    "from scipy.stats import spearmanr, pearsonr\n",
    "import matplotlib.pyplot as plt\n",
    "%matplotlib inline \n",
    "\n",
    "from mmsplice.exon_dataloader import ExonDataset\n",
    "from mmsplice import MMSplice\n",
    "from mmsplice.generic import get_var_side, logit, expit\n",
    "from mmsplice.utils.postproc import transform\n",
    "\n",
    "from kipoi.data import DataLoader\n",
    "from kipoi.data_utils import numpy_collate\n",
    "\n",
    "from keras.models import load_model\n",
    "from concise.preprocessing import encodeDNA\n",
    "\n",
    "%load_ext autoreload\n",
    "%autoreload 2\n",
    "\n",
    "projectDIR = \"../../data/\""
   ]
  },
  {
   "cell_type": "code",
   "execution_count": 2,
   "metadata": {},
   "outputs": [],
   "source": [
    "dl1 = ExonDataset(projectDIR+\"gtex/A5SS_SD1_variant.csv\",\n",
    "           projectDIR+\"shared/hg19.fa\", split_seq=False, overhang=(100,100))"
   ]
  },
  {
   "cell_type": "code",
   "execution_count": 3,
   "metadata": {},
   "outputs": [],
   "source": [
    "dl2 = ExonDataset(projectDIR+\"gtex/A5SS_SD2_variant.csv\",\n",
    "           projectDIR+\"shared/hg19.fa\", split_seq=False, overhang=(100,100))"
   ]
  },
  {
   "cell_type": "code",
   "execution_count": 4,
   "metadata": {},
   "outputs": [],
   "source": [
    "dl1 = DataLoader(dl1, batch_size=dl1.__len__(), collate_fn=numpy_collate, shuffle=False)\n",
    "dl1 = iter(dl1)\n",
    "dt1 = next(dl1)"
   ]
  },
  {
   "cell_type": "code",
   "execution_count": 5,
   "metadata": {},
   "outputs": [],
   "source": [
    "dl2 = DataLoader(dl2, batch_size=dl2.__len__(), collate_fn=numpy_collate, shuffle=False)\n",
    "dl2 = iter(dl2)\n",
    "dt2 = next(dl2)"
   ]
  },
  {
   "cell_type": "code",
   "execution_count": 6,
   "metadata": {},
   "outputs": [],
   "source": [
    "csv = projectDIR+\"gtex/A5SS_SD1_variant.csv\"\n",
    "csvf = pd.read_csv(csv, sep=',', index_col=0)"
   ]
  },
  {
   "cell_type": "code",
   "execution_count": 7,
   "metadata": {},
   "outputs": [],
   "source": [
    "csvf['side'] = list(map(get_var_side,\n",
    "                         zip(csvf['variant_position'],\n",
    "                             csvf['REF'],\n",
    "                             csvf['ALT'],\n",
    "                             csvf['exon_start'], csvf['exon_end'],\n",
    "                             csvf['strand'])))\n",
    "csvf['REF_SEQ'] = dt1['inputs']['seq']\n",
    "csvf['ALT_SEQ'] = dt1['mut_inputs']['seq']\n",
    "# csvf['intronl_len'] = dt['metadata']['intronl_len']\n",
    "# csvf['intronr_len'] = dt['metadata']['intronr_len']"
   ]
  },
  {
   "cell_type": "code",
   "execution_count": 8,
   "metadata": {},
   "outputs": [
    {
     "data": {
      "text/html": [
       "<div>\n",
       "<style scoped>\n",
       "    .dataframe tbody tr th:only-of-type {\n",
       "        vertical-align: middle;\n",
       "    }\n",
       "\n",
       "    .dataframe tbody tr th {\n",
       "        vertical-align: top;\n",
       "    }\n",
       "\n",
       "    .dataframe thead th {\n",
       "        text-align: right;\n",
       "    }\n",
       "</style>\n",
       "<table border=\"1\" class=\"dataframe\">\n",
       "  <thead>\n",
       "    <tr style=\"text-align: right;\">\n",
       "      <th></th>\n",
       "      <th>event_name</th>\n",
       "      <th>VARIANT</th>\n",
       "      <th>seqnames</th>\n",
       "      <th>exon_start</th>\n",
       "      <th>exon_end</th>\n",
       "      <th>strand</th>\n",
       "      <th>variant_position</th>\n",
       "      <th>REF</th>\n",
       "      <th>ALT</th>\n",
       "      <th>ID</th>\n",
       "      <th>side</th>\n",
       "      <th>REF_SEQ</th>\n",
       "      <th>ALT_SEQ</th>\n",
       "    </tr>\n",
       "  </thead>\n",
       "  <tbody>\n",
       "    <tr>\n",
       "      <th>0</th>\n",
       "      <td>chr7:99810756:99810576|99810646:-@chr7:9980901...</td>\n",
       "      <td>7_99810643_T_G</td>\n",
       "      <td>chr7</td>\n",
       "      <td>99810646</td>\n",
       "      <td>99810756</td>\n",
       "      <td>-</td>\n",
       "      <td>99810643</td>\n",
       "      <td>T</td>\n",
       "      <td>G</td>\n",
       "      <td>chr7:99810756:99810576|99810646:-@chr7:9980901...</td>\n",
       "      <td>right</td>\n",
       "      <td>CCTTTGGGAGGTGATTGGGTCATAGGGGTGCAGCCCTCATGGATGG...</td>\n",
       "      <td>CCTTTGGGAGGTGATTGGGTCATAGGGGTGCAGCCCTCATGGATGG...</td>\n",
       "    </tr>\n",
       "    <tr>\n",
       "      <th>1</th>\n",
       "      <td>chr7:99810756:99810646|99810670:-@chr7:9980901...</td>\n",
       "      <td>7_99810643_T_G</td>\n",
       "      <td>chr7</td>\n",
       "      <td>99810670</td>\n",
       "      <td>99810756</td>\n",
       "      <td>-</td>\n",
       "      <td>99810643</td>\n",
       "      <td>T</td>\n",
       "      <td>G</td>\n",
       "      <td>chr7:99810756:99810646|99810670:-@chr7:9980901...</td>\n",
       "      <td>right</td>\n",
       "      <td>CCTTTGGGAGGTGATTGGGTCATAGGGGTGCAGCCCTCATGGATGG...</td>\n",
       "      <td>CCTTTGGGAGGTGATTGGGTCATAGGGGTGCAGCCCTCATGGATGG...</td>\n",
       "    </tr>\n",
       "    <tr>\n",
       "      <th>2</th>\n",
       "      <td>chr17:80014162:80014267|80014426:+@chr17:80014...</td>\n",
       "      <td>17_80014272_G_GCC</td>\n",
       "      <td>chr17</td>\n",
       "      <td>80014162</td>\n",
       "      <td>80014267</td>\n",
       "      <td>+</td>\n",
       "      <td>80014272</td>\n",
       "      <td>G</td>\n",
       "      <td>GCC</td>\n",
       "      <td>chr17:80014162:80014267|80014426:+@chr17:80014...</td>\n",
       "      <td>right</td>\n",
       "      <td>CAGCGTTTTCTCAGGTGTTTGTCTGGGGACTGGTGTCCCACTGGCC...</td>\n",
       "      <td>CAGCGTTTTCTCAGGTGTTTGTCTGGGGACTGGTGTCCCACTGGCC...</td>\n",
       "    </tr>\n",
       "    <tr>\n",
       "      <th>3</th>\n",
       "      <td>chr15:41799855:41799712|41799760:-@chr15:41799...</td>\n",
       "      <td>15_41799711_C_T</td>\n",
       "      <td>chr15</td>\n",
       "      <td>41799760</td>\n",
       "      <td>41799855</td>\n",
       "      <td>-</td>\n",
       "      <td>41799711</td>\n",
       "      <td>C</td>\n",
       "      <td>T</td>\n",
       "      <td>chr15:41799855:41799712|41799760:-@chr15:41799...</td>\n",
       "      <td>right</td>\n",
       "      <td>AAAAATTAACACTTGAGCTGAGTCTTGAAGCGTGGGTAAAACTTGA...</td>\n",
       "      <td>AAAAATTAACACTTGAGCTGAGTCTTGAAGCGTGGGTAAAACTTGA...</td>\n",
       "    </tr>\n",
       "    <tr>\n",
       "      <th>4</th>\n",
       "      <td>chr3:10329629:10329786|10329790:+@chr3:1033375...</td>\n",
       "      <td>3_10329788_C_G</td>\n",
       "      <td>chr3</td>\n",
       "      <td>10329629</td>\n",
       "      <td>10329786</td>\n",
       "      <td>+</td>\n",
       "      <td>10329788</td>\n",
       "      <td>C</td>\n",
       "      <td>G</td>\n",
       "      <td>chr3:10329629:10329786|10329790:+@chr3:1033375...</td>\n",
       "      <td>right</td>\n",
       "      <td>CCCTTTTCGAAATCTCCCTCCCCTTAACTCCACCATGAAGGTGGAC...</td>\n",
       "      <td>CCCTTTTCGAAATCTCCCTCCCCTTAACTCCACCATGAAGGTGGAC...</td>\n",
       "    </tr>\n",
       "  </tbody>\n",
       "</table>\n",
       "</div>"
      ],
      "text/plain": [
       "                                          event_name            VARIANT  \\\n",
       "0  chr7:99810756:99810576|99810646:-@chr7:9980901...     7_99810643_T_G   \n",
       "1  chr7:99810756:99810646|99810670:-@chr7:9980901...     7_99810643_T_G   \n",
       "2  chr17:80014162:80014267|80014426:+@chr17:80014...  17_80014272_G_GCC   \n",
       "3  chr15:41799855:41799712|41799760:-@chr15:41799...    15_41799711_C_T   \n",
       "4  chr3:10329629:10329786|10329790:+@chr3:1033375...     3_10329788_C_G   \n",
       "\n",
       "  seqnames  exon_start  exon_end strand  variant_position REF  ALT  \\\n",
       "0     chr7    99810646  99810756      -          99810643   T    G   \n",
       "1     chr7    99810670  99810756      -          99810643   T    G   \n",
       "2    chr17    80014162  80014267      +          80014272   G  GCC   \n",
       "3    chr15    41799760  41799855      -          41799711   C    T   \n",
       "4     chr3    10329629  10329786      +          10329788   C    G   \n",
       "\n",
       "                                                  ID   side  \\\n",
       "0  chr7:99810756:99810576|99810646:-@chr7:9980901...  right   \n",
       "1  chr7:99810756:99810646|99810670:-@chr7:9980901...  right   \n",
       "2  chr17:80014162:80014267|80014426:+@chr17:80014...  right   \n",
       "3  chr15:41799855:41799712|41799760:-@chr15:41799...  right   \n",
       "4  chr3:10329629:10329786|10329790:+@chr3:1033375...  right   \n",
       "\n",
       "                                             REF_SEQ  \\\n",
       "0  CCTTTGGGAGGTGATTGGGTCATAGGGGTGCAGCCCTCATGGATGG...   \n",
       "1  CCTTTGGGAGGTGATTGGGTCATAGGGGTGCAGCCCTCATGGATGG...   \n",
       "2  CAGCGTTTTCTCAGGTGTTTGTCTGGGGACTGGTGTCCCACTGGCC...   \n",
       "3  AAAAATTAACACTTGAGCTGAGTCTTGAAGCGTGGGTAAAACTTGA...   \n",
       "4  CCCTTTTCGAAATCTCCCTCCCCTTAACTCCACCATGAAGGTGGAC...   \n",
       "\n",
       "                                             ALT_SEQ  \n",
       "0  CCTTTGGGAGGTGATTGGGTCATAGGGGTGCAGCCCTCATGGATGG...  \n",
       "1  CCTTTGGGAGGTGATTGGGTCATAGGGGTGCAGCCCTCATGGATGG...  \n",
       "2  CAGCGTTTTCTCAGGTGTTTGTCTGGGGACTGGTGTCCCACTGGCC...  \n",
       "3  AAAAATTAACACTTGAGCTGAGTCTTGAAGCGTGGGTAAAACTTGA...  \n",
       "4  CCCTTTTCGAAATCTCCCTCCCCTTAACTCCACCATGAAGGTGGAC...  "
      ]
     },
     "execution_count": 8,
     "metadata": {},
     "output_type": "execute_result"
    }
   ],
   "source": [
    "csvf.head()"
   ]
  },
  {
   "cell_type": "markdown",
   "metadata": {},
   "source": [
    "## Prediction"
   ]
  },
  {
   "cell_type": "code",
   "execution_count": 9,
   "metadata": {},
   "outputs": [
    {
     "name": "stderr",
     "output_type": "stream",
     "text": [
      "/opt/modules/i12g/anaconda/3-5.0.1/envs/mmsplice-manuscript/lib/python3.6/site-packages/keras/engine/saving.py:292: UserWarning: No training configuration found in save file: the model was *not* compiled. Compile it manually.\n",
      "  warnings.warn('No training configuration found in save file: '\n"
     ]
    }
   ],
   "source": [
    "model_dir = \"/data/ouga/home/ag_gagneur/chengju/project/recods/Data/Models/\"\n",
    "model = MMSplice(\n",
    "         # parameters to split the sequence\n",
    "         exonM = model_dir+\"A5SS_Exon/Exon_Model_prime5.h5\",\n",
    "#          donorM = model_dir + \"Donor/Donor_Dense3.h5\",\n",
    "         exon_cut_l=0,\n",
    "         exon_cut_r=0,\n",
    "         acceptor_intron_cut=6,\n",
    "         donor_intron_cut=6,\n",
    "         acceptor_intron_len=50,\n",
    "         acceptor_exon_len=3,\n",
    "         donor_exon_len=5,\n",
    "         donor_intron_len=13)"
   ]
  },
  {
   "cell_type": "code",
   "execution_count": 10,
   "metadata": {},
   "outputs": [
    {
     "name": "stderr",
     "output_type": "stream",
     "text": [
      "/opt/modules/i12g/anaconda/3-5.0.1/envs/mmsplice-manuscript/lib/python3.6/site-packages/mmsplice/mmsplice.py:162: UserWarning: None GT donor\n",
      "  warnings.warn(\"None GT donor\", UserWarning)\n",
      "/opt/modules/i12g/anaconda/3-5.0.1/envs/mmsplice-manuscript/lib/python3.6/site-packages/mmsplice/mmsplice.py:164: UserWarning: None AG donor\n",
      "  warnings.warn(\"None AG donor\", UserWarning)\n"
     ]
    }
   ],
   "source": [
    "ref_pred1 = model.predict_on_unsplitted_batch(dt1['inputs'])\n",
    "alt_pred1 = model.predict_on_unsplitted_batch(dt1['mut_inputs'])"
   ]
  },
  {
   "cell_type": "code",
   "execution_count": 11,
   "metadata": {},
   "outputs": [],
   "source": [
    "X1 = alt_pred1-ref_pred1"
   ]
  },
  {
   "cell_type": "code",
   "execution_count": 12,
   "metadata": {},
   "outputs": [],
   "source": [
    "X1 = transform(X1)"
   ]
  },
  {
   "cell_type": "code",
   "execution_count": 13,
   "metadata": {},
   "outputs": [],
   "source": [
    "from sklearn.externals import joblib\n",
    "huber = joblib.load(projectDIR+'vexseq/scale_model.pkl')"
   ]
  },
  {
   "cell_type": "code",
   "execution_count": 14,
   "metadata": {},
   "outputs": [],
   "source": [
    "delt_pred1 = huber.predict(X1)\n",
    "# s = 5.354345\n",
    "# delt_pred1 = np.dot(X1, np.array([1,1,s,1,1,-s]))"
   ]
  },
  {
   "cell_type": "code",
   "execution_count": 15,
   "metadata": {},
   "outputs": [
    {
     "name": "stderr",
     "output_type": "stream",
     "text": [
      "/opt/modules/i12g/anaconda/3-5.0.1/envs/mmsplice-manuscript/lib/python3.6/site-packages/mmsplice/mmsplice.py:164: UserWarning: None AG donor\n",
      "  warnings.warn(\"None AG donor\", UserWarning)\n",
      "/opt/modules/i12g/anaconda/3-5.0.1/envs/mmsplice-manuscript/lib/python3.6/site-packages/mmsplice/mmsplice.py:162: UserWarning: None GT donor\n",
      "  warnings.warn(\"None GT donor\", UserWarning)\n"
     ]
    }
   ],
   "source": [
    "ref_pred2 = model.predict_on_unsplitted_batch(dt2['inputs'])\n",
    "alt_pred2 = model.predict_on_unsplitted_batch(dt2['mut_inputs'])"
   ]
  },
  {
   "cell_type": "code",
   "execution_count": 16,
   "metadata": {},
   "outputs": [],
   "source": [
    "X2 = alt_pred2-ref_pred2"
   ]
  },
  {
   "cell_type": "code",
   "execution_count": 17,
   "metadata": {},
   "outputs": [],
   "source": [
    "X2 = transform(X2)"
   ]
  },
  {
   "cell_type": "code",
   "execution_count": 18,
   "metadata": {},
   "outputs": [],
   "source": [
    "delt_pred2 = huber.predict(X2)"
   ]
  },
  {
   "cell_type": "code",
   "execution_count": 19,
   "metadata": {},
   "outputs": [],
   "source": [
    "delt_pred = delt_pred1 - delt_pred2"
   ]
  },
  {
   "cell_type": "code",
   "execution_count": 20,
   "metadata": {},
   "outputs": [
    {
     "data": {
      "image/png": "[encoded data removed]",
      "text/plain": [
       "<Figure size 432x288 with 1 Axes>"
      ]
     },
     "metadata": {
      "needs_background": "light"
     },
     "output_type": "display_data"
    }
   ],
   "source": [
    "plt.scatter( delt_pred1 , delt_pred2, s=5)\n",
    "plt.show()"
   ]
  },
  {
   "cell_type": "code",
   "execution_count": 21,
   "metadata": {},
   "outputs": [
    {
     "data": {
      "image/png": "[encoded data removed]",
      "text/plain": [
       "<Figure size 432x288 with 1 Axes>"
      ]
     },
     "metadata": {
      "needs_background": "light"
     },
     "output_type": "display_data"
    }
   ],
   "source": [
    "plt.hist(delt_pred)\n",
    "plt.show()"
   ]
  },
  {
   "cell_type": "markdown",
   "metadata": {},
   "source": [
    "## Evaluate prediction"
   ]
  },
  {
   "cell_type": "code",
   "execution_count": 22,
   "metadata": {},
   "outputs": [],
   "source": [
    "df = pd.read_csv(projectDIR+\"gtex/A5SS_PSI.csv\", index_col=0)\n",
    "df = df.reset_index()"
   ]
  },
  {
   "cell_type": "markdown",
   "metadata": {},
   "source": [
    "Filter events with only few sample support"
   ]
  },
  {
   "cell_type": "code",
   "execution_count": 23,
   "metadata": {},
   "outputs": [
    {
     "data": {
      "text/plain": [
       "(221, 9)"
      ]
     },
     "execution_count": 23,
     "metadata": {},
     "output_type": "execute_result"
    }
   ],
   "source": [
    "df.shape"
   ]
  },
  {
   "cell_type": "code",
   "execution_count": 24,
   "metadata": {},
   "outputs": [
    {
     "name": "stderr",
     "output_type": "stream",
     "text": [
      "/opt/modules/i12g/anaconda/3-5.0.1/envs/mmsplice-manuscript/lib/python3.6/site-packages/ipykernel/__main__.py:1: FutureWarning: Method .as_matrix will be removed in a future version. Use .values instead.\n",
      "  if __name__ == '__main__':\n"
     ]
    }
   ],
   "source": [
    "ref_psi = df['WT_MEAN'].as_matrix()\n",
    "s2_s1 = np.log(1/ref_psi - 1)\n",
    "PSI_MUT = (1 / (1+np.exp(s2_s1 + delt_pred)))\n",
    "delta_PSI = PSI_MUT - ref_psi\n",
    "delta_PSI_HETERO = (PSI_MUT+ref_psi)/2 - ref_psi"
   ]
  },
  {
   "cell_type": "code",
   "execution_count": 25,
   "metadata": {},
   "outputs": [],
   "source": [
    "df['HOMO_dPSI'] = delta_PSI\n",
    "df['HETERO_dPSI'] = delta_PSI_HETERO"
   ]
  },
  {
   "cell_type": "code",
   "execution_count": 26,
   "metadata": {},
   "outputs": [],
   "source": [
    "df_HOMO = df[~df.HOMO_MEAN.isna()]\n",
    "df_HETERO = df[~df.HETERO_MEAN.isna()]"
   ]
  },
  {
   "cell_type": "code",
   "execution_count": 27,
   "metadata": {},
   "outputs": [
    {
     "data": {
      "text/plain": [
       "(69, 11)"
      ]
     },
     "execution_count": 27,
     "metadata": {},
     "output_type": "execute_result"
    }
   ],
   "source": [
    "df_HOMO.shape"
   ]
  },
  {
   "cell_type": "code",
   "execution_count": 28,
   "metadata": {},
   "outputs": [
    {
     "data": {
      "image/png": "[encoded data removed]",
      "text/plain": [
       "<Figure size 360x360 with 1 Axes>"
      ]
     },
     "metadata": {
      "needs_background": "light"
     },
     "output_type": "display_data"
    }
   ],
   "source": [
    "pred = np.concatenate([df_HOMO['HOMO_dPSI'], df_HETERO['HETERO_dPSI']])\n",
    "measured = np.concatenate([df_HOMO['HOMO_MEAN'] - df_HOMO['WT_MEAN'], df_HETERO['HETERO_MEAN'] - df_HETERO['WT_MEAN']])\n",
    "r = pearsonr(pred, measured)[0]\n",
    "\n",
    "fig = plt.figure(figsize=(5, 5))\n",
    "ax = fig.add_subplot(111)\n",
    "ax.axis([-1,1,-1,1])\n",
    "ax.scatter(df_HOMO['HOMO_dPSI'], df_HOMO['HOMO_MEAN'] - df_HOMO['WT_MEAN'], s=5, c='b')\n",
    "ax.scatter(df_HETERO['HETERO_dPSI'], df_HETERO['HETERO_MEAN'] - df_HETERO['WT_MEAN'], s=5, c='r')\n",
    "ax.text(-0.9,0.9,'$R$=%0.2f' %r,fontsize=15,ha='left',va='top')\n",
    "ax.set_xlabel(\"Predicted DPSI\")\n",
    "ax.set_ylabel(\"Measured DPSI\")\n",
    "ax.set_title(\"Splice Donor\", fontsize=20)\n",
    "ax.axhline(y=0,c='k')\n",
    "ax.axvline(x=0,c='k')\n",
    "ax.spines['bottom'].set_visible(False)\n",
    "ax.spines['left'].set_visible(False)\n",
    "ax.spines['top'].set_visible(False)\n",
    "ax.spines['right'].set_visible(False)\n",
    "plt.show()"
   ]
  },
  {
   "cell_type": "code",
   "execution_count": 29,
   "metadata": {},
   "outputs": [],
   "source": [
    "df_HOMO.to_csv(projectDIR + \"gtex/SD_HOMO.csv\")\n",
    "df_HETERO.to_csv(projectDIR + \"gtex/SD_HETERO.csv\")"
   ]
  },
  {
   "cell_type": "code",
   "execution_count": null,
   "metadata": {},
   "outputs": [],
   "source": []
  }
 ],
 "metadata": {
  "kernelspec": {
   "display_name": "Python [conda env:mmsplice-manuscript]",
   "language": "python",
   "name": "conda-env-mmsplice-manuscript-py"
  },
  "language_info": {
   "codemirror_mode": {
    "name": "ipython",
    "version": 3
   },
   "file_extension": ".py",
   "mimetype": "text/x-python",
   "name": "python",
   "nbconvert_exporter": "python",
   "pygments_lexer": "ipython3",
   "version": "3.6.5"
  }
 },
 "nbformat": 4,
 "nbformat_minor": 2
}
