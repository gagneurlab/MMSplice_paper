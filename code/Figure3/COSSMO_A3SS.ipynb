{
 "cells": [
  {
   "cell_type": "markdown",
   "metadata": {},
   "source": [
    "## Predict delta PSI of GTEx A3SS events with COSSMO"
   ]
  },
  {
   "cell_type": "code",
   "execution_count": 1,
   "metadata": {},
   "outputs": [
    {
     "name": "stderr",
     "output_type": "stream",
     "text": [
      "/opt/modules/i12g/anaconda/3-5.0.1/envs/mmsplice-manuscript/lib/python3.6/importlib/_bootstrap.py:219: RuntimeWarning: numpy.dtype size changed, may indicate binary incompatibility. Expected 96, got 88\n",
      "  return f(*args, **kwds)\n",
      "/opt/modules/i12g/anaconda/3-5.0.1/envs/mmsplice-manuscript/lib/python3.6/importlib/_bootstrap.py:219: RuntimeWarning: numpy.dtype size changed, may indicate binary incompatibility. Expected 96, got 88\n",
      "  return f(*args, **kwds)\n",
      "/opt/modules/i12g/anaconda/3-5.0.1/envs/mmsplice-manuscript/lib/python3.6/importlib/_bootstrap.py:219: RuntimeWarning: numpy.dtype size changed, may indicate binary incompatibility. Expected 96, got 88\n",
      "  return f(*args, **kwds)\n",
      "Using TensorFlow backend.\n",
      "/opt/modules/i12g/anaconda/3-5.0.1/envs/mmsplice-manuscript/lib/python3.6/importlib/_bootstrap.py:219: RuntimeWarning: numpy.dtype size changed, may indicate binary incompatibility. Expected 96, got 88\n",
      "  return f(*args, **kwds)\n",
      "/opt/modules/i12g/anaconda/3-5.0.1/envs/mmsplice-manuscript/lib/python3.6/site-packages/sklearn/base.py:251: UserWarning: Trying to unpickle estimator HuberRegressor from version 0.19.2 when using version 0.20.0. This might lead to breaking code or invalid results. Use at your own risk.\n",
      "  UserWarning)\n",
      "/opt/modules/i12g/anaconda/3-5.0.1/envs/mmsplice-manuscript/lib/python3.6/site-packages/sklearn/base.py:251: UserWarning: Trying to unpickle estimator StandardScaler from version 0.19.2 when using version 0.20.0. This might lead to breaking code or invalid results. Use at your own risk.\n",
      "  UserWarning)\n",
      "/opt/modules/i12g/anaconda/3-5.0.1/envs/mmsplice-manuscript/lib/python3.6/site-packages/sklearn/base.py:251: UserWarning: Trying to unpickle estimator LogisticRegression from version 0.19.2 when using version 0.20.0. This might lead to breaking code or invalid results. Use at your own risk.\n",
      "  UserWarning)\n",
      "/opt/modules/i12g/anaconda/3-5.0.1/envs/mmsplice-manuscript/lib/python3.6/site-packages/sklearn/base.py:251: UserWarning: Trying to unpickle estimator Pipeline from version 0.19.2 when using version 0.20.0. This might lead to breaking code or invalid results. Use at your own risk.\n",
      "  UserWarning)\n"
     ]
    }
   ],
   "source": [
    "import kipoi\n",
    "from kipoi.model import KerasModel\n",
    "import numpy as np\n",
    "import pandas as pd\n",
    "from scipy.stats import spearmanr, pearsonr\n",
    "import matplotlib.pyplot as plt\n",
    "%matplotlib inline \n",
    "\n",
    "from mmsplice.exon_dataloader import ExonDataset\n",
    "\n",
    "from kipoi.data import DataLoader\n",
    "from kipoi.data_utils import numpy_collate\n",
    "\n",
    "from keras.models import load_model\n",
    "from concise.preprocessing import encodeDNA\n",
    "\n",
    "%load_ext autoreload\n",
    "%autoreload 2\n",
    "\n",
    "projectDIR = \"../../data/\""
   ]
  },
  {
   "cell_type": "code",
   "execution_count": 2,
   "metadata": {},
   "outputs": [],
   "source": [
    "dl1 = ExonDataset(projectDIR+\"gtex/A3SS_SA1_variant.csv\",\n",
    "           projectDIR+\"shared/hg19.fa\", split_seq=False, overhang=(40,40))"
   ]
  },
  {
   "cell_type": "code",
   "execution_count": 3,
   "metadata": {},
   "outputs": [],
   "source": [
    "dl2 = ExonDataset(projectDIR+\"gtex/A3SS_SA2_variant.csv\",\n",
    "           projectDIR+\"shared/hg19.fa\", split_seq=False, overhang=(40,40))"
   ]
  },
  {
   "cell_type": "code",
   "execution_count": 4,
   "metadata": {},
   "outputs": [],
   "source": [
    "dl1 = DataLoader(dl1, batch_size=dl1.__len__(), collate_fn=numpy_collate, shuffle=False)\n",
    "dl1 = iter(dl1)\n",
    "dt1 = next(dl1)"
   ]
  },
  {
   "cell_type": "code",
   "execution_count": 5,
   "metadata": {},
   "outputs": [],
   "source": [
    "dl2 = DataLoader(dl2, batch_size=dl2.__len__(), collate_fn=numpy_collate, shuffle=False)\n",
    "dl2 = iter(dl2)\n",
    "dt2 = next(dl2)"
   ]
  },
  {
   "cell_type": "code",
   "execution_count": 6,
   "metadata": {},
   "outputs": [],
   "source": [
    "csv = projectDIR+\"gtex/A3SS_SA1_variant.csv\"\n",
    "csvf = pd.read_csv(csv, sep=',', index_col=0)"
   ]
  },
  {
   "cell_type": "code",
   "execution_count": 7,
   "metadata": {},
   "outputs": [],
   "source": [
    "# WT_ACC: Exon with 40 nt flanking\n",
    "csvf['WT_ACC1'] = dt1['inputs']['seq']\n",
    "csvf['WT_ACC2'] = dt2['inputs']['seq']\n",
    "csvf['MUT_ACC1'] = dt1['mut_inputs']['seq']\n",
    "csvf['MUT_ACC2'] = dt2['mut_inputs']['seq']"
   ]
  },
  {
   "cell_type": "code",
   "execution_count": 8,
   "metadata": {},
   "outputs": [],
   "source": [
    "csvf = csvf.reset_index()"
   ]
  },
  {
   "cell_type": "markdown",
   "metadata": {},
   "source": [
    "## Process for COSSMO"
   ]
  },
  {
   "cell_type": "code",
   "execution_count": 9,
   "metadata": {},
   "outputs": [],
   "source": [
    "import tensorflow as tf\n",
    "from mmsplice.vcf_dataloader import FastaSeq\n",
    "from mmsplice.IntervalTree import Interval"
   ]
  },
  {
   "cell_type": "code",
   "execution_count": 10,
   "metadata": {},
   "outputs": [],
   "source": [
    "fasta = FastaSeq(projectDIR+'shared/hg19.fa')"
   ]
  },
  {
   "cell_type": "code",
   "execution_count": 11,
   "metadata": {},
   "outputs": [],
   "source": [
    "from mmsplice.vcf_dataloader import FastaSeq\n",
    "\n",
    "# fasta = FastaSeq(fasta, as_raw=False)\n",
    "def get_constseq_acceptor(event, fasta):\n",
    "    # return 1. alt ss positions, const pos\n",
    "    # 2. const sequence\n",
    "    event_split = event.split(\":\")\n",
    "    strand = event_split[3].split(\"@\")[0]\n",
    "    if strand == \"+\":\n",
    "        const_pos = int(event_split[2])\n",
    "        alt_ss_pos = event_split[4].split(\"|\")\n",
    "    else:\n",
    "        const_pos = int(event_split[1])\n",
    "        alt_ss_pos = event_split[4].split(\"|\")[::-1]\n",
    "    alt_ss_pos = [int(i) for i in alt_ss_pos]\n",
    "    chrom = event_split[0]\n",
    "    if strand == \"+\":\n",
    "        const = Interval(chrom=chrom, start=const_pos-40+1, end=const_pos+40, strand=strand)\n",
    "    else:\n",
    "        const = Interval(chrom=chrom, start=const_pos-40, end=const_pos+40-1, strand=strand)\n",
    "        const_pos = -const_pos\n",
    "        alt_ss_pos = [-i for i in alt_ss_pos]\n",
    "    constseq = fasta.getSeq(const)\n",
    "    return constseq, const_pos, alt_ss_pos"
   ]
  },
  {
   "cell_type": "code",
   "execution_count": 12,
   "metadata": {},
   "outputs": [],
   "source": [
    "# process one row of csvf, return cossmo inputs\n",
    "def cossmo_inputs(x, fasta, placeholder, wt=True):\n",
    "    constseq, const_pos, alt_ss_pos = get_constseq_acceptor(x.event_name, fasta)\n",
    "    if wt:\n",
    "        ACC1seq = x.WT_ACC1\n",
    "        ACC2seq = x.WT_ACC2\n",
    "    else:\n",
    "        ACC1seq = x.MUT_ACC1\n",
    "        ACC2seq = x.MUT_ACC2\n",
    "    alt_dna_seq = [ACC1seq[:80], ACC2seq[:80]]\n",
    "    rns_seq = [constseq[:40]+ACC1seq[40:80], constseq[:40]+ACC2seq[40:80]]\n",
    "    return {placeholders['alt_dna_seq']: alt_dna_seq,\n",
    "            placeholders['const_site_position']: const_pos,\n",
    "            placeholders['const_dna_seq']: constseq,\n",
    "            placeholders['n_alt_ss']: 2,\n",
    "            placeholders['alt_ss_position']: alt_ss_pos,\n",
    "            placeholders['rna_seq']: rns_seq}"
   ]
  },
  {
   "cell_type": "code",
   "execution_count": 13,
   "metadata": {},
   "outputs": [],
   "source": [
    "def transpose_collate(collate, placeholders):\n",
    "    collate[placeholders['alt_dna_seq']] = np.array(collate[placeholders['alt_dna_seq']]).T\n",
    "    collate[placeholders['alt_ss_position']] = np.array(collate[placeholders['alt_ss_position']]).T\n",
    "    collate[placeholders['rna_seq']] = np.array(collate[placeholders['rna_seq']]).T\n",
    "    return collate"
   ]
  },
  {
   "cell_type": "code",
   "execution_count": 14,
   "metadata": {},
   "outputs": [
    {
     "name": "stdout",
     "output_type": "stream",
     "text": [
      "INFO:tensorflow:Restoring parameters from ../../data/COSSMO/saved_model_acceptor_lstm_1_fold0/variables/variables\n"
     ]
    },
    {
     "name": "stderr",
     "output_type": "stream",
     "text": [
      "2018-11-16 20:12:46,433 [INFO] Restoring parameters from ../../data/COSSMO/saved_model_acceptor_lstm_1_fold0/variables/variables\n"
     ]
    }
   ],
   "source": [
    "session = tf.Session()\n",
    "sm = tf.saved_model.loader.load(\n",
    "  session, \n",
    "  [tf.saved_model.tag_constants.SERVING], \n",
    "  projectDIR+'COSSMO/saved_model_acceptor_lstm_1_fold0'\n",
    ")\n",
    "placeholders = {n.name[n.name.rfind('/') + 1:-2]: n\n",
    "  for n in tf.get_collection('inputs')}\n",
    "psi_prediction, logits = tf.get_collection('outputs')"
   ]
  },
  {
   "cell_type": "code",
   "execution_count": 15,
   "metadata": {},
   "outputs": [],
   "source": [
    "WT_inputs = numpy_collate(csvf.apply(lambda x: cossmo_inputs(x, fasta, placeholders, wt=True), axis=1))\n",
    "WT_inputs = transpose_collate(WT_inputs, placeholders)\n",
    "pred_wt = session.run((psi_prediction, logits), feed_dict=WT_inputs)"
   ]
  },
  {
   "cell_type": "code",
   "execution_count": 16,
   "metadata": {},
   "outputs": [],
   "source": [
    "MUT_inputs = numpy_collate(csvf.apply(lambda x: cossmo_inputs(x, fasta, placeholders, wt=False), axis=1))\n",
    "MUT_inputs = transpose_collate(MUT_inputs, placeholders)\n",
    "pred_mut = session.run((psi_prediction, logits), feed_dict=MUT_inputs)"
   ]
  },
  {
   "cell_type": "markdown",
   "metadata": {},
   "source": [
    "## MaxEnt"
   ]
  },
  {
   "cell_type": "code",
   "execution_count": 17,
   "metadata": {},
   "outputs": [],
   "source": [
    "from maxentpy import maxent_fast\n",
    "from maxentpy.maxent_fast import load_matrix\n",
    "matrix3 = load_matrix(3)\n",
    "\n",
    "def fast_score(cossmo_seq):\n",
    "    return maxent_fast.score3(cossmo_seq[20:43], matrix=matrix3)\n",
    "\n",
    "def score_maxent(x, hetero=False):\n",
    "    wt = fast_score(x.WT_ACC1) - fast_score(x.WT_ACC2)\n",
    "    mut = fast_score(x.MUT_ACC1) - fast_score(x.MUT_ACC2)\n",
    "    if hetero:\n",
    "        return (wt+mut)/2 - wt\n",
    "    else:\n",
    "        return mut - wt"
   ]
  },
  {
   "cell_type": "code",
   "execution_count": 18,
   "metadata": {},
   "outputs": [],
   "source": [
    "dMaxEnt_homo = csvf.apply(score_maxent, axis=1, hetero=False)\n",
    "dMaxEnt_hetero = csvf.apply(score_maxent, axis=1, hetero=True)"
   ]
  },
  {
   "cell_type": "markdown",
   "metadata": {},
   "source": [
    "## Plot"
   ]
  },
  {
   "cell_type": "code",
   "execution_count": 19,
   "metadata": {},
   "outputs": [],
   "source": [
    "df = pd.read_csv(projectDIR+\"gtex/A3SS_PSI.csv\", index_col=0)\n",
    "df = df.reset_index()"
   ]
  },
  {
   "cell_type": "code",
   "execution_count": 20,
   "metadata": {},
   "outputs": [],
   "source": [
    "DPSI_PRED = pred_mut[0][0][:,0] - pred_wt[0][0][:,0]"
   ]
  },
  {
   "cell_type": "code",
   "execution_count": 21,
   "metadata": {},
   "outputs": [],
   "source": [
    "df['DPSI_PRED_HOMO'] = pred_mut[0][0][:,0] - pred_wt[0][0][:,0]\n",
    "df['DPSI_PRED_HETERO'] = (pred_mut[0][0][:,0] + pred_wt[0][0][:,0]) / 2 - pred_wt[0][0][:,0]\n",
    "\n",
    "df['dMaxEnt_homo'] = dMaxEnt_homo\n",
    "df['dMaxEnt_hetero'] = dMaxEnt_hetero\n",
    "\n",
    "df_HOMO = df[~df.HOMO_MEAN.isna()]\n",
    "df_HETERO = df[~df.HETERO_MEAN.isna()]"
   ]
  },
  {
   "cell_type": "code",
   "execution_count": 22,
   "metadata": {},
   "outputs": [
    {
     "data": {
      "image/png": "[encoded data removed]",
      "text/plain": [
       "<Figure size 360x360 with 1 Axes>"
      ]
     },
     "metadata": {
      "needs_background": "light"
     },
     "output_type": "display_data"
    }
   ],
   "source": [
    "pred = np.concatenate([df_HOMO['DPSI_PRED_HOMO'], df_HETERO['DPSI_PRED_HETERO']])\n",
    "measured = np.concatenate([df_HOMO['HOMO_MEAN'] - df_HOMO['WT_MEAN'], df_HETERO['HETERO_MEAN'] - df_HETERO['WT_MEAN']])\n",
    "r = pearsonr(pred, measured)[0]\n",
    "\n",
    "fig = plt.figure(figsize=(5, 5))\n",
    "ax = fig.add_subplot(111)\n",
    "ax.axis([-1,1,-1,1])\n",
    "ax.scatter(df_HOMO['DPSI_PRED_HOMO'], df_HOMO['HOMO_MEAN'] - df_HOMO['WT_MEAN'], s=5, c='b')\n",
    "ax.scatter(df_HETERO['DPSI_PRED_HETERO'], df_HETERO['HETERO_MEAN'] - df_HETERO['WT_MEAN'], s=5, c='r')\n",
    "ax.text(-0.9,0.9,'$R$=%0.2f' %r,fontsize=15,ha='left',va='top')\n",
    "ax.set_xlabel(\"Predicted DPSI\")\n",
    "ax.set_ylabel(\"Measured DPSI\")\n",
    "ax.set_title(\"Splice Acceptor\", fontsize=20)\n",
    "ax.axhline(y=0,c='k')\n",
    "ax.axvline(x=0,c='k')\n",
    "ax.spines['bottom'].set_visible(False)\n",
    "ax.spines['left'].set_visible(False)\n",
    "ax.spines['top'].set_visible(False)\n",
    "ax.spines['right'].set_visible(False)\n",
    "plt.show()"
   ]
  },
  {
   "cell_type": "code",
   "execution_count": 23,
   "metadata": {},
   "outputs": [
    {
     "data": {
      "image/png": "[encoded data removed]",
      "text/plain": [
       "<Figure size 360x360 with 1 Axes>"
      ]
     },
     "metadata": {
      "needs_background": "light"
     },
     "output_type": "display_data"
    }
   ],
   "source": [
    "pred = np.concatenate([df_HOMO['dMaxEnt_homo'], df_HETERO['dMaxEnt_hetero']])\n",
    "measured = np.concatenate([df_HOMO['HOMO_MEAN'] - df_HOMO['WT_MEAN'], df_HETERO['HETERO_MEAN'] - df_HETERO['WT_MEAN']])\n",
    "r = pearsonr(pred, measured)[0]\n",
    "\n",
    "fig = plt.figure(figsize=(5, 5))\n",
    "ax = fig.add_subplot(111)\n",
    "# ax.axis([-1,1,-1,1])\n",
    "ax.scatter(df_HOMO['dMaxEnt_homo'], df_HOMO['HOMO_MEAN'] - df_HOMO['WT_MEAN'], s=5, c='b')\n",
    "ax.scatter(df_HETERO['dMaxEnt_hetero'], df_HETERO['HETERO_MEAN'] - df_HETERO['WT_MEAN'], s=5, c='r')\n",
    "ax.text(-0.9,0.9,'$R$=%0.2f' %r,fontsize=15,ha='left',va='top')\n",
    "ax.set_xlabel(\"Predicted DPSI\")\n",
    "ax.set_ylabel(\"Measured DPSI\")\n",
    "ax.set_title(\"Splice Acceptor\", fontsize=20)\n",
    "ax.axhline(y=0,c='k')\n",
    "ax.axvline(x=0,c='k')\n",
    "ax.spines['bottom'].set_visible(False)\n",
    "ax.spines['left'].set_visible(False)\n",
    "ax.spines['top'].set_visible(False)\n",
    "ax.spines['right'].set_visible(False)\n",
    "plt.show()"
   ]
  },
  {
   "cell_type": "code",
   "execution_count": 24,
   "metadata": {},
   "outputs": [],
   "source": [
    "df_HOMO.to_csv(projectDIR + \"gtex/COSSMO_SA_HOMO.csv\")\n",
    "df_HETERO.to_csv(projectDIR + \"gtex/COSSMO_SA_HETERO.csv\")"
   ]
  },
  {
   "cell_type": "code",
   "execution_count": null,
   "metadata": {},
   "outputs": [],
   "source": []
  }
 ],
 "metadata": {
  "kernelspec": {
   "display_name": "Python [conda env:mmsplice-manuscript]",
   "language": "python",
   "name": "conda-env-mmsplice-manuscript-py"
  },
  "language_info": {
   "codemirror_mode": {
    "name": "ipython",
    "version": 3
   },
   "file_extension": ".py",
   "mimetype": "text/x-python",
   "name": "python",
   "nbconvert_exporter": "python",
   "pygments_lexer": "ipython3",
   "version": "3.6.5"
  }
 },
 "nbformat": 4,
 "nbformat_minor": 2
}
