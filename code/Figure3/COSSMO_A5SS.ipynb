{
 "cells": [
  {
   "cell_type": "markdown",
   "metadata": {},
   "source": [
    "## Predict delta PSI of GTEx A5SS events with COSSMO"
   ]
  },
  {
   "cell_type": "code",
   "execution_count": 1,
   "metadata": {},
   "outputs": [
    {
     "name": "stderr",
     "output_type": "stream",
     "text": [
      "Using TensorFlow backend.\n",
      "/opt/modules/i12g/anaconda/3-5.0.1/envs/mmsplice-manuscript/lib/python3.6/site-packages/sklearn/base.py:251: UserWarning: Trying to unpickle estimator HuberRegressor from version 0.19.2 when using version 0.20.0. This might lead to breaking code or invalid results. Use at your own risk.\n",
      "  UserWarning)\n",
      "/opt/modules/i12g/anaconda/3-5.0.1/envs/mmsplice-manuscript/lib/python3.6/site-packages/sklearn/base.py:251: UserWarning: Trying to unpickle estimator StandardScaler from version 0.19.2 when using version 0.20.0. This might lead to breaking code or invalid results. Use at your own risk.\n",
      "  UserWarning)\n",
      "/opt/modules/i12g/anaconda/3-5.0.1/envs/mmsplice-manuscript/lib/python3.6/site-packages/sklearn/base.py:251: UserWarning: Trying to unpickle estimator LogisticRegression from version 0.19.2 when using version 0.20.0. This might lead to breaking code or invalid results. Use at your own risk.\n",
      "  UserWarning)\n",
      "/opt/modules/i12g/anaconda/3-5.0.1/envs/mmsplice-manuscript/lib/python3.6/site-packages/sklearn/base.py:251: UserWarning: Trying to unpickle estimator Pipeline from version 0.19.2 when using version 0.20.0. This might lead to breaking code or invalid results. Use at your own risk.\n",
      "  UserWarning)\n"
     ]
    }
   ],
   "source": [
    "import kipoi\n",
    "from kipoi.model import KerasModel\n",
    "import numpy as np\n",
    "import pandas as pd\n",
    "from scipy.stats import spearmanr, pearsonr\n",
    "import matplotlib.pyplot as plt\n",
    "%matplotlib inline \n",
    "\n",
    "from mmsplice.exon_dataloader import ExonDataset\n",
    "\n",
    "from kipoi.data import DataLoader\n",
    "from kipoi.data_utils import numpy_collate\n",
    "\n",
    "from keras.models import load_model\n",
    "from concise.preprocessing import encodeDNA\n",
    "\n",
    "%load_ext autoreload\n",
    "%autoreload 2\n",
    "\n",
    "projectDIR = \"../../data/\""
   ]
  },
  {
   "cell_type": "code",
   "execution_count": 2,
   "metadata": {},
   "outputs": [],
   "source": [
    "dl1 = ExonDataset(projectDIR+\"gtex/A5SS_SD1_variant.csv\",\n",
    "           projectDIR+\"shared/hg19.fa\", split_seq=False, overhang=(40,40))"
   ]
  },
  {
   "cell_type": "code",
   "execution_count": 3,
   "metadata": {},
   "outputs": [],
   "source": [
    "dl2 = ExonDataset(projectDIR+\"gtex/A5SS_SD2_variant.csv\",\n",
    "           projectDIR+\"shared/hg19.fa\", split_seq=False, overhang=(40,40))"
   ]
  },
  {
   "cell_type": "code",
   "execution_count": 4,
   "metadata": {},
   "outputs": [],
   "source": [
    "dl1 = DataLoader(dl1, batch_size=dl1.__len__(), collate_fn=numpy_collate, shuffle=False)\n",
    "dl1 = iter(dl1)\n",
    "dt1 = next(dl1)"
   ]
  },
  {
   "cell_type": "code",
   "execution_count": 5,
   "metadata": {},
   "outputs": [],
   "source": [
    "dl2 = DataLoader(dl2, batch_size=dl2.__len__(), collate_fn=numpy_collate, shuffle=False)\n",
    "dl2 = iter(dl2)\n",
    "dt2 = next(dl2)"
   ]
  },
  {
   "cell_type": "code",
   "execution_count": 6,
   "metadata": {},
   "outputs": [],
   "source": [
    "csv = projectDIR+\"gtex/A5SS_SD1_variant.csv\"\n",
    "csvf = pd.read_csv(csv, sep=',', index_col=0)\n",
    "csvf = csvf.reset_index()"
   ]
  },
  {
   "cell_type": "code",
   "execution_count": 7,
   "metadata": {},
   "outputs": [],
   "source": [
    "# WT_ACC: Exon with 40 nt flanking\n",
    "csvf['WT_DONOR1'] = dt1['inputs']['seq']\n",
    "csvf['WT_DONOR2'] = dt2['inputs']['seq']\n",
    "csvf['MUT_DONOR1'] = dt1['mut_inputs']['seq']\n",
    "csvf['MUT_DONOR2'] = dt2['mut_inputs']['seq']"
   ]
  },
  {
   "cell_type": "markdown",
   "metadata": {},
   "source": [
    "## Process for COSSMO"
   ]
  },
  {
   "cell_type": "code",
   "execution_count": 8,
   "metadata": {},
   "outputs": [],
   "source": [
    "import tensorflow as tf\n",
    "from mmsplice.vcf_dataloader import FastaSeq\n",
    "from mmsplice.IntervalTree import Interval"
   ]
  },
  {
   "cell_type": "code",
   "execution_count": 9,
   "metadata": {},
   "outputs": [],
   "source": [
    "fasta = FastaSeq(projectDIR+'shared/hg19.fa')"
   ]
  },
  {
   "cell_type": "code",
   "execution_count": 10,
   "metadata": {},
   "outputs": [],
   "source": [
    "from mmsplice.vcf_dataloader import FastaSeq\n",
    "from mmsplice.IntervalTree import Interval\n",
    "\n",
    "# fasta = FastaSeq(fasta, as_raw=False)\n",
    "def get_constseq_donor(event, fasta):\n",
    "    # return 1. alt ss positions, const pos\n",
    "    # 2. const sequence\n",
    "    event_split = event.split(\":\")\n",
    "    strand = event_split[-1]\n",
    "    if strand == \"+\":\n",
    "        const_pos = int(event_split[-3])\n",
    "        alt_ss_pos = event_split[2].split(\"|\")\n",
    "    else:\n",
    "        const_pos = int(event_split[-2])\n",
    "        alt_ss_pos = event_split[2].split(\"|\")[::-1]\n",
    "    alt_ss_pos = [int(i) for i in alt_ss_pos]\n",
    "    chrom = event_split[0]\n",
    "    if strand == \"+\":\n",
    "        const = Interval(chrom=chrom, start=const_pos-40, end=const_pos+40-1, strand=strand)\n",
    "    else:\n",
    "        const = Interval(chrom=chrom, start=const_pos-40+1, end=const_pos+40, strand=strand)\n",
    "        const_pos = -const_pos\n",
    "        alt_ss_pos = [-i for i in alt_ss_pos]\n",
    "    constseq = fasta.getSeq(const)\n",
    "    return constseq, const_pos, alt_ss_pos"
   ]
  },
  {
   "cell_type": "code",
   "execution_count": 11,
   "metadata": {},
   "outputs": [],
   "source": [
    "# process one row of csvf, return cossmo inputs\n",
    "def cossmo_inputs(x, fasta, placeholder, wt=True):\n",
    "    constseq, const_pos, alt_ss_pos = get_constseq_donor(x.event_name, fasta)\n",
    "    if wt:\n",
    "        DONOR1seq = x.WT_DONOR1\n",
    "        DONOR2seq = x.WT_DONOR2\n",
    "    else:\n",
    "        DONOR1seq = x.MUT_DONOR1\n",
    "        DONOR2seq = x.MUT_DONOR2\n",
    "    alt_dna_seq = [DONOR1seq[-80:], DONOR2seq[-80:]]\n",
    "    rns_seq = [DONOR1seq[:40]+constseq[40:80], DONOR2seq[:40]+constseq[40:80]]\n",
    "    return {placeholders['alt_dna_seq']: alt_dna_seq,\n",
    "            placeholders['const_site_position']: const_pos,\n",
    "            placeholders['const_dna_seq']: constseq,\n",
    "            placeholders['n_alt_ss']: 2,\n",
    "            placeholders['alt_ss_position']: alt_ss_pos,\n",
    "            placeholders['rna_seq']: rns_seq}"
   ]
  },
  {
   "cell_type": "code",
   "execution_count": 12,
   "metadata": {},
   "outputs": [],
   "source": [
    "def transpose_collate(collate, placeholders):\n",
    "    collate[placeholders['alt_dna_seq']] = np.array(collate[placeholders['alt_dna_seq']]).T\n",
    "    collate[placeholders['alt_ss_position']] = np.array(collate[placeholders['alt_ss_position']]).T\n",
    "    collate[placeholders['rna_seq']] = np.array(collate[placeholders['rna_seq']]).T\n",
    "    return collate"
   ]
  },
  {
   "cell_type": "code",
   "execution_count": 13,
   "metadata": {},
   "outputs": [
    {
     "name": "stdout",
     "output_type": "stream",
     "text": [
      "INFO:tensorflow:Restoring parameters from ../../data/COSSMO/saved_model_donor_lstm_1_fold0/variables/variables\n"
     ]
    },
    {
     "name": "stderr",
     "output_type": "stream",
     "text": [
      "2018-11-16 17:18:59,492 [INFO] Restoring parameters from ../../data/COSSMO/saved_model_donor_lstm_1_fold0/variables/variables\n"
     ]
    }
   ],
   "source": [
    "session = tf.Session()\n",
    "sm = tf.saved_model.loader.load(\n",
    "  session, \n",
    "  [tf.saved_model.tag_constants.SERVING], \n",
    "  projectDIR+'COSSMO/saved_model_donor_lstm_1_fold0'\n",
    ")\n",
    "placeholders = {n.name[n.name.rfind('/') + 1:-2]: n\n",
    "  for n in tf.get_collection('inputs')}\n",
    "psi_prediction, logits = tf.get_collection('outputs')"
   ]
  },
  {
   "cell_type": "code",
   "execution_count": 14,
   "metadata": {},
   "outputs": [],
   "source": [
    "WT_inputs = numpy_collate(csvf.apply(lambda x: cossmo_inputs(x, fasta, placeholders, wt=True), axis=1))\n",
    "WT_inputs = transpose_collate(WT_inputs, placeholders)\n",
    "pred_wt = session.run((psi_prediction, logits), feed_dict=WT_inputs)"
   ]
  },
  {
   "cell_type": "code",
   "execution_count": 15,
   "metadata": {},
   "outputs": [],
   "source": [
    "MUT_inputs = numpy_collate(csvf.apply(lambda x: cossmo_inputs(x, fasta, placeholders, wt=False), axis=1))\n",
    "MUT_inputs = transpose_collate(MUT_inputs, placeholders)\n",
    "pred_mut = session.run((psi_prediction, logits), feed_dict=MUT_inputs)"
   ]
  },
  {
   "cell_type": "markdown",
   "metadata": {},
   "source": [
    "## Plot"
   ]
  },
  {
   "cell_type": "code",
   "execution_count": 16,
   "metadata": {},
   "outputs": [],
   "source": [
    "df = pd.read_csv(projectDIR+\"gtex/A5SS_PSI.csv\", index_col=0)\n",
    "df = df.reset_index()"
   ]
  },
  {
   "cell_type": "code",
   "execution_count": 17,
   "metadata": {},
   "outputs": [],
   "source": [
    "DPSI_PRED = pred_mut[0][0][:,1] - pred_wt[0][0][:,1]"
   ]
  },
  {
   "cell_type": "code",
   "execution_count": 18,
   "metadata": {},
   "outputs": [],
   "source": [
    "df['DPSI_PRED_HOMO'] = pred_mut[0][0][:,1] - pred_wt[0][0][:,1]\n",
    "df['DPSI_PRED_HETERO'] = (pred_mut[0][0][:,1] + pred_wt[0][0][:,1]) / 2 - pred_wt[0][0][:,1]"
   ]
  },
  {
   "cell_type": "code",
   "execution_count": 19,
   "metadata": {},
   "outputs": [
    {
     "data": {
      "text/html": [
       "<div>\n",
       "<style scoped>\n",
       "    .dataframe tbody tr th:only-of-type {\n",
       "        vertical-align: middle;\n",
       "    }\n",
       "\n",
       "    .dataframe tbody tr th {\n",
       "        vertical-align: top;\n",
       "    }\n",
       "\n",
       "    .dataframe thead th {\n",
       "        text-align: right;\n",
       "    }\n",
       "</style>\n",
       "<table border=\"1\" class=\"dataframe\">\n",
       "  <thead>\n",
       "    <tr style=\"text-align: right;\">\n",
       "      <th></th>\n",
       "      <th>index</th>\n",
       "      <th>event_name</th>\n",
       "      <th>CHROM</th>\n",
       "      <th>variant_position</th>\n",
       "      <th>REF</th>\n",
       "      <th>ALT</th>\n",
       "      <th>HETERO_MEAN</th>\n",
       "      <th>WT_MEAN</th>\n",
       "      <th>HOMO_MEAN</th>\n",
       "      <th>DPSI_PRED_HOMO</th>\n",
       "      <th>DPSI_PRED_HETERO</th>\n",
       "    </tr>\n",
       "  </thead>\n",
       "  <tbody>\n",
       "    <tr>\n",
       "      <th>0</th>\n",
       "      <td>0</td>\n",
       "      <td>chr7:99810756:99810576|99810646:-@chr7:9980901...</td>\n",
       "      <td>7</td>\n",
       "      <td>99810643</td>\n",
       "      <td>T</td>\n",
       "      <td>G</td>\n",
       "      <td>0.242292</td>\n",
       "      <td>0.197791</td>\n",
       "      <td>0.320097</td>\n",
       "      <td>-0.449987</td>\n",
       "      <td>-0.224993</td>\n",
       "    </tr>\n",
       "    <tr>\n",
       "      <th>1</th>\n",
       "      <td>1</td>\n",
       "      <td>chr7:99810756:99810646|99810670:-@chr7:9980901...</td>\n",
       "      <td>7</td>\n",
       "      <td>99810643</td>\n",
       "      <td>T</td>\n",
       "      <td>G</td>\n",
       "      <td>0.144643</td>\n",
       "      <td>0.229302</td>\n",
       "      <td>0.068097</td>\n",
       "      <td>0.380121</td>\n",
       "      <td>0.190060</td>\n",
       "    </tr>\n",
       "    <tr>\n",
       "      <th>2</th>\n",
       "      <td>2</td>\n",
       "      <td>chr17:80014162:80014267|80014426:+@chr17:80014...</td>\n",
       "      <td>17</td>\n",
       "      <td>80014272</td>\n",
       "      <td>G</td>\n",
       "      <td>GCC</td>\n",
       "      <td>0.678092</td>\n",
       "      <td>0.745537</td>\n",
       "      <td>0.776000</td>\n",
       "      <td>-0.034737</td>\n",
       "      <td>-0.017368</td>\n",
       "    </tr>\n",
       "    <tr>\n",
       "      <th>3</th>\n",
       "      <td>3</td>\n",
       "      <td>chr15:41799855:41799712|41799760:-@chr15:41799...</td>\n",
       "      <td>15</td>\n",
       "      <td>41799711</td>\n",
       "      <td>C</td>\n",
       "      <td>T</td>\n",
       "      <td>0.449375</td>\n",
       "      <td>0.426013</td>\n",
       "      <td>0.365000</td>\n",
       "      <td>-0.238776</td>\n",
       "      <td>-0.119388</td>\n",
       "    </tr>\n",
       "    <tr>\n",
       "      <th>4</th>\n",
       "      <td>4</td>\n",
       "      <td>chr3:10329629:10329786|10329790:+@chr3:1033375...</td>\n",
       "      <td>3</td>\n",
       "      <td>10329788</td>\n",
       "      <td>C</td>\n",
       "      <td>G</td>\n",
       "      <td>0.478750</td>\n",
       "      <td>0.426461</td>\n",
       "      <td>NaN</td>\n",
       "      <td>0.177567</td>\n",
       "      <td>0.088783</td>\n",
       "    </tr>\n",
       "  </tbody>\n",
       "</table>\n",
       "</div>"
      ],
      "text/plain": [
       "   index                                         event_name  CHROM  \\\n",
       "0      0  chr7:99810756:99810576|99810646:-@chr7:9980901...      7   \n",
       "1      1  chr7:99810756:99810646|99810670:-@chr7:9980901...      7   \n",
       "2      2  chr17:80014162:80014267|80014426:+@chr17:80014...     17   \n",
       "3      3  chr15:41799855:41799712|41799760:-@chr15:41799...     15   \n",
       "4      4  chr3:10329629:10329786|10329790:+@chr3:1033375...      3   \n",
       "\n",
       "   variant_position REF  ALT  HETERO_MEAN   WT_MEAN  HOMO_MEAN  \\\n",
       "0          99810643   T    G     0.242292  0.197791   0.320097   \n",
       "1          99810643   T    G     0.144643  0.229302   0.068097   \n",
       "2          80014272   G  GCC     0.678092  0.745537   0.776000   \n",
       "3          41799711   C    T     0.449375  0.426013   0.365000   \n",
       "4          10329788   C    G     0.478750  0.426461        NaN   \n",
       "\n",
       "   DPSI_PRED_HOMO  DPSI_PRED_HETERO  \n",
       "0       -0.449987         -0.224993  \n",
       "1        0.380121          0.190060  \n",
       "2       -0.034737         -0.017368  \n",
       "3       -0.238776         -0.119388  \n",
       "4        0.177567          0.088783  "
      ]
     },
     "execution_count": 19,
     "metadata": {},
     "output_type": "execute_result"
    }
   ],
   "source": [
    "df.head()"
   ]
  },
  {
   "cell_type": "code",
   "execution_count": 20,
   "metadata": {},
   "outputs": [],
   "source": [
    "df_HOMO = df[~df.HOMO_MEAN.isna()]\n",
    "df_HETERO = df[~df.HETERO_MEAN.isna()]"
   ]
  },
  {
   "cell_type": "code",
   "execution_count": 21,
   "metadata": {},
   "outputs": [
    {
     "data": {
      "image/png": "[encoded data removed]",
      "text/plain": [
       "<Figure size 360x360 with 1 Axes>"
      ]
     },
     "metadata": {
      "needs_background": "light"
     },
     "output_type": "display_data"
    }
   ],
   "source": [
    "fig = plt.figure(figsize=(5, 5))\n",
    "ax = fig.add_subplot(111)\n",
    "# ax.axis([-1,1,-1,1])\n",
    "ax.scatter(df_HOMO['DPSI_PRED_HOMO'], df_HOMO['HOMO_MEAN'] - df_HOMO['WT_MEAN'], s=5, c='b')\n",
    "ax.scatter(df_HETERO['DPSI_PRED_HETERO'], df_HETERO['HETERO_MEAN'] - df_HETERO['WT_MEAN'], s=5, c='r')\n",
    "ax.set_xlabel(\"Predicted DPSI\")\n",
    "ax.set_ylabel(\"Measured DPSI\")\n",
    "ax.axhline(y=0,c='k')\n",
    "ax.axvline(x=0,c='k')\n",
    "ax.spines['bottom'].set_visible(False)\n",
    "ax.spines['left'].set_visible(False)\n",
    "ax.spines['top'].set_visible(False)\n",
    "ax.spines['right'].set_visible(False)\n",
    "plt.show()"
   ]
  },
  {
   "cell_type": "code",
   "execution_count": 23,
   "metadata": {},
   "outputs": [],
   "source": [
    "df_HOMO.to_csv(projectDIR + \"gtex/COSSMO_SD_HOMO.csv\")\n",
    "df_HETERO.to_csv(projectDIR + \"gtex/COSSMO_SD_HETERO.csv\")"
   ]
  },
  {
   "cell_type": "code",
   "execution_count": null,
   "metadata": {},
   "outputs": [],
   "source": []
  }
 ],
 "metadata": {
  "kernelspec": {
   "display_name": "Python [conda env:mmsplice-manuscript]",
   "language": "python",
   "name": "conda-env-mmsplice-manuscript-py"
  },
  "language_info": {
   "codemirror_mode": {
    "name": "ipython",
    "version": 3
   },
   "file_extension": ".py",
   "mimetype": "text/x-python",
   "name": "python",
   "nbconvert_exporter": "python",
   "pygments_lexer": "ipython3",
   "version": "3.6.5"
  }
 },
 "nbformat": 4,
 "nbformat_minor": 2
}
