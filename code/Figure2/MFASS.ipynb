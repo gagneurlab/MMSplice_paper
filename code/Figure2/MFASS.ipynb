{
 "cells": [
  {
   "cell_type": "markdown",
   "metadata": {},
   "source": [
    "## Process MFASS data"
   ]
  },
  {
   "cell_type": "markdown",
   "metadata": {},
   "source": [
    "Sequences of the reference and alternative are already provided for this dataset. Write function to extract different components.\n",
    "\n",
    "This is an exon skipping setting."
   ]
  },
  {
   "cell_type": "code",
   "execution_count": 1,
   "metadata": {},
   "outputs": [
    {
     "name": "stderr",
     "output_type": "stream",
     "text": [
      "Using TensorFlow backend.\n"
     ]
    }
   ],
   "source": [
    "import sys\n",
    "sys.path.append(\"../\")\n",
    "\n",
    "from kipoi.data import DataLoader\n",
    "from kipoi.data_utils import numpy_collate\n",
    "from concise.preprocessing import encodeDNA\n",
    "from keras.models import load_model\n",
    "from MFASS_dataloader import MFASS_Exon_Dataset\n",
    "from scipy.stats import spearmanr, pearsonr\n",
    "\n",
    "import pandas as pd\n",
    "import numpy as np\n",
    "import matplotlib.pyplot as plt\n",
    "%matplotlib inline \n",
    "from sklearn.metrics import precision_recall_curve\n",
    "\n",
    "import mmsplice\n",
    "from mmsplice.generic import onehot, logit, expit\n",
    "from mmsplice import MMSplice\n",
    "from mmsplice.utils.postproc import transform\n",
    "\n",
    "%load_ext autoreload\n",
    "%autoreload 2\n",
    "\n",
    "projectDIR = \"../../data/\""
   ]
  },
  {
   "cell_type": "code",
   "execution_count": 2,
   "metadata": {},
   "outputs": [],
   "source": [
    "dtfile = projectDIR + \"mfass/snv_data_clean.txt\""
   ]
  },
  {
   "cell_type": "code",
   "execution_count": 3,
   "metadata": {},
   "outputs": [],
   "source": [
    "mfass = pd.read_table(dtfile)"
   ]
  },
  {
   "cell_type": "code",
   "execution_count": 4,
   "metadata": {},
   "outputs": [
    {
     "data": {
      "text/html": [
       "<div>\n",
       "<style scoped>\n",
       "    .dataframe tbody tr th:only-of-type {\n",
       "        vertical-align: middle;\n",
       "    }\n",
       "\n",
       "    .dataframe tbody tr th {\n",
       "        vertical-align: top;\n",
       "    }\n",
       "\n",
       "    .dataframe thead th {\n",
       "        text-align: right;\n",
       "    }\n",
       "</style>\n",
       "<table border=\"1\" class=\"dataframe\">\n",
       "  <thead>\n",
       "    <tr style=\"text-align: right;\">\n",
       "      <th></th>\n",
       "      <th>id</th>\n",
       "      <th>ensembl_id</th>\n",
       "      <th>sub_id</th>\n",
       "      <th>chr</th>\n",
       "      <th>start</th>\n",
       "      <th>end</th>\n",
       "      <th>strand</th>\n",
       "      <th>intron1_len</th>\n",
       "      <th>exon_len</th>\n",
       "      <th>intron2_len</th>\n",
       "      <th>...</th>\n",
       "      <th>v2_dpsi_R1</th>\n",
       "      <th>v2_dpsi_R2</th>\n",
       "      <th>nat_v1_index</th>\n",
       "      <th>nat_v2_index</th>\n",
       "      <th>nat_seq</th>\n",
       "      <th>v1_dpsi</th>\n",
       "      <th>v2_dpsi</th>\n",
       "      <th>delta_dpsi</th>\n",
       "      <th>strong_lof</th>\n",
       "      <th>strong_lof_v1</th>\n",
       "    </tr>\n",
       "  </thead>\n",
       "  <tbody>\n",
       "    <tr>\n",
       "      <th>0</th>\n",
       "      <td>ENSE00000332835_000</td>\n",
       "      <td>ENSE00000332835</td>\n",
       "      <td>000</td>\n",
       "      <td>chrX</td>\n",
       "      <td>48837777</td>\n",
       "      <td>48837946</td>\n",
       "      <td>-</td>\n",
       "      <td>51</td>\n",
       "      <td>57</td>\n",
       "      <td>62</td>\n",
       "      <td>...</td>\n",
       "      <td>0.000000</td>\n",
       "      <td>0.000000</td>\n",
       "      <td>0.848391</td>\n",
       "      <td>0.830145</td>\n",
       "      <td>GAGGGAGCATGCTTCAGGCAGCCCTTCCGGCATCTACCAGCCATGC...</td>\n",
       "      <td>0.0</td>\n",
       "      <td>0.000000</td>\n",
       "      <td>0.0</td>\n",
       "      <td>False</td>\n",
       "      <td>False</td>\n",
       "    </tr>\n",
       "    <tr>\n",
       "      <th>1</th>\n",
       "      <td>ENSE00000332835_007</td>\n",
       "      <td>ENSE00000332835</td>\n",
       "      <td>007</td>\n",
       "      <td>chrX</td>\n",
       "      <td>48837777</td>\n",
       "      <td>48837946</td>\n",
       "      <td>-</td>\n",
       "      <td>51</td>\n",
       "      <td>57</td>\n",
       "      <td>62</td>\n",
       "      <td>...</td>\n",
       "      <td>-0.053480</td>\n",
       "      <td>0.141578</td>\n",
       "      <td>0.848391</td>\n",
       "      <td>0.830145</td>\n",
       "      <td>GAGGGAGCATGCTTCAGGCAGCCCTTCCGGCATCTACCAGCCATGC...</td>\n",
       "      <td>NaN</td>\n",
       "      <td>0.044049</td>\n",
       "      <td>NaN</td>\n",
       "      <td>False</td>\n",
       "      <td>NaN</td>\n",
       "    </tr>\n",
       "    <tr>\n",
       "      <th>2</th>\n",
       "      <td>ENSE00000338771_000</td>\n",
       "      <td>ENSE00000338771</td>\n",
       "      <td>000</td>\n",
       "      <td>chr15</td>\n",
       "      <td>41029796</td>\n",
       "      <td>41029965</td>\n",
       "      <td>-</td>\n",
       "      <td>30</td>\n",
       "      <td>99</td>\n",
       "      <td>41</td>\n",
       "      <td>...</td>\n",
       "      <td>0.000000</td>\n",
       "      <td>0.000000</td>\n",
       "      <td>NaN</td>\n",
       "      <td>0.712929</td>\n",
       "      <td>TTTTAAAACCTCTTATACACACCTTGATCTTTTTGTGGCAGGTCTC...</td>\n",
       "      <td>NaN</td>\n",
       "      <td>0.000000</td>\n",
       "      <td>NaN</td>\n",
       "      <td>False</td>\n",
       "      <td>NaN</td>\n",
       "    </tr>\n",
       "    <tr>\n",
       "      <th>3</th>\n",
       "      <td>ENSE00000338771_002</td>\n",
       "      <td>ENSE00000338771</td>\n",
       "      <td>002</td>\n",
       "      <td>chr15</td>\n",
       "      <td>41029796</td>\n",
       "      <td>41029965</td>\n",
       "      <td>-</td>\n",
       "      <td>30</td>\n",
       "      <td>99</td>\n",
       "      <td>41</td>\n",
       "      <td>...</td>\n",
       "      <td>-0.599316</td>\n",
       "      <td>-0.806640</td>\n",
       "      <td>NaN</td>\n",
       "      <td>0.712929</td>\n",
       "      <td>TTTTAAAACCTCTTATACACACCTTGATCTTTTTGTGGCAGGTCTC...</td>\n",
       "      <td>NaN</td>\n",
       "      <td>-0.702978</td>\n",
       "      <td>NaN</td>\n",
       "      <td>True</td>\n",
       "      <td>NaN</td>\n",
       "    </tr>\n",
       "    <tr>\n",
       "      <th>4</th>\n",
       "      <td>ENSE00000338771_003</td>\n",
       "      <td>ENSE00000338771</td>\n",
       "      <td>003</td>\n",
       "      <td>chr15</td>\n",
       "      <td>41029796</td>\n",
       "      <td>41029965</td>\n",
       "      <td>-</td>\n",
       "      <td>30</td>\n",
       "      <td>99</td>\n",
       "      <td>41</td>\n",
       "      <td>...</td>\n",
       "      <td>0.268491</td>\n",
       "      <td>0.187646</td>\n",
       "      <td>NaN</td>\n",
       "      <td>0.712929</td>\n",
       "      <td>TTTTAAAACCTCTTATACACACCTTGATCTTTTTGTGGCAGGTCTC...</td>\n",
       "      <td>NaN</td>\n",
       "      <td>0.228068</td>\n",
       "      <td>NaN</td>\n",
       "      <td>False</td>\n",
       "      <td>NaN</td>\n",
       "    </tr>\n",
       "  </tbody>\n",
       "</table>\n",
       "<p>5 rows × 54 columns</p>\n",
       "</div>"
      ],
      "text/plain": [
       "                    id       ensembl_id sub_id    chr     start       end  \\\n",
       "0  ENSE00000332835_000  ENSE00000332835    000   chrX  48837777  48837946   \n",
       "1  ENSE00000332835_007  ENSE00000332835    007   chrX  48837777  48837946   \n",
       "2  ENSE00000338771_000  ENSE00000338771    000  chr15  41029796  41029965   \n",
       "3  ENSE00000338771_002  ENSE00000338771    002  chr15  41029796  41029965   \n",
       "4  ENSE00000338771_003  ENSE00000338771    003  chr15  41029796  41029965   \n",
       "\n",
       "  strand  intron1_len  exon_len  intron2_len      ...       v2_dpsi_R1  \\\n",
       "0      -           51        57           62      ...         0.000000   \n",
       "1      -           51        57           62      ...        -0.053480   \n",
       "2      -           30        99           41      ...         0.000000   \n",
       "3      -           30        99           41      ...        -0.599316   \n",
       "4      -           30        99           41      ...         0.268491   \n",
       "\n",
       "  v2_dpsi_R2  nat_v1_index  nat_v2_index  \\\n",
       "0   0.000000      0.848391      0.830145   \n",
       "1   0.141578      0.848391      0.830145   \n",
       "2   0.000000           NaN      0.712929   \n",
       "3  -0.806640           NaN      0.712929   \n",
       "4   0.187646           NaN      0.712929   \n",
       "\n",
       "                                             nat_seq v1_dpsi   v2_dpsi  \\\n",
       "0  GAGGGAGCATGCTTCAGGCAGCCCTTCCGGCATCTACCAGCCATGC...     0.0  0.000000   \n",
       "1  GAGGGAGCATGCTTCAGGCAGCCCTTCCGGCATCTACCAGCCATGC...     NaN  0.044049   \n",
       "2  TTTTAAAACCTCTTATACACACCTTGATCTTTTTGTGGCAGGTCTC...     NaN  0.000000   \n",
       "3  TTTTAAAACCTCTTATACACACCTTGATCTTTTTGTGGCAGGTCTC...     NaN -0.702978   \n",
       "4  TTTTAAAACCTCTTATACACACCTTGATCTTTTTGTGGCAGGTCTC...     NaN  0.228068   \n",
       "\n",
       "   delta_dpsi  strong_lof  strong_lof_v1  \n",
       "0         0.0       False          False  \n",
       "1         NaN       False            NaN  \n",
       "2         NaN       False            NaN  \n",
       "3         NaN        True            NaN  \n",
       "4         NaN       False            NaN  \n",
       "\n",
       "[5 rows x 54 columns]"
      ]
     },
     "execution_count": 4,
     "metadata": {},
     "output_type": "execute_result"
    }
   ],
   "source": [
    "mfass.head()"
   ]
  },
  {
   "cell_type": "code",
   "execution_count": 5,
   "metadata": {},
   "outputs": [
    {
     "data": {
      "text/plain": [
       "(32669, 54)"
      ]
     },
     "execution_count": 5,
     "metadata": {},
     "output_type": "execute_result"
    }
   ],
   "source": [
    "mfass.shape"
   ]
  },
  {
   "cell_type": "code",
   "execution_count": 6,
   "metadata": {},
   "outputs": [],
   "source": [
    "dl = MFASS_Exon_Dataset(dtfile)"
   ]
  },
  {
   "cell_type": "code",
   "execution_count": 7,
   "metadata": {},
   "outputs": [],
   "source": [
    "dl = DataLoader(dl, batch_size=dl.__len__(), collate_fn=numpy_collate, shuffle=False)\n",
    "dl = iter(dl)"
   ]
  },
  {
   "cell_type": "code",
   "execution_count": 8,
   "metadata": {},
   "outputs": [],
   "source": [
    "dt = next(dl)"
   ]
  },
  {
   "cell_type": "code",
   "execution_count": 9,
   "metadata": {},
   "outputs": [
    {
     "data": {
      "text/plain": [
       "array(['GAGGGAGCATGCTTCAGGCAGCCCTTCCGGCATCTACCAGCCATGCCTGCTTTCTCCCACAGGAGGTGAAGGACACAGTGGATGGGCAGAGGATCCTGGAGAAGAAGGGCAGTGCTGCGGTAAGACAGAGCGGTGCCCAAGCACGGCTCCCTCCTACCTGTAGCCTCCCT',\n",
       "       'GAGGGAGCATGCTTCAGGCAGCCCTTCCGGCATCTACCAGCCATGCCTGCTTTCTCCCACAGGAGGTGAAGGACACAGTGGATGGGCAGAGGATCCTGGAGAAGAAGGGCAGTGCTGCGGTAAGACAGAGCGGTGCCCAAGCACGGCTCCCTCCTACCTGTAGCCTCCCT',\n",
       "       'TTTTAAAACCTCTTATACACACCTTGATCTTTTTGTGGCAGGTCTCTCACCTGAGCTGGCTAGAAAAAAAAACTGCTACAGCCTTGCTTGAAAGCCCTCTCAGTGCCACTGTGGAAGATGCCCTCCAGAGCTTCCTAAAGGTATGAGAGGGGCAGGTGGCAGGCAAAAAC',\n",
       "       ...,\n",
       "       'CTTTGCTCACTTTCACTCACTCTCTTTTTCATTTCTCCCCCCAGTTTCACCGCAAATGTGAATTATCAACGTTGTGTGACGGTGGGGAACTCAGAGACCACATCTTACTGCCCACCTCCATATGCCCCATCACCCGGGTAAGTGCTCCTGCCCCGGCGAGGGCTGTAGCT',\n",
       "       'CTTTGCTCACTTTCACTCACTCTCTTTTTCATTTCTCCCCCCAGTTTCACCGCAAATGTGAATTATCAACGTTGTGTGACGGTGGGGAACTCAGAGACCACATCTTACTGCCCACCTCCATATGCCCCATCACCCGGGTAAGTGCTCCTGCCCCGGCGAGGGCTGTAGCT',\n",
       "       'CTTTGCTCACTTTCACTCACTCTCTTTTTCATTTCTCCCCCCAGTTTCACCGCAAATGTGAATTATCAACGTTGTGTGACGGTGGGGAACTCAGAGACCACATCTTACTGCCCACCTCCATATGCCCCATCACCCGGGTAAGTGCTCCTGCCCCGGCGAGGGCTGTAGCT'],\n",
       "      dtype='<U170')"
      ]
     },
     "execution_count": 9,
     "metadata": {},
     "output_type": "execute_result"
    }
   ],
   "source": [
    "dt['inputs'][\"seq\"]"
   ]
  },
  {
   "cell_type": "code",
   "execution_count": 10,
   "metadata": {},
   "outputs": [
    {
     "data": {
      "text/plain": [
       "array(['GAGGGAGCATGCTTCAGGCAGCCCTTCCGGCATCTACCAGCCATGCCTGCTTTCTCCCACAGGAGGTGAAGGACACAGTGGATGGGCAGAGGATCCTGGAGAAGAAGGGCAGTGCTGCGGTAAGACAGAGCGGTGCCCAAGCACGGCTCCCTCCTACCTGTAGCCTCCCT',\n",
       "       'GAGGGAGCATGCTTCAGGCAGCCCTTCCGGCATCTACCAGCCATGCCTGCTTTCTCCCACAGGAGGTGAAGGACACAGTGGATGGGCAGAGGATCCTGGAGAAGAAGGGCAGTGCTGCGGTAAGACAGAGCGGTGCCCAAGCACGGCTCCCTCCTACCTGTAGCCTCCCT',\n",
       "       'TTTTAAAACCTCTTATACACACCTTGATCTTTTTGTGGCAGGTCTCTCACCTGAGCTGGCTAGAAAAAAAAACTGCTACAGCCTTGCTTGAAAGCCCTCTCAGTGCCACTGTGGAAGATGCCCTCCAGAGCTTCCTAAAGGTATGAGAGGGGCAGGTGGCAGGCAAAAAC',\n",
       "       ...,\n",
       "       'CTTTGCTCACTTTCACTCACTCTCTTTTTCATTTCTCCCCCCAGTTTCACCGCAAATGTGAATTATCAACGTTGTGTGACGGTGGGGAACTCAGAGACCACATCTTACTGCCCACCTCCATATGCCCCATCACCCGGGTAAGTGCTCCTGCCCCGGCGAGGGCTGTAGCT',\n",
       "       'CTTTGCTCACTTTCACTCACTCTCTTTTTCATTTCTCCCCCCAGTTTCACCGCAAATGTGAATTATCAACGTTGTGTGACGGTGGGGAACTCAGAGACCACATCTTACTGCCCACCTCCATATGCCCCATCACCCGGGTAAGTGCTCCTGCCCCGGCGAGGGCTGTAGCT',\n",
       "       'CTTTGCTCACTTTCACTCACTCTCTTTTTCATTTCTCCCCCCAGTTTCACCGCAAATGTGAATTATCAACGTTGTGTGACGGTGGGGAACTCAGAGACCACATCTTACTGCCCACCTCCATATGCCCCATCACCCGGGTAAGTGCTCCTGCCCCGGCGAGGGCTGTAGCT'],\n",
       "      dtype='<U170')"
      ]
     },
     "execution_count": 10,
     "metadata": {},
     "output_type": "execute_result"
    }
   ],
   "source": [
    "dt['inputs'][\"seq\"]"
   ]
  },
  {
   "cell_type": "code",
   "execution_count": 11,
   "metadata": {},
   "outputs": [
    {
     "data": {
      "text/plain": [
       "array([51, 51, 30, ..., 33, 33, 33])"
      ]
     },
     "execution_count": 11,
     "metadata": {},
     "output_type": "execute_result"
    }
   ],
   "source": [
    "dt['inputs']['intronr_len']"
   ]
  },
  {
   "cell_type": "markdown",
   "metadata": {},
   "source": [
    "## Apply prediction model"
   ]
  },
  {
   "cell_type": "code",
   "execution_count": 12,
   "metadata": {},
   "outputs": [
    {
     "name": "stderr",
     "output_type": "stream",
     "text": [
      "/opt/modules/i12g/anaconda/3-5.0.1/envs/splicing/lib/python3.6/site-packages/keras/engine/saving.py:270: UserWarning: No training configuration found in save file: the model was *not* compiled. Compile it manually.\n",
      "  warnings.warn('No training configuration found in save file: '\n"
     ]
    }
   ],
   "source": [
    "model = MMSplice(\n",
    "    exon_cut_l=0,\n",
    "    exon_cut_r=0,\n",
    "    acceptor_intron_cut=6,\n",
    "    donor_intron_cut=6,\n",
    "    acceptor_intron_len=50,\n",
    "    acceptor_exon_len=3,\n",
    "    donor_exon_len=5,\n",
    "    donor_intron_len=13)"
   ]
  },
  {
   "cell_type": "code",
   "execution_count": 13,
   "metadata": {},
   "outputs": [
    {
     "name": "stderr",
     "output_type": "stream",
     "text": [
      "/opt/modules/i12g/anaconda/3-5.0.1/envs/splicing/lib/python3.6/site-packages/mmsplice/mmsplice.py:157: UserWarning: None GT donor\n",
      "  warnings.warn(\"None GT donor\", UserWarning)\n"
     ]
    }
   ],
   "source": [
    "ref = model.predict_on_unsplitted_batch(dt['inputs'])"
   ]
  },
  {
   "cell_type": "code",
   "execution_count": 14,
   "metadata": {},
   "outputs": [
    {
     "name": "stderr",
     "output_type": "stream",
     "text": [
      "/opt/modules/i12g/anaconda/3-5.0.1/envs/splicing/lib/python3.6/site-packages/mmsplice/mmsplice.py:157: UserWarning: None GT donor\n",
      "  warnings.warn(\"None GT donor\", UserWarning)\n",
      "/opt/modules/i12g/anaconda/3-5.0.1/envs/splicing/lib/python3.6/site-packages/mmsplice/mmsplice.py:159: UserWarning: None AG donor\n",
      "  warnings.warn(\"None AG donor\", UserWarning)\n"
     ]
    }
   ],
   "source": [
    "alt = model.predict_on_unsplitted_batch(dt['inputs_mut'])"
   ]
  },
  {
   "cell_type": "code",
   "execution_count": 15,
   "metadata": {},
   "outputs": [],
   "source": [
    "X = alt - ref"
   ]
  },
  {
   "cell_type": "code",
   "execution_count": 16,
   "metadata": {},
   "outputs": [],
   "source": [
    "exon_overlap = np.logical_or(np.logical_and(X[:,1]!=0, X[:,2]!=0), np.logical_and(X[:,2]!=0, X[:,3]!=0))\n",
    "\n",
    "acceptor_intron_overlap = np.logical_and(X[:,0]!=0, X[:,1]!=0)\n",
    "donor_intron_overlap = np.logical_and(X[:,3]!=0, X[:,4]!=0)\n",
    "\n",
    "X = np.hstack([X, (X[:,2]*exon_overlap).reshape(-1,1)])\n",
    "X = np.hstack([X, (X[:,4]*donor_intron_overlap).reshape(-1,1)])\n",
    "X = np.hstack([X, (X[:,0]*acceptor_intron_overlap).reshape(-1,1)])"
   ]
  },
  {
   "cell_type": "code",
   "execution_count": 17,
   "metadata": {},
   "outputs": [],
   "source": [
    "from sklearn.externals import joblib\n",
    "huber = joblib.load(projectDIR + 'vexseq/scale_model.pkl')\n",
    "\n",
    "pred_delta = huber.predict(X)"
   ]
  },
  {
   "cell_type": "code",
   "execution_count": 18,
   "metadata": {},
   "outputs": [],
   "source": [
    "keep = (mfass.nat_v2_index >=0.5) & (mfass.category=='mutant') & (~np.isnan(mfass.v2_dpsi))"
   ]
  },
  {
   "cell_type": "code",
   "execution_count": 19,
   "metadata": {},
   "outputs": [
    {
     "data": {
      "text/plain": [
       "(0.42129621882803897, 0.0)"
      ]
     },
     "execution_count": 19,
     "metadata": {},
     "output_type": "execute_result"
    }
   ],
   "source": [
    "pearsonr(pred_delta[keep], mfass.v2_dpsi[keep])"
   ]
  },
  {
   "cell_type": "code",
   "execution_count": 20,
   "metadata": {},
   "outputs": [],
   "source": [
    "ref_psi = mfass.nat_v2_index\n",
    "pred_delta += logit(ref_psi)\n",
    "pred_delta = expit(pred_delta)\n",
    "pred_delta -= ref_psi"
   ]
  },
  {
   "cell_type": "code",
   "execution_count": 21,
   "metadata": {},
   "outputs": [],
   "source": [
    "pred = pd.concat([mfass.strong_lof[keep], \n",
    "                 pd.Series(pred_delta)[keep], \n",
    "                 mfass.v2_dpsi[keep], \n",
    "                mfass.label[keep],\n",
    "                 mfass.id[keep]], axis=1, ignore_index=True)"
   ]
  },
  {
   "cell_type": "code",
   "execution_count": 22,
   "metadata": {},
   "outputs": [],
   "source": [
    "pred.to_csv(projectDIR+\"/mfass/MMSplice_pred.txt\", index=False)"
   ]
  },
  {
   "cell_type": "code",
   "execution_count": null,
   "metadata": {},
   "outputs": [],
   "source": []
  },
  {
   "cell_type": "code",
   "execution_count": null,
   "metadata": {},
   "outputs": [],
   "source": []
  }
 ],
 "metadata": {
  "kernelspec": {
   "display_name": "Python [conda env:splicing]",
   "language": "python",
   "name": "conda-env-splicing-py"
  },
  "language_info": {
   "codemirror_mode": {
    "name": "ipython",
    "version": 3
   },
   "file_extension": ".py",
   "mimetype": "text/x-python",
   "name": "python",
   "nbconvert_exporter": "python",
   "pygments_lexer": "ipython3",
   "version": "3.6.0"
  }
 },
 "nbformat": 4,
 "nbformat_minor": 2
}
