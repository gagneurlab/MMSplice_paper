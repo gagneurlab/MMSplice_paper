{
 "cells": [
  {
   "cell_type": "code",
   "execution_count": 1,
   "metadata": {},
   "outputs": [],
   "source": [
    "import pandas as pd\n",
    "import numpy as np\n",
    "import scipy\n",
    "import scipy.sparse\n",
    "import scipy.stats\n",
    "import os\n",
    "import scipy.io as sio\n",
    "%matplotlib inline\n",
    "from pylab import *\n",
    "\n",
    "# Plotting Params:\n",
    "rc('mathtext', default='regular')\n",
    "fsize=14\n",
    "\n",
    "projectDIR = \"../../\""
   ]
  },
  {
   "cell_type": "code",
   "execution_count": 2,
   "metadata": {},
   "outputs": [],
   "source": [
    "import sys\n",
    "sys.path.append(projectDIR + \"code\")\n",
    "# import Dataset\n",
    "import dnatools"
   ]
  },
  {
   "cell_type": "code",
   "execution_count": 3,
   "metadata": {},
   "outputs": [],
   "source": [
    "data = sio.loadmat(projectDIR + 'data/model_full_data.mat')\n",
    "sd_scores = pd.DataFrame(index=dnatools.make_mer_list(6),data=data['Mer_scores'][:4**6*8].reshape(4**6,8)[:,2:6])\n",
    "exonic_acceptor_scores = pd.read_pickle(projectDIR + 'data/exonic_acceptor_scores.series')\n",
    "exonic_mer6_scores = pd.read_pickle(projectDIR + 'data/exonic_mer6_scores.series')\n",
    "logit = lambda x: log(x)-log(1-x)\n",
    "expit = lambda x: 1./(1.+exp(-x))\n",
    "\n",
    "def score_seq(seq,mer_scores,mult_factor):\n",
    "    score = 0.\n",
    "    score += exonic_acceptor_scores.ix[seq[:3]]*mult_factor\n",
    "    for b in range(len(seq)-5-6-3):\n",
    "        score += mer_scores[seq[b:b+6]]*mult_factor\n",
    "    # Score the SD:\n",
    "    for b in range(4):\n",
    "        score += sd_scores.ix[seq[len(seq)-9+b:len(seq)-9+6+b],b]*mult_factor\n",
    "    return score"
   ]
  },
  {
   "cell_type": "code",
   "execution_count": 4,
   "metadata": {},
   "outputs": [],
   "source": [
    "vexseq = pd.read_table(projectDIR + \"data/vexseq/hal.txt\", header=None) # contain all variants"
   ]
  },
  {
   "cell_type": "code",
   "execution_count": 5,
   "metadata": {},
   "outputs": [],
   "source": [
    "vexseq.columns = ['ID', \"REF_SEQ\", \"ALT_SEQ\", \"REF_PSI\", \"side\", \"isSNP\"]"
   ]
  },
  {
   "cell_type": "code",
   "execution_count": 6,
   "metadata": {},
   "outputs": [
    {
     "data": {
      "text/html": [
       "<div>\n",
       "<style scoped>\n",
       "    .dataframe tbody tr th:only-of-type {\n",
       "        vertical-align: middle;\n",
       "    }\n",
       "\n",
       "    .dataframe tbody tr th {\n",
       "        vertical-align: top;\n",
       "    }\n",
       "\n",
       "    .dataframe thead th {\n",
       "        text-align: right;\n",
       "    }\n",
       "</style>\n",
       "<table border=\"1\" class=\"dataframe\">\n",
       "  <thead>\n",
       "    <tr style=\"text-align: right;\">\n",
       "      <th></th>\n",
       "      <th>ID</th>\n",
       "      <th>REF_SEQ</th>\n",
       "      <th>ALT_SEQ</th>\n",
       "      <th>REF_PSI</th>\n",
       "      <th>side</th>\n",
       "      <th>isSNP</th>\n",
       "    </tr>\n",
       "  </thead>\n",
       "  <tbody>\n",
       "    <tr>\n",
       "      <th>0</th>\n",
       "      <td>chr1_114161116_C_A</td>\n",
       "      <td>TTTCACTCTTGTCGCCCAAGCTGGAGTGCAATGGCATGATCTCGGC...</td>\n",
       "      <td>TTTCACTCTTGTCGCCCAAGCTGGAGTGCAATGGCATGATCTCGGC...</td>\n",
       "      <td>48.884934</td>\n",
       "      <td>left</td>\n",
       "      <td>True</td>\n",
       "    </tr>\n",
       "    <tr>\n",
       "      <th>1</th>\n",
       "      <td>chr1_114161130_T_C</td>\n",
       "      <td>TTTCACTCTTGTCGCCCAAGCTGGAGTGCAATGGCATGATCTCGGC...</td>\n",
       "      <td>TTTCACTCTTGTCGCCCAAGCTGGAGTGCAATGGCATGATCTCGGC...</td>\n",
       "      <td>48.884934</td>\n",
       "      <td>left</td>\n",
       "      <td>True</td>\n",
       "    </tr>\n",
       "    <tr>\n",
       "      <th>2</th>\n",
       "      <td>chr1_114161136_AT_A</td>\n",
       "      <td>TTTCACTCTTGTCGCCCAAGCTGGAGTGCAATGGCATGATCTCGGC...</td>\n",
       "      <td>TTTCACTCTTGTCGCCCAAGCTGGAGTGCAATGGCATGATCTCGGC...</td>\n",
       "      <td>48.884934</td>\n",
       "      <td>left</td>\n",
       "      <td>False</td>\n",
       "    </tr>\n",
       "    <tr>\n",
       "      <th>3</th>\n",
       "      <td>chr1_114161147_C_T</td>\n",
       "      <td>TTTCACTCTTGTCGCCCAAGCTGGAGTGCAATGGCATGATCTCGGC...</td>\n",
       "      <td>TTTCACTCTTGTCGCCCAAGCTGGAGTGCAATGGCATGATCTCGGC...</td>\n",
       "      <td>48.884934</td>\n",
       "      <td>left</td>\n",
       "      <td>True</td>\n",
       "    </tr>\n",
       "    <tr>\n",
       "      <th>4</th>\n",
       "      <td>chr1_114161148_G_A</td>\n",
       "      <td>TTTCACTCTTGTCGCCCAAGCTGGAGTGCAATGGCATGATCTCGGC...</td>\n",
       "      <td>TTTCACTCTTGTCGCCCAAGCTGGAGTGCAATGGCATGATCTCGGC...</td>\n",
       "      <td>48.884934</td>\n",
       "      <td>left</td>\n",
       "      <td>True</td>\n",
       "    </tr>\n",
       "  </tbody>\n",
       "</table>\n",
       "</div>"
      ],
      "text/plain": [
       "                    ID                                            REF_SEQ  \\\n",
       "0   chr1_114161116_C_A  TTTCACTCTTGTCGCCCAAGCTGGAGTGCAATGGCATGATCTCGGC...   \n",
       "1   chr1_114161130_T_C  TTTCACTCTTGTCGCCCAAGCTGGAGTGCAATGGCATGATCTCGGC...   \n",
       "2  chr1_114161136_AT_A  TTTCACTCTTGTCGCCCAAGCTGGAGTGCAATGGCATGATCTCGGC...   \n",
       "3   chr1_114161147_C_T  TTTCACTCTTGTCGCCCAAGCTGGAGTGCAATGGCATGATCTCGGC...   \n",
       "4   chr1_114161148_G_A  TTTCACTCTTGTCGCCCAAGCTGGAGTGCAATGGCATGATCTCGGC...   \n",
       "\n",
       "                                             ALT_SEQ    REF_PSI  side  isSNP  \n",
       "0  TTTCACTCTTGTCGCCCAAGCTGGAGTGCAATGGCATGATCTCGGC...  48.884934  left   True  \n",
       "1  TTTCACTCTTGTCGCCCAAGCTGGAGTGCAATGGCATGATCTCGGC...  48.884934  left   True  \n",
       "2  TTTCACTCTTGTCGCCCAAGCTGGAGTGCAATGGCATGATCTCGGC...  48.884934  left  False  \n",
       "3  TTTCACTCTTGTCGCCCAAGCTGGAGTGCAATGGCATGATCTCGGC...  48.884934  left   True  \n",
       "4  TTTCACTCTTGTCGCCCAAGCTGGAGTGCAATGGCATGATCTCGGC...  48.884934  left   True  "
      ]
     },
     "execution_count": 6,
     "metadata": {},
     "output_type": "execute_result"
    }
   ],
   "source": [
    "vexseq.head()"
   ]
  },
  {
   "cell_type": "code",
   "execution_count": 7,
   "metadata": {},
   "outputs": [],
   "source": [
    "# Add REF DPSI\n",
    "refpsi = pd.read_csv(projectDIR+'data/vexseq/HepG2_delta_PSI_CAGI_training_sided.csv', index_col=0)\n",
    "\n",
    "refpsi = refpsi[['ID', 'HepG2_delta_psi']]\n",
    "refpsi = refpsi.rename(columns={'HepG2_delta_psi': 'DPSI'})"
   ]
  },
  {
   "cell_type": "code",
   "execution_count": 8,
   "metadata": {},
   "outputs": [],
   "source": [
    "vexseq = vexseq.merge(refpsi, on='ID').reset_index(drop=True)"
   ]
  },
  {
   "cell_type": "markdown",
   "metadata": {},
   "source": [
    "Filter out those out of HAL capability to train the scaling factor"
   ]
  },
  {
   "cell_type": "code",
   "execution_count": 9,
   "metadata": {},
   "outputs": [],
   "source": [
    "vexseq = vexseq[vexseq['isSNP']]\n",
    "vexseq = vexseq[vexseq.side.isnull()].reset_index(drop=True)"
   ]
  },
  {
   "cell_type": "code",
   "execution_count": 10,
   "metadata": {},
   "outputs": [
    {
     "data": {
      "text/plain": [
       "(486, 7)"
      ]
     },
     "execution_count": 10,
     "metadata": {},
     "output_type": "execute_result"
    }
   ],
   "source": [
    "vexseq.shape"
   ]
  },
  {
   "cell_type": "code",
   "execution_count": 11,
   "metadata": {},
   "outputs": [],
   "source": [
    "def make_exon_skipping_predictions(df, mult_factor=None):\n",
    "    if mult_factor is None:\n",
    "        mult_factor = np.ones(len(df))*2.\n",
    "    pred_psi = []\n",
    "    SNP = []\n",
    "    for i in range(len(df)):\n",
    "        mut_seq = df.ALT_SEQ[i]\n",
    "        ref_seq = df.REF_SEQ[i]\n",
    "        if(dnatools.hamdist(mut_seq,ref_seq)==1):\n",
    "            SNP.append(True)\n",
    "        else:\n",
    "            SNP.append(False)\n",
    "        mut_score = score_seq(mut_seq,exonic_mer6_scores,mult_factor[i])\n",
    "        ref_score = score_seq(ref_seq,exonic_mer6_scores,mult_factor[i])\n",
    "        pred_psi.append(expit(logit(df.REF_PSI.iloc[i]/100.)+mut_score-ref_score))\n",
    "    df['PSI_PRED'] = pred_psi\n",
    "    df['SNP'] = SNP\n",
    "#     df['DPSI'] = (df.ALT_PSI-df.REF_PSI)/100.\n",
    "    df['DPSI_PRED'] = df.PSI_PRED-df.REF_PSI/100.\n",
    "    return df"
   ]
  },
  {
   "cell_type": "code",
   "execution_count": 12,
   "metadata": {},
   "outputs": [],
   "source": [
    "def optimize_scaling_factor(df):\n",
    "    scaling_factors = {}\n",
    "    for i in arange(1,4,0.1):\n",
    "        df = make_exon_skipping_predictions(df, mult_factor=np.ones(len(df))*i)\n",
    "        scaling_factors[i] = sum((df.DPSI_PRED-df.DPSI)**2)\n",
    "    scaling_factors = pd.Series(scaling_factors)\n",
    "    return scaling_factors.argmin()"
   ]
  },
  {
   "cell_type": "code",
   "execution_count": 13,
   "metadata": {},
   "outputs": [],
   "source": [
    "import random\n",
    "cross_val_inds = np.arange(len(vexseq))\n",
    "random.seed(123)\n",
    "random.shuffle(cross_val_inds)\n",
    "cross_val_inds = np.array(cross_val_inds)"
   ]
  },
  {
   "cell_type": "code",
   "execution_count": 14,
   "metadata": {},
   "outputs": [
    {
     "name": "stderr",
     "output_type": "stream",
     "text": [
      "/opt/modules/i12g/anaconda/3-5.0.1/envs/splicing/lib/python3.6/site-packages/ipykernel/__main__.py:10: DeprecationWarning: \n",
      ".ix is deprecated. Please use\n",
      ".loc for label based indexing or\n",
      ".iloc for positional indexing\n",
      "\n",
      "See the documentation here:\n",
      "http://pandas.pydata.org/pandas-docs/stable/indexing.html#ix-indexer-is-deprecated\n",
      "/opt/modules/i12g/anaconda/3-5.0.1/envs/splicing/lib/python3.6/site-packages/ipykernel/__main__.py:15: DeprecationWarning: \n",
      ".ix is deprecated. Please use\n",
      ".loc for label based indexing or\n",
      ".iloc for positional indexing\n",
      "\n",
      "See the documentation here:\n",
      "http://pandas.pydata.org/pandas-docs/stable/indexing.html#ix-indexer-is-deprecated\n",
      "/opt/modules/i12g/anaconda/3-5.0.1/envs/splicing/lib/python3.6/site-packages/ipykernel/__main__.py:7: FutureWarning: 'argmin' is deprecated, use 'idxmin' instead. The behavior of 'argmin'\n",
      "will be corrected to return the positional minimum in the future.\n",
      "Use 'series.values.argmin' to get the position of the minimum now.\n"
     ]
    },
    {
     "name": "stdout",
     "output_type": "stream",
     "text": [
      "0\n",
      "1\n",
      "2\n",
      "3\n",
      "4\n",
      "5\n",
      "6\n",
      "7\n",
      "8\n",
      "9\n"
     ]
    }
   ],
   "source": [
    "cross_validated_scaling_factors = np.ones(len(vexseq))\n",
    "cross_val_group_size = len(vexseq)//10\n",
    "for i in range(10):\n",
    "    test_inds = cross_val_inds[cross_val_group_size*i:cross_val_group_size*(i+1)]\n",
    "    training_inds = np.array(list(set(range(len(vexseq)))-set(test_inds)))\n",
    "    training_set = vexseq.iloc[training_inds].reset_index(drop=True)\n",
    "    cross_validated_scaling_factors[test_inds] = optimize_scaling_factor(training_set)\n",
    "    print(i)"
   ]
  },
  {
   "cell_type": "code",
   "execution_count": 15,
   "metadata": {},
   "outputs": [
    {
     "name": "stderr",
     "output_type": "stream",
     "text": [
      "/opt/modules/i12g/anaconda/3-5.0.1/envs/splicing/lib/python3.6/site-packages/ipykernel/__main__.py:10: DeprecationWarning: \n",
      ".ix is deprecated. Please use\n",
      ".loc for label based indexing or\n",
      ".iloc for positional indexing\n",
      "\n",
      "See the documentation here:\n",
      "http://pandas.pydata.org/pandas-docs/stable/indexing.html#ix-indexer-is-deprecated\n",
      "/opt/modules/i12g/anaconda/3-5.0.1/envs/splicing/lib/python3.6/site-packages/ipykernel/__main__.py:15: DeprecationWarning: \n",
      ".ix is deprecated. Please use\n",
      ".loc for label based indexing or\n",
      ".iloc for positional indexing\n",
      "\n",
      "See the documentation here:\n",
      "http://pandas.pydata.org/pandas-docs/stable/indexing.html#ix-indexer-is-deprecated\n"
     ]
    }
   ],
   "source": [
    "df = make_exon_skipping_predictions(vexseq, mult_factor=cross_validated_scaling_factors)"
   ]
  },
  {
   "cell_type": "code",
   "execution_count": 16,
   "metadata": {},
   "outputs": [
    {
     "data": {
      "image/png": "[encoded data removed]",
      "text/plain": [
       "<Figure size 432x288 with 1 Axes>"
      ]
     },
     "metadata": {},
     "output_type": "display_data"
    }
   ],
   "source": [
    "plt.scatter(df.DPSI_PRED, df.DPSI, s=5)\n",
    "plt.show()"
   ]
  },
  {
   "cell_type": "markdown",
   "metadata": {},
   "source": [
    "##  Optimize scaling factor with all training data, use it for test data"
   ]
  },
  {
   "cell_type": "code",
   "execution_count": 17,
   "metadata": {},
   "outputs": [
    {
     "name": "stderr",
     "output_type": "stream",
     "text": [
      "/opt/modules/i12g/anaconda/3-5.0.1/envs/splicing/lib/python3.6/site-packages/ipykernel/__main__.py:10: DeprecationWarning: \n",
      ".ix is deprecated. Please use\n",
      ".loc for label based indexing or\n",
      ".iloc for positional indexing\n",
      "\n",
      "See the documentation here:\n",
      "http://pandas.pydata.org/pandas-docs/stable/indexing.html#ix-indexer-is-deprecated\n",
      "/opt/modules/i12g/anaconda/3-5.0.1/envs/splicing/lib/python3.6/site-packages/ipykernel/__main__.py:15: DeprecationWarning: \n",
      ".ix is deprecated. Please use\n",
      ".loc for label based indexing or\n",
      ".iloc for positional indexing\n",
      "\n",
      "See the documentation here:\n",
      "http://pandas.pydata.org/pandas-docs/stable/indexing.html#ix-indexer-is-deprecated\n",
      "/opt/modules/i12g/anaconda/3-5.0.1/envs/splicing/lib/python3.6/site-packages/ipykernel/__main__.py:7: FutureWarning: 'argmin' is deprecated, use 'idxmin' instead. The behavior of 'argmin'\n",
      "will be corrected to return the positional minimum in the future.\n",
      "Use 'series.values.argmin' to get the position of the minimum now.\n"
     ]
    },
    {
     "data": {
      "text/plain": [
       "3.9000000000000026"
      ]
     },
     "execution_count": 17,
     "metadata": {},
     "output_type": "execute_result"
    }
   ],
   "source": [
    "s = optimize_scaling_factor(vexseq)\n",
    "s"
   ]
  },
  {
   "cell_type": "code",
   "execution_count": 18,
   "metadata": {},
   "outputs": [],
   "source": [
    "vextest = pd.read_csv(projectDIR+\"data/vexseq/hal_test.txt\", sep='\\t', header=None)"
   ]
  },
  {
   "cell_type": "code",
   "execution_count": 19,
   "metadata": {},
   "outputs": [],
   "source": [
    "vextest.columns = ['ID', \"REF_SEQ\", \"ALT_SEQ\", \"REF_PSI\"]"
   ]
  },
  {
   "cell_type": "code",
   "execution_count": 20,
   "metadata": {},
   "outputs": [
    {
     "data": {
      "text/html": [
       "<div>\n",
       "<style scoped>\n",
       "    .dataframe tbody tr th:only-of-type {\n",
       "        vertical-align: middle;\n",
       "    }\n",
       "\n",
       "    .dataframe tbody tr th {\n",
       "        vertical-align: top;\n",
       "    }\n",
       "\n",
       "    .dataframe thead th {\n",
       "        text-align: right;\n",
       "    }\n",
       "</style>\n",
       "<table border=\"1\" class=\"dataframe\">\n",
       "  <thead>\n",
       "    <tr style=\"text-align: right;\">\n",
       "      <th></th>\n",
       "      <th>ID</th>\n",
       "      <th>REF_SEQ</th>\n",
       "      <th>ALT_SEQ</th>\n",
       "      <th>REF_PSI</th>\n",
       "    </tr>\n",
       "  </thead>\n",
       "  <tbody>\n",
       "    <tr>\n",
       "      <th>0</th>\n",
       "      <td>chr10_114724268_T_C</td>\n",
       "      <td>CTCCATTTTCAGTCCGGCAGCACACATTACTCTGCGTACAAAACGA...</td>\n",
       "      <td>CTCCATTTTCAGTCCGGCAGCACACATTACTCTGCGTACAAAACGA...</td>\n",
       "      <td>89.024627</td>\n",
       "    </tr>\n",
       "    <tr>\n",
       "      <th>1</th>\n",
       "      <td>chr10_114724279_A_G</td>\n",
       "      <td>CTCCATTTTCAGTCCGGCAGCACACATTACTCTGCGTACAAAACGA...</td>\n",
       "      <td>CTCCATTTTCAGTCCGGCAGCACACATTACTCTGCGTACAAAACGA...</td>\n",
       "      <td>89.024627</td>\n",
       "    </tr>\n",
       "    <tr>\n",
       "      <th>2</th>\n",
       "      <td>chr10_114724280_T_G</td>\n",
       "      <td>CTCCATTTTCAGTCCGGCAGCACACATTACTCTGCGTACAAAACGA...</td>\n",
       "      <td>CTCCATTTTCAGTCCGGCAGCACACATTACTCTGCGTACAAAACGA...</td>\n",
       "      <td>89.024627</td>\n",
       "    </tr>\n",
       "    <tr>\n",
       "      <th>3</th>\n",
       "      <td>chr10_114724285_A_C</td>\n",
       "      <td>CTCCATTTTCAGTCCGGCAGCACACATTACTCTGCGTACAAAACGA...</td>\n",
       "      <td>CTCCATTTTCAGTCCGGCAGCACACATTACTCTGCGTACAAAACGA...</td>\n",
       "      <td>89.024627</td>\n",
       "    </tr>\n",
       "    <tr>\n",
       "      <th>4</th>\n",
       "      <td>chr10_114724289_C_A</td>\n",
       "      <td>CTCCATTTTCAGTCCGGCAGCACACATTACTCTGCGTACAAAACGA...</td>\n",
       "      <td>CTCCATTTTCAGTCCGGCAGCACACATTACTCTGCGTACAAAACGA...</td>\n",
       "      <td>89.024627</td>\n",
       "    </tr>\n",
       "  </tbody>\n",
       "</table>\n",
       "</div>"
      ],
      "text/plain": [
       "                    ID                                            REF_SEQ  \\\n",
       "0  chr10_114724268_T_C  CTCCATTTTCAGTCCGGCAGCACACATTACTCTGCGTACAAAACGA...   \n",
       "1  chr10_114724279_A_G  CTCCATTTTCAGTCCGGCAGCACACATTACTCTGCGTACAAAACGA...   \n",
       "2  chr10_114724280_T_G  CTCCATTTTCAGTCCGGCAGCACACATTACTCTGCGTACAAAACGA...   \n",
       "3  chr10_114724285_A_C  CTCCATTTTCAGTCCGGCAGCACACATTACTCTGCGTACAAAACGA...   \n",
       "4  chr10_114724289_C_A  CTCCATTTTCAGTCCGGCAGCACACATTACTCTGCGTACAAAACGA...   \n",
       "\n",
       "                                             ALT_SEQ    REF_PSI  \n",
       "0  CTCCATTTTCAGTCCGGCAGCACACATTACTCTGCGTACAAAACGA...  89.024627  \n",
       "1  CTCCATTTTCAGTCCGGCAGCACACATTACTCTGCGTACAAAACGA...  89.024627  \n",
       "2  CTCCATTTTCAGTCCGGCAGCACACATTACTCTGCGTACAAAACGA...  89.024627  \n",
       "3  CTCCATTTTCAGTCCGGCAGCACACATTACTCTGCGTACAAAACGA...  89.024627  \n",
       "4  CTCCATTTTCAGTCCGGCAGCACACATTACTCTGCGTACAAAACGA...  89.024627  "
      ]
     },
     "execution_count": 20,
     "metadata": {},
     "output_type": "execute_result"
    }
   ],
   "source": [
    "vextest.head()"
   ]
  },
  {
   "cell_type": "code",
   "execution_count": 21,
   "metadata": {},
   "outputs": [
    {
     "name": "stderr",
     "output_type": "stream",
     "text": [
      "/opt/modules/i12g/anaconda/3-5.0.1/envs/splicing/lib/python3.6/site-packages/ipykernel/__main__.py:10: DeprecationWarning: \n",
      ".ix is deprecated. Please use\n",
      ".loc for label based indexing or\n",
      ".iloc for positional indexing\n",
      "\n",
      "See the documentation here:\n",
      "http://pandas.pydata.org/pandas-docs/stable/indexing.html#ix-indexer-is-deprecated\n",
      "/opt/modules/i12g/anaconda/3-5.0.1/envs/splicing/lib/python3.6/site-packages/ipykernel/__main__.py:15: DeprecationWarning: \n",
      ".ix is deprecated. Please use\n",
      ".loc for label based indexing or\n",
      ".iloc for positional indexing\n",
      "\n",
      "See the documentation here:\n",
      "http://pandas.pydata.org/pandas-docs/stable/indexing.html#ix-indexer-is-deprecated\n"
     ]
    }
   ],
   "source": [
    "dftest = make_exon_skipping_predictions(vextest, mult_factor=np.repeat(s, len(vextest)))"
   ]
  },
  {
   "cell_type": "markdown",
   "metadata": {},
   "source": [
    "Merge in true DPSI for test"
   ]
  },
  {
   "cell_type": "code",
   "execution_count": 22,
   "metadata": {},
   "outputs": [],
   "source": [
    "dpsitest = pd.read_csv(projectDIR + 'data/vexseq/Vexseq_HepG2_delta_PSI_CAGI_test_true.tsv', sep='\\t')"
   ]
  },
  {
   "cell_type": "code",
   "execution_count": 23,
   "metadata": {},
   "outputs": [],
   "source": [
    "dpsitest = dpsitest[['ID', 'HepG2_delta_psi']]"
   ]
  },
  {
   "cell_type": "code",
   "execution_count": 24,
   "metadata": {},
   "outputs": [],
   "source": [
    "dpsitest = dpsitest.rename(columns={'HepG2_delta_psi': 'DPSI'})"
   ]
  },
  {
   "cell_type": "code",
   "execution_count": 25,
   "metadata": {},
   "outputs": [],
   "source": [
    "dftest = dftest.merge(dpsitest, on='ID')"
   ]
  },
  {
   "cell_type": "code",
   "execution_count": 26,
   "metadata": {},
   "outputs": [
    {
     "data": {
      "text/html": [
       "<div>\n",
       "<style scoped>\n",
       "    .dataframe tbody tr th:only-of-type {\n",
       "        vertical-align: middle;\n",
       "    }\n",
       "\n",
       "    .dataframe tbody tr th {\n",
       "        vertical-align: top;\n",
       "    }\n",
       "\n",
       "    .dataframe thead th {\n",
       "        text-align: right;\n",
       "    }\n",
       "</style>\n",
       "<table border=\"1\" class=\"dataframe\">\n",
       "  <thead>\n",
       "    <tr style=\"text-align: right;\">\n",
       "      <th></th>\n",
       "      <th>ID</th>\n",
       "      <th>REF_SEQ</th>\n",
       "      <th>ALT_SEQ</th>\n",
       "      <th>REF_PSI</th>\n",
       "      <th>PSI_PRED</th>\n",
       "      <th>SNP</th>\n",
       "      <th>DPSI_PRED</th>\n",
       "      <th>DPSI</th>\n",
       "    </tr>\n",
       "  </thead>\n",
       "  <tbody>\n",
       "    <tr>\n",
       "      <th>0</th>\n",
       "      <td>chr10_114724268_T_C</td>\n",
       "      <td>CTCCATTTTCAGTCCGGCAGCACACATTACTCTGCGTACAAAACGA...</td>\n",
       "      <td>CTCCATTTTCAGTCCGGCAGCACACATTACTCTGCGTACAAAACGA...</td>\n",
       "      <td>89.024627</td>\n",
       "      <td>0.890246</td>\n",
       "      <td>False</td>\n",
       "      <td>1.110223e-16</td>\n",
       "      <td>-3.362128</td>\n",
       "    </tr>\n",
       "    <tr>\n",
       "      <th>1</th>\n",
       "      <td>chr10_114724279_A_G</td>\n",
       "      <td>CTCCATTTTCAGTCCGGCAGCACACATTACTCTGCGTACAAAACGA...</td>\n",
       "      <td>CTCCATTTTCAGTCCGGCAGCACACATTACTCTGCGTACAAAACGA...</td>\n",
       "      <td>89.024627</td>\n",
       "      <td>0.890246</td>\n",
       "      <td>False</td>\n",
       "      <td>1.110223e-16</td>\n",
       "      <td>-2.645510</td>\n",
       "    </tr>\n",
       "    <tr>\n",
       "      <th>2</th>\n",
       "      <td>chr10_114724280_T_G</td>\n",
       "      <td>CTCCATTTTCAGTCCGGCAGCACACATTACTCTGCGTACAAAACGA...</td>\n",
       "      <td>CTCCATTTTCAGTCCGGCAGCACACATTACTCTGCGTACAAAACGA...</td>\n",
       "      <td>89.024627</td>\n",
       "      <td>0.890246</td>\n",
       "      <td>False</td>\n",
       "      <td>1.110223e-16</td>\n",
       "      <td>-4.144964</td>\n",
       "    </tr>\n",
       "    <tr>\n",
       "      <th>3</th>\n",
       "      <td>chr10_114724285_A_C</td>\n",
       "      <td>CTCCATTTTCAGTCCGGCAGCACACATTACTCTGCGTACAAAACGA...</td>\n",
       "      <td>CTCCATTTTCAGTCCGGCAGCACACATTACTCTGCGTACAAAACGA...</td>\n",
       "      <td>89.024627</td>\n",
       "      <td>0.890246</td>\n",
       "      <td>False</td>\n",
       "      <td>1.110223e-16</td>\n",
       "      <td>-4.767620</td>\n",
       "    </tr>\n",
       "    <tr>\n",
       "      <th>4</th>\n",
       "      <td>chr10_114724289_C_A</td>\n",
       "      <td>CTCCATTTTCAGTCCGGCAGCACACATTACTCTGCGTACAAAACGA...</td>\n",
       "      <td>CTCCATTTTCAGTCCGGCAGCACACATTACTCTGCGTACAAAACGA...</td>\n",
       "      <td>89.024627</td>\n",
       "      <td>0.890246</td>\n",
       "      <td>False</td>\n",
       "      <td>1.110223e-16</td>\n",
       "      <td>-2.762261</td>\n",
       "    </tr>\n",
       "  </tbody>\n",
       "</table>\n",
       "</div>"
      ],
      "text/plain": [
       "                    ID                                            REF_SEQ  \\\n",
       "0  chr10_114724268_T_C  CTCCATTTTCAGTCCGGCAGCACACATTACTCTGCGTACAAAACGA...   \n",
       "1  chr10_114724279_A_G  CTCCATTTTCAGTCCGGCAGCACACATTACTCTGCGTACAAAACGA...   \n",
       "2  chr10_114724280_T_G  CTCCATTTTCAGTCCGGCAGCACACATTACTCTGCGTACAAAACGA...   \n",
       "3  chr10_114724285_A_C  CTCCATTTTCAGTCCGGCAGCACACATTACTCTGCGTACAAAACGA...   \n",
       "4  chr10_114724289_C_A  CTCCATTTTCAGTCCGGCAGCACACATTACTCTGCGTACAAAACGA...   \n",
       "\n",
       "                                             ALT_SEQ    REF_PSI  PSI_PRED  \\\n",
       "0  CTCCATTTTCAGTCCGGCAGCACACATTACTCTGCGTACAAAACGA...  89.024627  0.890246   \n",
       "1  CTCCATTTTCAGTCCGGCAGCACACATTACTCTGCGTACAAAACGA...  89.024627  0.890246   \n",
       "2  CTCCATTTTCAGTCCGGCAGCACACATTACTCTGCGTACAAAACGA...  89.024627  0.890246   \n",
       "3  CTCCATTTTCAGTCCGGCAGCACACATTACTCTGCGTACAAAACGA...  89.024627  0.890246   \n",
       "4  CTCCATTTTCAGTCCGGCAGCACACATTACTCTGCGTACAAAACGA...  89.024627  0.890246   \n",
       "\n",
       "     SNP     DPSI_PRED      DPSI  \n",
       "0  False  1.110223e-16 -3.362128  \n",
       "1  False  1.110223e-16 -2.645510  \n",
       "2  False  1.110223e-16 -4.144964  \n",
       "3  False  1.110223e-16 -4.767620  \n",
       "4  False  1.110223e-16 -2.762261  "
      ]
     },
     "execution_count": 26,
     "metadata": {},
     "output_type": "execute_result"
    }
   ],
   "source": [
    "dftest.head()"
   ]
  },
  {
   "cell_type": "code",
   "execution_count": 27,
   "metadata": {},
   "outputs": [
    {
     "data": {
      "image/png": "[encoded data removed]",
      "text/plain": [
       "<Figure size 360x360 with 1 Axes>"
      ]
     },
     "metadata": {},
     "output_type": "display_data"
    }
   ],
   "source": [
    "fig = plt.figure(figsize=(5, 5))\n",
    "ax = fig.add_subplot(111)\n",
    "ax.axis([-100,100,-100,100])\n",
    "ax.scatter(dftest.DPSI_PRED*100, dftest.DPSI, s=5)\n",
    "ax.set_xlabel(\"HAL Predicted $\\Delta PSI$\", fontsize=15)\n",
    "ax.set_ylabel(\"Measured $\\Delta PSI$\", fontsize=15)\n",
    "ax.spines['bottom'].set_visible(False)\n",
    "ax.spines['left'].set_visible(False)\n",
    "ax.spines['top'].set_visible(False)\n",
    "ax.spines['right'].set_visible(False)\n",
    "plt.show()"
   ]
  },
  {
   "cell_type": "code",
   "execution_count": 28,
   "metadata": {},
   "outputs": [],
   "source": [
    "dftest.to_csv(projectDIR + 'data/vexseq/HAL_test_pred.tsv')"
   ]
  },
  {
   "cell_type": "code",
   "execution_count": null,
   "metadata": {},
   "outputs": [],
   "source": []
  }
 ],
 "metadata": {
  "kernelspec": {
   "display_name": "Python [conda env:splicing]",
   "language": "python",
   "name": "conda-env-splicing-py"
  },
  "language_info": {
   "codemirror_mode": {
    "name": "ipython",
    "version": 3
   },
   "file_extension": ".py",
   "mimetype": "text/x-python",
   "name": "python",
   "nbconvert_exporter": "python",
   "pygments_lexer": "ipython3",
   "version": "3.6.0"
  }
 },
 "nbformat": 4,
 "nbformat_minor": 2
}
