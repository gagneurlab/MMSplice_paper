{
 "cells": [
  {
   "cell_type": "markdown",
   "metadata": {},
   "source": [
    "## Prediction Vex-seq on training"
   ]
  },
  {
   "cell_type": "code",
   "execution_count": 1,
   "metadata": {},
   "outputs": [],
   "source": [
    "import kipoi\n",
    "from kipoi.model import KerasModel\n",
    "import numpy as np\n",
    "import pandas as pd\n",
    "from scipy.stats import spearmanr, pearsonr\n",
    "import matplotlib.pyplot as plt\n",
    "%matplotlib inline "
   ]
  },
  {
   "cell_type": "code",
   "execution_count": 2,
   "metadata": {},
   "outputs": [
    {
     "name": "stderr",
     "output_type": "stream",
     "text": [
      "Using TensorFlow backend.\n",
      "/opt/modules/i12g/anaconda/3-5.0.1/envs/splicing/lib/python3.6/site-packages/keras/engine/saving.py:270: UserWarning: No training configuration found in save file: the model was *not* compiled. Compile it manually.\n",
      "  warnings.warn('No training configuration found in save file: '\n"
     ]
    }
   ],
   "source": [
    "from mmsplice.exon_dataloader import ExonDataset\n",
    "from mmsplice.generic import get_var_side\n",
    "\n",
    "from kipoi.data import DataLoader\n",
    "from kipoi.data_utils import numpy_collate\n",
    "\n",
    "from keras.models import load_model\n",
    "from concise.preprocessing import encodeDNA"
   ]
  },
  {
   "cell_type": "code",
   "execution_count": 3,
   "metadata": {},
   "outputs": [],
   "source": [
    "%load_ext autoreload\n",
    "%autoreload 2\n",
    "\n",
    "from mmsplice.generic import logit, expit\n",
    "\n",
    "def add_identity(axes, *line_args, **line_kwargs):\n",
    "    identity, = axes.plot([], [], *line_args, **line_kwargs)\n",
    "    def callback(axes):\n",
    "        low_x, high_x = axes.get_xlim()\n",
    "        low_y, high_y = axes.get_ylim()\n",
    "        low = max(low_x, low_y)\n",
    "        high = min(high_x, high_y)\n",
    "        identity.set_data([low, high], [low, high])\n",
    "    callback(axes)\n",
    "    axes.callbacks.connect('xlim_changed', callback)\n",
    "    axes.callbacks.connect('ylim_changed', callback)\n",
    "    return axes\n",
    "\n",
    "projectDIR = \"../../data/\""
   ]
  },
  {
   "cell_type": "code",
   "execution_count": 4,
   "metadata": {},
   "outputs": [],
   "source": [
    "dl = ExonDataset(projectDIR + \"vexseq/HepG2_delta_PSI_CAGI_training.csv\",\n",
    "           projectDIR + \"shared/hg19.fa\", split_seq=False, overhang=(100,100))"
   ]
  },
  {
   "cell_type": "code",
   "execution_count": 5,
   "metadata": {},
   "outputs": [
    {
     "data": {
      "text/plain": [
       "{'inputs': {'seq': 'TCACAATTTGCTTGTTTTAAAATTTTCTTAATCTAGCAGTATAATTAGGTTCAAGTCAGATTTCAGATTTCTTCCCCTCCTCTCTTTTCACCTCTCACAGGCAAAGACTACCAAGCAGAAGCACGATGGCACGGTGGGCCTGCTCACATACCCAGTACTCCAGGCAGCCGACATTCTGTTGTACAAGTAAGAAGAGAGTTCAGCCCAGTCTTATACATACTCATGGTGACAAGAGAGTGTTTTAACCTATTCAATACAGACTTGGTTCATGGGCAAGGGGAAGTGC',\n",
       "  'intronl_len': 100,\n",
       "  'intronr_len': 100},\n",
       " 'mut_inputs': {'seq': 'TCACAATTTGCTTGTTTTAAAATTTTCTTAATCTAGCAGTATAATTAGGTTCAAGTCAGATTTCAGATTTCTTCCCCTCCTCTCTTTTCACCTCTCACAGGCAAAGACTACCAAGCAGAAGCACGATGGCACGGTGGGCCTGCTCACATACCCAGTACTCCAGGCAGCCGACATTCTGTTGTACAAGTAAGAAGAGAGTTCAGCCAGTCTTATACATACTCATGGTGACAAGAGAGTGTTTTAACCTATTCAATACAGACTTGGTTCATGGGCAAGGGGAAGTGCA',\n",
       "  'intronl_len': 100,\n",
       "  'intronr_len': 100},\n",
       " 'metadata': {'gene_id': '',\n",
       "  'transcript_id': '',\n",
       "  'biotype': '',\n",
       "  'order': '',\n",
       "  'ranges': GenomicRanges(chr='chr1', start=119584786, end=119585072, id='', strand='-')}}"
      ]
     },
     "execution_count": 5,
     "metadata": {},
     "output_type": "execute_result"
    }
   ],
   "source": [
    "dl[33]"
   ]
  },
  {
   "cell_type": "code",
   "execution_count": 6,
   "metadata": {},
   "outputs": [],
   "source": [
    "dl = DataLoader(dl, batch_size=dl.__len__(), collate_fn=numpy_collate, shuffle=False)\n",
    "dl = iter(dl)"
   ]
  },
  {
   "cell_type": "code",
   "execution_count": 7,
   "metadata": {},
   "outputs": [],
   "source": [
    "dt = next(dl)"
   ]
  },
  {
   "cell_type": "code",
   "execution_count": 8,
   "metadata": {},
   "outputs": [],
   "source": [
    "csv = projectDIR + \"vexseq/HepG2_delta_PSI_CAGI_training.csv\"\n",
    "csvf = pd.read_csv(csv, sep=',')"
   ]
  },
  {
   "cell_type": "code",
   "execution_count": 9,
   "metadata": {},
   "outputs": [
    {
     "data": {
      "text/html": [
       "<div>\n",
       "<style scoped>\n",
       "    .dataframe tbody tr th:only-of-type {\n",
       "        vertical-align: middle;\n",
       "    }\n",
       "\n",
       "    .dataframe tbody tr th {\n",
       "        vertical-align: top;\n",
       "    }\n",
       "\n",
       "    .dataframe thead th {\n",
       "        text-align: right;\n",
       "    }\n",
       "</style>\n",
       "<table border=\"1\" class=\"dataframe\">\n",
       "  <thead>\n",
       "    <tr style=\"text-align: right;\">\n",
       "      <th></th>\n",
       "      <th>ID</th>\n",
       "      <th>seqnames</th>\n",
       "      <th>start</th>\n",
       "      <th>end</th>\n",
       "      <th>width</th>\n",
       "      <th>strand</th>\n",
       "      <th>hg19_variant_position</th>\n",
       "      <th>reference</th>\n",
       "      <th>variant</th>\n",
       "      <th>HepG2_delta_psi</th>\n",
       "      <th>HepG2_ref_psi</th>\n",
       "      <th>CADD_PHRED</th>\n",
       "      <th>CADD_RAW</th>\n",
       "      <th>PhastCons</th>\n",
       "      <th>PhyloP</th>\n",
       "    </tr>\n",
       "  </thead>\n",
       "  <tbody>\n",
       "    <tr>\n",
       "      <th>0</th>\n",
       "      <td>chr1_114161116_C_A</td>\n",
       "      <td>chr1</td>\n",
       "      <td>114161154</td>\n",
       "      <td>114161228</td>\n",
       "      <td>75</td>\n",
       "      <td>+</td>\n",
       "      <td>114161116</td>\n",
       "      <td>C</td>\n",
       "      <td>A</td>\n",
       "      <td>11.578092</td>\n",
       "      <td>48.884934</td>\n",
       "      <td>-8.376734</td>\n",
       "      <td>-1.642017</td>\n",
       "      <td>-0.471327</td>\n",
       "      <td>-1.415867</td>\n",
       "    </tr>\n",
       "    <tr>\n",
       "      <th>1</th>\n",
       "      <td>chr1_114161130_T_C</td>\n",
       "      <td>chr1</td>\n",
       "      <td>114161154</td>\n",
       "      <td>114161228</td>\n",
       "      <td>75</td>\n",
       "      <td>+</td>\n",
       "      <td>114161130</td>\n",
       "      <td>T</td>\n",
       "      <td>C</td>\n",
       "      <td>-4.362399</td>\n",
       "      <td>48.884934</td>\n",
       "      <td>-11.691734</td>\n",
       "      <td>-2.061542</td>\n",
       "      <td>-0.453327</td>\n",
       "      <td>-0.881867</td>\n",
       "    </tr>\n",
       "    <tr>\n",
       "      <th>2</th>\n",
       "      <td>chr1_114161136_AT_A</td>\n",
       "      <td>chr1</td>\n",
       "      <td>114161154</td>\n",
       "      <td>114161228</td>\n",
       "      <td>75</td>\n",
       "      <td>+</td>\n",
       "      <td>114161136</td>\n",
       "      <td>AT</td>\n",
       "      <td>A</td>\n",
       "      <td>2.054074</td>\n",
       "      <td>48.884934</td>\n",
       "      <td>0.000000</td>\n",
       "      <td>0.000000</td>\n",
       "      <td>-0.471327</td>\n",
       "      <td>-3.730867</td>\n",
       "    </tr>\n",
       "    <tr>\n",
       "      <th>3</th>\n",
       "      <td>chr1_114161147_C_T</td>\n",
       "      <td>chr1</td>\n",
       "      <td>114161154</td>\n",
       "      <td>114161228</td>\n",
       "      <td>75</td>\n",
       "      <td>+</td>\n",
       "      <td>114161147</td>\n",
       "      <td>C</td>\n",
       "      <td>T</td>\n",
       "      <td>-18.454982</td>\n",
       "      <td>48.884934</td>\n",
       "      <td>-10.807734</td>\n",
       "      <td>-1.897793</td>\n",
       "      <td>-0.471327</td>\n",
       "      <td>-2.361867</td>\n",
       "    </tr>\n",
       "    <tr>\n",
       "      <th>4</th>\n",
       "      <td>chr1_114161148_G_A</td>\n",
       "      <td>chr1</td>\n",
       "      <td>114161154</td>\n",
       "      <td>114161228</td>\n",
       "      <td>75</td>\n",
       "      <td>+</td>\n",
       "      <td>114161148</td>\n",
       "      <td>G</td>\n",
       "      <td>A</td>\n",
       "      <td>-21.979417</td>\n",
       "      <td>48.884934</td>\n",
       "      <td>-11.478734</td>\n",
       "      <td>-2.011739</td>\n",
       "      <td>-0.471327</td>\n",
       "      <td>-2.385867</td>\n",
       "    </tr>\n",
       "  </tbody>\n",
       "</table>\n",
       "</div>"
      ],
      "text/plain": [
       "                    ID seqnames      start        end  width strand  \\\n",
       "0   chr1_114161116_C_A     chr1  114161154  114161228     75      +   \n",
       "1   chr1_114161130_T_C     chr1  114161154  114161228     75      +   \n",
       "2  chr1_114161136_AT_A     chr1  114161154  114161228     75      +   \n",
       "3   chr1_114161147_C_T     chr1  114161154  114161228     75      +   \n",
       "4   chr1_114161148_G_A     chr1  114161154  114161228     75      +   \n",
       "\n",
       "   hg19_variant_position reference variant  HepG2_delta_psi  HepG2_ref_psi  \\\n",
       "0              114161116         C       A        11.578092      48.884934   \n",
       "1              114161130         T       C        -4.362399      48.884934   \n",
       "2              114161136        AT       A         2.054074      48.884934   \n",
       "3              114161147         C       T       -18.454982      48.884934   \n",
       "4              114161148         G       A       -21.979417      48.884934   \n",
       "\n",
       "   CADD_PHRED  CADD_RAW  PhastCons    PhyloP  \n",
       "0   -8.376734 -1.642017  -0.471327 -1.415867  \n",
       "1  -11.691734 -2.061542  -0.453327 -0.881867  \n",
       "2    0.000000  0.000000  -0.471327 -3.730867  \n",
       "3  -10.807734 -1.897793  -0.471327 -2.361867  \n",
       "4  -11.478734 -2.011739  -0.471327 -2.385867  "
      ]
     },
     "execution_count": 9,
     "metadata": {},
     "output_type": "execute_result"
    }
   ],
   "source": [
    "csvf.head()"
   ]
  },
  {
   "cell_type": "code",
   "execution_count": 10,
   "metadata": {},
   "outputs": [],
   "source": [
    "csvf['side'] = list(map(get_var_side,\n",
    "                         zip(csvf['hg19_variant_position'],\n",
    "                             csvf['reference'],\n",
    "                             csvf['variant'],\n",
    "                             csvf['start'], csvf['end'],\n",
    "                             csvf['strand'])))\n",
    "csvf['REF_SEQ'] = dt['inputs']['seq']\n",
    "csvf['ALT_SEQ'] = dt['mut_inputs']['seq']"
   ]
  },
  {
   "cell_type": "code",
   "execution_count": 11,
   "metadata": {},
   "outputs": [],
   "source": [
    "csvf.to_csv(projectDIR + 'vexseq/HepG2_delta_PSI_CAGI_training_sided.csv')"
   ]
  },
  {
   "cell_type": "markdown",
   "metadata": {},
   "source": [
    "## Prediction"
   ]
  },
  {
   "cell_type": "markdown",
   "metadata": {},
   "source": [
    "### Train scaling factor"
   ]
  },
  {
   "cell_type": "code",
   "execution_count": 12,
   "metadata": {},
   "outputs": [],
   "source": [
    "from mmsplice import MMSplice, predict_all, writeVCF, predict_all_table"
   ]
  },
  {
   "cell_type": "code",
   "execution_count": 13,
   "metadata": {},
   "outputs": [
    {
     "name": "stderr",
     "output_type": "stream",
     "text": [
      "/opt/modules/i12g/anaconda/3-5.0.1/envs/splicing/lib/python3.6/site-packages/keras/engine/saving.py:270: UserWarning: No training configuration found in save file: the model was *not* compiled. Compile it manually.\n",
      "  warnings.warn('No training configuration found in save file: '\n"
     ]
    }
   ],
   "source": [
    "model = MMSplice(\n",
    "    exon_cut_l=0,\n",
    "    exon_cut_r=0,\n",
    "    acceptor_intron_cut=6,\n",
    "    donor_intron_cut=6,\n",
    "    acceptor_intron_len=50,\n",
    "    acceptor_exon_len=3,\n",
    "    donor_exon_len=5,\n",
    "    donor_intron_len=13)"
   ]
  },
  {
   "cell_type": "code",
   "execution_count": 14,
   "metadata": {},
   "outputs": [
    {
     "name": "stderr",
     "output_type": "stream",
     "text": [
      "/opt/modules/i12g/anaconda/3-5.0.1/envs/splicing/lib/python3.6/site-packages/mmsplice-0.2.0-py3.6.egg/mmsplice/mmsplice.py:153: UserWarning: None GT donor\n",
      "  warnings.warn(\"None GT donor\", UserWarning)\n",
      "/opt/modules/i12g/anaconda/3-5.0.1/envs/splicing/lib/python3.6/site-packages/mmsplice-0.2.0-py3.6.egg/mmsplice/mmsplice.py:155: UserWarning: None AG donor\n",
      "  warnings.warn(\"None AG donor\", UserWarning)\n"
     ]
    }
   ],
   "source": [
    "ref_pred = model.predict_on_unsplitted_batch(dt['inputs'])\n",
    "\n",
    "alt_pred = model.predict_on_unsplitted_batch(dt['mut_inputs'])"
   ]
  },
  {
   "cell_type": "code",
   "execution_count": 15,
   "metadata": {},
   "outputs": [],
   "source": [
    "X = alt_pred-ref_pred"
   ]
  },
  {
   "cell_type": "code",
   "execution_count": 16,
   "metadata": {},
   "outputs": [
    {
     "name": "stderr",
     "output_type": "stream",
     "text": [
      "/opt/modules/i12g/anaconda/3-5.0.1/envs/splicing/lib/python3.6/site-packages/ipykernel/__main__.py:1: FutureWarning: Method .as_matrix will be removed in a future version. Use .values instead.\n",
      "  if __name__ == '__main__':\n",
      "/opt/modules/i12g/anaconda/3-5.0.1/envs/splicing/lib/python3.6/site-packages/ipykernel/__main__.py:3: FutureWarning: Method .as_matrix will be removed in a future version. Use .values instead.\n",
      "  app.launch_new_instance()\n"
     ]
    }
   ],
   "source": [
    "ref_psi = (csvf.HepG2_ref_psi/100.).as_matrix()\n",
    "\n",
    "delt_measured = csvf.HepG2_delta_psi.as_matrix().flatten()/100.\n",
    "\n",
    "y = logit(ref_psi + delt_measured) - logit(ref_psi)"
   ]
  },
  {
   "cell_type": "markdown",
   "metadata": {},
   "source": [
    "## Build assembly model"
   ]
  },
  {
   "cell_type": "markdown",
   "metadata": {},
   "source": [
    "### Just sum scores"
   ]
  },
  {
   "cell_type": "code",
   "execution_count": 17,
   "metadata": {},
   "outputs": [
    {
     "name": "stdout",
     "output_type": "stream",
     "text": [
      "0.6642463358510119\n",
      "SpearmanrResult(correlation=0.415125741484872, pvalue=3.702258608493261e-41)\n"
     ]
    }
   ],
   "source": [
    "delt_pred = X.sum(1)\n",
    "delt_pred += logit(ref_psi)\n",
    "delt_pred = expit(delt_pred)\n",
    "delt_pred -= ref_psi\n",
    "r = pearsonr(delt_pred, delt_measured)[0]\n",
    "print(r)\n",
    "print(spearmanr(delt_pred, delt_measured))"
   ]
  },
  {
   "cell_type": "code",
   "execution_count": 18,
   "metadata": {},
   "outputs": [
    {
     "data": {
      "image/png": "[encoded data removed]",
      "text/plain": [
       "<Figure size 360x360 with 1 Axes>"
      ]
     },
     "metadata": {},
     "output_type": "display_data"
    }
   ],
   "source": [
    "fig = plt.figure(figsize=(5, 5))\n",
    "ax = fig.add_subplot(111)\n",
    "ax.axis([-1,1,-1,1])\n",
    "ax.scatter(delt_pred, delt_measured, s=5, alpha=0.5)\n",
    "ax.axhline(y=0,c='k')\n",
    "ax.axvline(x=0,c='k')\n",
    "ax.set_xlabel(\"MMSplice Predicted $\\Delta PSI$\", fontsize=15)\n",
    "ax.set_ylabel(\"Measured $\\Delta PSI$\", fontsize=15)\n",
    "ax.spines['bottom'].set_visible(False)\n",
    "ax.spines['left'].set_visible(False)\n",
    "ax.spines['top'].set_visible(False)\n",
    "ax.spines['right'].set_visible(False)\n",
    "ax.text(-0.7,0.7,'$R=%0.2f$'%r,fontsize=15)\n",
    "add_identity(ax, color=\"#DCDCDC\")\n",
    "plt.show()"
   ]
  },
  {
   "cell_type": "markdown",
   "metadata": {},
   "source": [
    "### With Huber regression"
   ]
  },
  {
   "cell_type": "code",
   "execution_count": 19,
   "metadata": {},
   "outputs": [],
   "source": [
    "exon_overlap = np.logical_or(np.logical_and(X[:,1]!=0, X[:,2]!=0), np.logical_and(X[:,2]!=0, X[:,3]!=0))\n",
    "acceptor_overlap = np.logical_and(X[:,1]!=0, X[:,2]!=0)\n",
    "donor_overlap = np.logical_and(X[:,2]!=0, X[:,3]!=0)\n",
    "\n",
    "acceptor_intron_overlap = np.logical_and(X[:,0]!=0, X[:,1]!=0)\n",
    "donor_intron_overlap = np.logical_and(X[:,3]!=0, X[:,4]!=0)\n",
    "\n",
    "# Interaction\n",
    "X = np.hstack([X, (X[:,2]*exon_overlap).reshape(-1,1)]) # Exon overlap donor and acceptor\n",
    "X = np.hstack([X, (X[:,4]*donor_intron_overlap).reshape(-1,1)]) # Donor intron overlap donor * f_(donor_intron)\n",
    "X = np.hstack([X, (X[:,0]*acceptor_intron_overlap).reshape(-1,1)]) # Acceptor intron overlap acceptor * f_{acceptor_intron}"
   ]
  },
  {
   "cell_type": "code",
   "execution_count": 20,
   "metadata": {},
   "outputs": [],
   "source": [
    "from sklearn.linear_model import HuberRegressor\n",
    "from sklearn.model_selection import cross_val_predict, GridSearchCV"
   ]
  },
  {
   "cell_type": "code",
   "execution_count": 21,
   "metadata": {},
   "outputs": [
    {
     "data": {
      "text/plain": [
       "['../../data/vexseq/scale_model.pkl']"
      ]
     },
     "execution_count": 21,
     "metadata": {},
     "output_type": "execute_result"
    }
   ],
   "source": [
    "huber = HuberRegressor(fit_intercept=True, alpha=0.0, max_iter=100, epsilon=1)\n",
    "huber.fit(X, y)\n",
    "from sklearn.externals import joblib\n",
    "joblib.dump(huber, projectDIR+'vexseq/scale_model.pkl')"
   ]
  },
  {
   "cell_type": "code",
   "execution_count": 22,
   "metadata": {},
   "outputs": [],
   "source": [
    "# delt_pred = np.dot(X, huber.coef_) + huber.intercept_\n",
    "delt_pred = huber.predict(X)"
   ]
  },
  {
   "cell_type": "code",
   "execution_count": 23,
   "metadata": {},
   "outputs": [],
   "source": [
    "delt_pred += logit(ref_psi)\n",
    "delt_pred = expit(delt_pred)\n",
    "delt_pred -= ref_psi"
   ]
  },
  {
   "cell_type": "code",
   "execution_count": 24,
   "metadata": {},
   "outputs": [
    {
     "data": {
      "text/plain": [
       "0.6851261712219985"
      ]
     },
     "execution_count": 24,
     "metadata": {},
     "output_type": "execute_result"
    }
   ],
   "source": [
    "r = pearsonr(delt_pred, delt_measured)[0]\n",
    "r"
   ]
  },
  {
   "cell_type": "code",
   "execution_count": 25,
   "metadata": {},
   "outputs": [
    {
     "data": {
      "image/png": "[encoded data removed]",
      "text/plain": [
       "<Figure size 360x360 with 1 Axes>"
      ]
     },
     "metadata": {},
     "output_type": "display_data"
    }
   ],
   "source": [
    "fig = plt.figure(figsize=(5, 5))\n",
    "ax = fig.add_subplot(111)\n",
    "ax.axis([-1,1,-1,1])\n",
    "ax.scatter(delt_pred, delt_measured, s=5, alpha=0.5)\n",
    "ax.axhline(y=0,c='k')\n",
    "ax.axvline(x=0,c='k')\n",
    "ax.set_xlabel(\"MMSplice Predicted $\\Delta PSI$\", fontsize=15)\n",
    "ax.set_ylabel(\"Measured $\\Delta PSI$\", fontsize=15)\n",
    "ax.spines['bottom'].set_visible(False)\n",
    "ax.spines['left'].set_visible(False)\n",
    "ax.spines['top'].set_visible(False)\n",
    "ax.spines['right'].set_visible(False)\n",
    "ax.text(-0.7,0.7,'$R=%0.2f$'%r,fontsize=15)\n",
    "add_identity(ax, color=\"#DCDCDC\")\n",
    "plt.show()"
   ]
  },
  {
   "cell_type": "code",
   "execution_count": 26,
   "metadata": {},
   "outputs": [],
   "source": [
    "csvf[\"Huber_Pred\"] = delt_pred"
   ]
  },
  {
   "cell_type": "markdown",
   "metadata": {},
   "source": [
    "## Predict only with exon module"
   ]
  },
  {
   "cell_type": "code",
   "execution_count": 27,
   "metadata": {},
   "outputs": [],
   "source": [
    "import mmsplice\n",
    "from mmsplice.generic import onehot\n",
    "# import keras.backend as K\n",
    "# K.clear_session()\n",
    "from keras.models import load_model"
   ]
  },
  {
   "cell_type": "code",
   "execution_count": 28,
   "metadata": {},
   "outputs": [
    {
     "name": "stderr",
     "output_type": "stream",
     "text": [
      "/opt/modules/i12g/anaconda/3-5.0.1/envs/splicing/lib/python3.6/site-packages/keras/engine/saving.py:270: UserWarning: No training configuration found in save file: the model was *not* compiled. Compile it manually.\n",
      "  warnings.warn('No training configuration found in save file: '\n"
     ]
    }
   ],
   "source": [
    "exonM5 = load_model(mmsplice.EXON)\n",
    "exonM3 = load_model(mmsplice.EXON3)"
   ]
  },
  {
   "cell_type": "code",
   "execution_count": 29,
   "metadata": {},
   "outputs": [],
   "source": [
    "exon = csvf[csvf.side.isnull()]\n",
    "exon_ref = exon.REF_SEQ.apply(lambda x: x[100:-100])\n",
    "exon_alt = exon.ALT_SEQ.apply(lambda x: x[100:-100])\n",
    "\n",
    "ref_psi = (exon.HepG2_ref_psi/100.).values\n",
    "dPsi_measured = (exon.HepG2_delta_psi/100.).values"
   ]
  },
  {
   "cell_type": "code",
   "execution_count": 30,
   "metadata": {},
   "outputs": [],
   "source": [
    "def apply_exonM(exonM):\n",
    "    exon_ref_pred = exon_ref.apply(lambda x: exonM.predict(encodeDNA([x]))[0])\n",
    "    exon_alt_pred = exon_alt.apply(lambda x: exonM.predict(encodeDNA([x]))[0])\n",
    "    exon_delta = exon_alt_pred.values - exon_ref_pred.values\n",
    "    exon_delta = np.concatenate(exon_delta)\n",
    "    dPsi = expit(logit(ref_psi) + exon_delta) - ref_psi\n",
    "    return dPsi"
   ]
  },
  {
   "cell_type": "code",
   "execution_count": 31,
   "metadata": {},
   "outputs": [],
   "source": [
    "dPsi5 = apply_exonM(exonM5)\n",
    "dPsi3 = apply_exonM(exonM3)"
   ]
  },
  {
   "cell_type": "code",
   "execution_count": 32,
   "metadata": {},
   "outputs": [],
   "source": [
    "np.savetxt(projectDIR + \"vexseq/Exon_Pred_Prime5.txt\", np.stack([dPsi5, dPsi_measured]).T)\n",
    "np.savetxt(projectDIR + \"vexseq/Exon_Pred_Prime3.txt\", np.stack([dPsi3, dPsi_measured]).T)"
   ]
  },
  {
   "cell_type": "code",
   "execution_count": null,
   "metadata": {},
   "outputs": [],
   "source": []
  }
 ],
 "metadata": {
  "kernelspec": {
   "display_name": "Python [conda env:splicing]",
   "language": "python",
   "name": "conda-env-splicing-py"
  },
  "language_info": {
   "codemirror_mode": {
    "name": "ipython",
    "version": 3
   },
   "file_extension": ".py",
   "mimetype": "text/x-python",
   "name": "python",
   "nbconvert_exporter": "python",
   "pygments_lexer": "ipython3",
   "version": "3.6.0"
  }
 },
 "nbformat": 4,
 "nbformat_minor": 2
}
