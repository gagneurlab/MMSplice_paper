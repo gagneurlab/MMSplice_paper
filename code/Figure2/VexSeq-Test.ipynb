{
 "cells": [
  {
   "cell_type": "markdown",
   "metadata": {},
   "source": [
    "## Predict Vex-seq on test"
   ]
  },
  {
   "cell_type": "code",
   "execution_count": 1,
   "metadata": {},
   "outputs": [
    {
     "name": "stderr",
     "output_type": "stream",
     "text": [
      "/opt/modules/i12g/anaconda/3-5.0.1/envs/mmsplice-manuscript/lib/python3.6/importlib/_bootstrap.py:219: RuntimeWarning: numpy.dtype size changed, may indicate binary incompatibility. Expected 96, got 88\n",
      "  return f(*args, **kwds)\n",
      "/opt/modules/i12g/anaconda/3-5.0.1/envs/mmsplice-manuscript/lib/python3.6/importlib/_bootstrap.py:219: RuntimeWarning: numpy.dtype size changed, may indicate binary incompatibility. Expected 96, got 88\n",
      "  return f(*args, **kwds)\n"
     ]
    }
   ],
   "source": [
    "import kipoi\n",
    "from kipoi.model import KerasModel\n",
    "import numpy as np\n",
    "import pandas as pd\n",
    "from scipy.stats import spearmanr, pearsonr\n",
    "import matplotlib.pyplot as plt\n",
    "%matplotlib inline "
   ]
  },
  {
   "cell_type": "code",
   "execution_count": 2,
   "metadata": {},
   "outputs": [
    {
     "name": "stderr",
     "output_type": "stream",
     "text": [
      "/opt/modules/i12g/anaconda/3-5.0.1/envs/mmsplice-manuscript/lib/python3.6/importlib/_bootstrap.py:219: RuntimeWarning: numpy.dtype size changed, may indicate binary incompatibility. Expected 96, got 88\n",
      "  return f(*args, **kwds)\n",
      "Using TensorFlow backend.\n",
      "/opt/modules/i12g/anaconda/3-5.0.1/envs/mmsplice-manuscript/lib/python3.6/site-packages/sklearn/base.py:251: UserWarning: Trying to unpickle estimator HuberRegressor from version 0.19.2 when using version 0.20.0. This might lead to breaking code or invalid results. Use at your own risk.\n",
      "  UserWarning)\n",
      "/opt/modules/i12g/anaconda/3-5.0.1/envs/mmsplice-manuscript/lib/python3.6/site-packages/sklearn/base.py:251: UserWarning: Trying to unpickle estimator StandardScaler from version 0.19.2 when using version 0.20.0. This might lead to breaking code or invalid results. Use at your own risk.\n",
      "  UserWarning)\n",
      "/opt/modules/i12g/anaconda/3-5.0.1/envs/mmsplice-manuscript/lib/python3.6/site-packages/sklearn/base.py:251: UserWarning: Trying to unpickle estimator LogisticRegression from version 0.19.2 when using version 0.20.0. This might lead to breaking code or invalid results. Use at your own risk.\n",
      "  UserWarning)\n",
      "/opt/modules/i12g/anaconda/3-5.0.1/envs/mmsplice-manuscript/lib/python3.6/site-packages/sklearn/base.py:251: UserWarning: Trying to unpickle estimator Pipeline from version 0.19.2 when using version 0.20.0. This might lead to breaking code or invalid results. Use at your own risk.\n",
      "  UserWarning)\n",
      "/opt/modules/i12g/anaconda/3-5.0.1/envs/mmsplice-manuscript/lib/python3.6/site-packages/keras/engine/saving.py:292: UserWarning: No training configuration found in save file: the model was *not* compiled. Compile it manually.\n",
      "  warnings.warn('No training configuration found in save file: '\n"
     ]
    }
   ],
   "source": [
    "import sys\n",
    "sys.path.append(\"../\")\n",
    "from mmsplice.exon_dataloader import ExonDataset\n",
    "from mmsplice.generic import get_var_side"
   ]
  },
  {
   "cell_type": "code",
   "execution_count": 3,
   "metadata": {},
   "outputs": [],
   "source": [
    "from kipoi.data import DataLoader\n",
    "from kipoi.data_utils import numpy_collate\n",
    "\n",
    "from keras.models import load_model\n",
    "from concise.preprocessing import encodeDNA\n",
    "\n",
    "%load_ext autoreload\n",
    "%autoreload 2\n",
    "\n",
    "expit = lambda x: 1./(1.+np.exp(-x))\n",
    "from mmsplice.generic import logit\n",
    "\n",
    "projectDIR = \"../../data/\""
   ]
  },
  {
   "cell_type": "code",
   "execution_count": 4,
   "metadata": {},
   "outputs": [],
   "source": [
    "dl = ExonDataset(projectDIR + \"vexseq/HepG2_delta_PSI_CAGI_testing.csv\",\n",
    "           projectDIR + \"shared/hg19.fa\", split_seq=False, overhang=(100,80))"
   ]
  },
  {
   "cell_type": "code",
   "execution_count": 5,
   "metadata": {},
   "outputs": [
    {
     "data": {
      "text/plain": [
       "{'inputs': {'seq': 'ATTCTAAATGAATATCCTCCTATAATTAAACACATACACATACTCAGATTTGGTAATGTTTACCTTTCAAAATATATTGATATCTGTTTTATTTATATAGAGACTGATAAGGAACACTTAGCAGATGATACTGGAAGAGGTATAATAAAGGGATCAATCAATGCACAACTAAAGGGTCACCAAAGTAAGAAAAAGAATTTTTCACATCTAATATTTATGGCTGATTGATATTCCCTGAGTTAAATTAAGTATAGACCTTTAATA',\n",
       "  'intronl_len': 100,\n",
       "  'intronr_len': 80},\n",
       " 'mut_inputs': {'seq': 'ATTCTAAATGAATATCCTCCTATAATTAAACACATACACATACTCAGATTTGGTAATGTTTAGCTTTCAAAATATATTGATATCTGTTTTATTTATATAGAGACTGATAAGGAACACTTAGCAGATGATACTGGAAGAGGTATAATAAAGGGATCAATCAATGCACAACTAAAGGGTCACCAAAGTAAGAAAAAGAATTTTTCACATCTAATATTTATGGCTGATTGATATTCCCTGAGTTAAATTAAGTATAGACCTTTAATA',\n",
       "  'intronl_len': 100,\n",
       "  'intronr_len': 80},\n",
       " 'metadata': {'gene_id': '',\n",
       "  'transcript_id': '',\n",
       "  'biotype': '',\n",
       "  'order': '',\n",
       "  'ranges': GenomicRanges(chr='chr10', start=33134070, end=33134334, id='', strand='+')}}"
      ]
     },
     "execution_count": 5,
     "metadata": {},
     "output_type": "execute_result"
    }
   ],
   "source": [
    "dl[33]"
   ]
  },
  {
   "cell_type": "code",
   "execution_count": 6,
   "metadata": {},
   "outputs": [],
   "source": [
    "dl = DataLoader(dl, batch_size=dl.__len__(), collate_fn=numpy_collate, shuffle=False)\n",
    "dl = iter(dl)"
   ]
  },
  {
   "cell_type": "code",
   "execution_count": 7,
   "metadata": {},
   "outputs": [],
   "source": [
    "dt = next(dl)"
   ]
  },
  {
   "cell_type": "code",
   "execution_count": 8,
   "metadata": {},
   "outputs": [
    {
     "data": {
      "text/plain": [
       "'GTAGGAAACGCAAGAGATTCTGAAGCTTGAATTGTCTATATGTAGGTCTCTTGTGTGTTTTATTCTCCGCCCCTTCCCCC'"
      ]
     },
     "execution_count": 8,
     "metadata": {},
     "output_type": "execute_result"
    }
   ],
   "source": [
    "dt['inputs']['seq'][0][-80:]"
   ]
  },
  {
   "cell_type": "code",
   "execution_count": 9,
   "metadata": {},
   "outputs": [
    {
     "data": {
      "text/plain": [
       "'TCAATCTAGGAAGGTTTGTCTGCTATTCATAAACTGCTTAAGATGTTTTCTTGTAGTTTGTGACATAAGCAGAACGCTTTGATTTGGTTTCTTTCTACAG'"
      ]
     },
     "execution_count": 9,
     "metadata": {},
     "output_type": "execute_result"
    }
   ],
   "source": [
    "dt['inputs']['seq'][0][:100]"
   ]
  },
  {
   "cell_type": "code",
   "execution_count": 10,
   "metadata": {},
   "outputs": [],
   "source": [
    "csv = projectDIR + \"vexseq/HepG2_delta_PSI_CAGI_testing.csv\"\n",
    "csvf = pd.read_csv(csv, sep=',')"
   ]
  },
  {
   "cell_type": "code",
   "execution_count": 11,
   "metadata": {},
   "outputs": [],
   "source": [
    "csvf['side'] = list(map(get_var_side,\n",
    "                         zip(csvf['hg19_variant_position'],\n",
    "                             csvf['reference'],\n",
    "                             csvf['variant'],\n",
    "                             csvf['start'], csvf['end'],\n",
    "                             csvf['strand'])))\n",
    "csvf['REF_SEQ'] = dt['inputs']['seq']\n",
    "csvf['ALT_SEQ'] = dt['mut_inputs']['seq']"
   ]
  },
  {
   "cell_type": "markdown",
   "metadata": {},
   "source": [
    "## Prediction"
   ]
  },
  {
   "cell_type": "code",
   "execution_count": null,
   "metadata": {},
   "outputs": [],
   "source": [
    "from mmsplice import MMSplice, predict_all, predict_all_table\n",
    "from mmsplice.utils.postproc import transform\n",
    "from mmsplice import EXON3"
   ]
  },
  {
   "cell_type": "code",
   "execution_count": null,
   "metadata": {},
   "outputs": [],
   "source": [
    "model = MMSplice(\n",
    "    exonM = EXON3,\n",
    "    exon_cut_l=0,\n",
    "    exon_cut_r=0,\n",
    "    acceptor_intron_cut=6,\n",
    "    donor_intron_cut=6,\n",
    "    acceptor_intron_len=50,\n",
    "    acceptor_exon_len=3,\n",
    "    donor_exon_len=5,\n",
    "    donor_intron_len=13)"
   ]
  },
  {
   "cell_type": "code",
   "execution_count": null,
   "metadata": {},
   "outputs": [],
   "source": [
    "ref_pred = model.predict_on_unsplitted_batch(dt['inputs'])\n",
    "\n",
    "alt_pred = model.predict_on_unsplitted_batch(dt['mut_inputs'])\n",
    "\n",
    "X = alt_pred-ref_pred\n",
    "\n",
    "delt_pred_sum = X.sum(1)\n",
    "ref_psi = (csvf.HepG2_ref_psi/100.).as_matrix()\n",
    "delt_pred_sum += logit(ref_psi)\n",
    "delt_pred_sum = expit(delt_pred_sum)\n",
    "delt_pred_sum -= ref_psi"
   ]
  },
  {
   "cell_type": "code",
   "execution_count": null,
   "metadata": {},
   "outputs": [],
   "source": [
    "csvf[\"MMSplice_Delta_PSI_Pred_Sum\"] = delt_pred_sum"
   ]
  },
  {
   "cell_type": "code",
   "execution_count": null,
   "metadata": {},
   "outputs": [],
   "source": [
    "model = MMSplice(\n",
    "    exon_cut_l=0,\n",
    "    exon_cut_r=0,\n",
    "    acceptor_intron_cut=6,\n",
    "    donor_intron_cut=6,\n",
    "    acceptor_intron_len=50,\n",
    "    acceptor_exon_len=3,\n",
    "    donor_exon_len=5,\n",
    "    donor_intron_len=13)"
   ]
  },
  {
   "cell_type": "code",
   "execution_count": null,
   "metadata": {},
   "outputs": [],
   "source": [
    "ref_pred = model.predict_on_unsplitted_batch(dt['inputs'])\n",
    "\n",
    "alt_pred = model.predict_on_unsplitted_batch(dt['mut_inputs'])\n",
    "\n",
    "X = alt_pred-ref_pred\n",
    "\n",
    "delt_pred_sum = X.sum(1)\n",
    "ref_psi = (csvf.HepG2_ref_psi/100.).as_matrix()\n",
    "delt_pred_sum += logit(ref_psi)\n",
    "delt_pred_sum = expit(delt_pred_sum)\n",
    "delt_pred_sum -= ref_psi"
   ]
  },
  {
   "cell_type": "code",
   "execution_count": null,
   "metadata": {},
   "outputs": [],
   "source": [
    "csvf[\"MMSplice_Delta_PSI_Pred_Sum3\"] = delt_pred_sum"
   ]
  },
  {
   "cell_type": "code",
   "execution_count": null,
   "metadata": {},
   "outputs": [],
   "source": [
    "X = transform(X)"
   ]
  },
  {
   "cell_type": "code",
   "execution_count": null,
   "metadata": {},
   "outputs": [],
   "source": [
    "from sklearn.externals import joblib\n",
    "huber = joblib.load(projectDIR + 'vexseq/scale_model.pkl')"
   ]
  },
  {
   "cell_type": "code",
   "execution_count": null,
   "metadata": {},
   "outputs": [],
   "source": [
    "delt_pred = huber.predict(X)"
   ]
  },
  {
   "cell_type": "code",
   "execution_count": null,
   "metadata": {},
   "outputs": [],
   "source": [
    "ref_psi = (csvf.HepG2_ref_psi/100.).as_matrix()\n",
    "# ref_psi[ref_psi==0] = 0.001\n",
    "delt_pred += logit(ref_psi)\n",
    "delt_pred = expit(delt_pred)\n",
    "delt_pred -= ref_psi"
   ]
  },
  {
   "cell_type": "code",
   "execution_count": null,
   "metadata": {},
   "outputs": [],
   "source": [
    "csvf[\"MMSplice_Delta_PSI_Pred\"] = delt_pred"
   ]
  },
  {
   "cell_type": "code",
   "execution_count": null,
   "metadata": {},
   "outputs": [],
   "source": [
    "csvf.head()"
   ]
  },
  {
   "cell_type": "markdown",
   "metadata": {},
   "source": [
    "# Plot test with true DPSI, compare methods"
   ]
  },
  {
   "cell_type": "code",
   "execution_count": null,
   "metadata": {},
   "outputs": [],
   "source": [
    "test = pd.read_csv(projectDIR + \"vexseq/Vexseq_HepG2_delta_PSI_CAGI_test_true.tsv\", sep='\\t')"
   ]
  },
  {
   "cell_type": "code",
   "execution_count": null,
   "metadata": {},
   "outputs": [],
   "source": [
    "test.head()"
   ]
  },
  {
   "cell_type": "code",
   "execution_count": null,
   "metadata": {},
   "outputs": [],
   "source": [
    "test.shape"
   ]
  },
  {
   "cell_type": "markdown",
   "metadata": {},
   "source": [
    "## MMSplice"
   ]
  },
  {
   "cell_type": "code",
   "execution_count": null,
   "metadata": {},
   "outputs": [],
   "source": [
    "def add_identity(axes, *line_args, **line_kwargs):\n",
    "    identity, = axes.plot([], [], *line_args, **line_kwargs)\n",
    "    def callback(axes):\n",
    "        low_x, high_x = axes.get_xlim()\n",
    "        low_y, high_y = axes.get_ylim()\n",
    "        low = max(low_x, low_y)\n",
    "        high = min(high_x, high_y)\n",
    "        identity.set_data([low, high], [low, high])\n",
    "    callback(axes)\n",
    "    axes.callbacks.connect('xlim_changed', callback)\n",
    "    axes.callbacks.connect('ylim_changed', callback)\n",
    "    return axes"
   ]
  },
  {
   "cell_type": "code",
   "execution_count": null,
   "metadata": {},
   "outputs": [],
   "source": [
    "merged = test.merge(csvf, how='left')"
   ]
  },
  {
   "cell_type": "code",
   "execution_count": null,
   "metadata": {},
   "outputs": [],
   "source": [
    "merged.head()"
   ]
  },
  {
   "cell_type": "code",
   "execution_count": null,
   "metadata": {},
   "outputs": [],
   "source": [
    "r = pearsonr(merged['MMSplice_Delta_PSI_Pred'], merged['HepG2_delta_psi'])[0]"
   ]
  },
  {
   "cell_type": "code",
   "execution_count": null,
   "metadata": {},
   "outputs": [],
   "source": [
    "merged.to_csv(projectDIR + \"vexseq/MMSplice_test_pred.csv\")"
   ]
  },
  {
   "cell_type": "markdown",
   "metadata": {},
   "source": [
    "## HAL"
   ]
  },
  {
   "cell_type": "code",
   "execution_count": 34,
   "metadata": {},
   "outputs": [],
   "source": [
    "hal = pd.read_csv(projectDIR + 'vexseq/HAL_test_pred.tsv', index_col=0)"
   ]
  },
  {
   "cell_type": "code",
   "execution_count": 35,
   "metadata": {},
   "outputs": [],
   "source": [
    "hal['REF_SEQ'] = hal['REF_SEQ'].apply(lambda x: x[100:-74])\n",
    "hal['ALT_SEQ'] = hal['ALT_SEQ'].apply(lambda x: x[100:-74])"
   ]
  },
  {
   "cell_type": "code",
   "execution_count": 36,
   "metadata": {},
   "outputs": [
    {
     "data": {
      "text/html": [
       "<div>\n",
       "<style scoped>\n",
       "    .dataframe tbody tr th:only-of-type {\n",
       "        vertical-align: middle;\n",
       "    }\n",
       "\n",
       "    .dataframe tbody tr th {\n",
       "        vertical-align: top;\n",
       "    }\n",
       "\n",
       "    .dataframe thead th {\n",
       "        text-align: right;\n",
       "    }\n",
       "</style>\n",
       "<table border=\"1\" class=\"dataframe\">\n",
       "  <thead>\n",
       "    <tr style=\"text-align: right;\">\n",
       "      <th></th>\n",
       "      <th>ID</th>\n",
       "      <th>REF_SEQ</th>\n",
       "      <th>ALT_SEQ</th>\n",
       "      <th>REF_PSI</th>\n",
       "      <th>PSI_PRED</th>\n",
       "      <th>SNP</th>\n",
       "      <th>DPSI_PRED</th>\n",
       "      <th>DPSI</th>\n",
       "    </tr>\n",
       "  </thead>\n",
       "  <tbody>\n",
       "    <tr>\n",
       "      <th>0</th>\n",
       "      <td>chr10_114724268_T_C</td>\n",
       "      <td></td>\n",
       "      <td></td>\n",
       "      <td>89.024627</td>\n",
       "      <td>0.890246</td>\n",
       "      <td>False</td>\n",
       "      <td>1.110223e-16</td>\n",
       "      <td>-3.362128</td>\n",
       "    </tr>\n",
       "    <tr>\n",
       "      <th>1</th>\n",
       "      <td>chr10_114724279_A_G</td>\n",
       "      <td></td>\n",
       "      <td></td>\n",
       "      <td>89.024627</td>\n",
       "      <td>0.890246</td>\n",
       "      <td>False</td>\n",
       "      <td>1.110223e-16</td>\n",
       "      <td>-2.645510</td>\n",
       "    </tr>\n",
       "    <tr>\n",
       "      <th>2</th>\n",
       "      <td>chr10_114724280_T_G</td>\n",
       "      <td></td>\n",
       "      <td></td>\n",
       "      <td>89.024627</td>\n",
       "      <td>0.890246</td>\n",
       "      <td>False</td>\n",
       "      <td>1.110223e-16</td>\n",
       "      <td>-4.144964</td>\n",
       "    </tr>\n",
       "    <tr>\n",
       "      <th>3</th>\n",
       "      <td>chr10_114724285_A_C</td>\n",
       "      <td></td>\n",
       "      <td></td>\n",
       "      <td>89.024627</td>\n",
       "      <td>0.890246</td>\n",
       "      <td>False</td>\n",
       "      <td>1.110223e-16</td>\n",
       "      <td>-4.767620</td>\n",
       "    </tr>\n",
       "    <tr>\n",
       "      <th>4</th>\n",
       "      <td>chr10_114724289_C_A</td>\n",
       "      <td></td>\n",
       "      <td></td>\n",
       "      <td>89.024627</td>\n",
       "      <td>0.890246</td>\n",
       "      <td>False</td>\n",
       "      <td>1.110223e-16</td>\n",
       "      <td>-2.762261</td>\n",
       "    </tr>\n",
       "  </tbody>\n",
       "</table>\n",
       "</div>"
      ],
      "text/plain": [
       "                    ID REF_SEQ ALT_SEQ    REF_PSI  PSI_PRED    SNP  \\\n",
       "0  chr10_114724268_T_C                  89.024627  0.890246  False   \n",
       "1  chr10_114724279_A_G                  89.024627  0.890246  False   \n",
       "2  chr10_114724280_T_G                  89.024627  0.890246  False   \n",
       "3  chr10_114724285_A_C                  89.024627  0.890246  False   \n",
       "4  chr10_114724289_C_A                  89.024627  0.890246  False   \n",
       "\n",
       "      DPSI_PRED      DPSI  \n",
       "0  1.110223e-16 -3.362128  \n",
       "1  1.110223e-16 -2.645510  \n",
       "2  1.110223e-16 -4.144964  \n",
       "3  1.110223e-16 -4.767620  \n",
       "4  1.110223e-16 -2.762261  "
      ]
     },
     "execution_count": 36,
     "metadata": {},
     "output_type": "execute_result"
    }
   ],
   "source": [
    "hal.head()"
   ]
  },
  {
   "cell_type": "markdown",
   "metadata": {},
   "source": [
    "Calculate correlation with only exonic variants and SNP"
   ]
  },
  {
   "cell_type": "code",
   "execution_count": 37,
   "metadata": {},
   "outputs": [
    {
     "data": {
      "image/png": "[encoded data removed]",
      "text/plain": [
       "<Figure size 360x360 with 1 Axes>"
      ]
     },
     "metadata": {},
     "output_type": "display_data"
    }
   ],
   "source": [
    "fig = plt.figure(figsize=(5, 5))\n",
    "ax = fig.add_subplot(111)\n",
    "ax.axis([-100,100,-100,100])\n",
    "ax.scatter(hal.DPSI_PRED*100, hal.DPSI, s=5)\n",
    "ax.axhline(y=0,c='k')\n",
    "ax.axvline(x=0,c='k')\n",
    "ax.set_xlabel(\"HAL Predicted $\\Delta PSI$\", fontsize=15)\n",
    "ax.set_ylabel(\"Measured $\\Delta PSI$\", fontsize=15)\n",
    "ax.spines['bottom'].set_visible(False)\n",
    "ax.spines['left'].set_visible(False)\n",
    "ax.spines['top'].set_visible(False)\n",
    "ax.spines['right'].set_visible(False)\n",
    "plt.show()"
   ]
  },
  {
   "cell_type": "markdown",
   "metadata": {},
   "source": [
    "## SPANR (Spidex)"
   ]
  },
  {
   "cell_type": "markdown",
   "metadata": {},
   "source": [
    "sed 's/^chr//g' HepG2_delta_PSI_CAGI_training.vcf | bedtools intersect \\\n",
    "\n",
    " -a spidex/hg19_spidex.txt -b - -header > Spidex_Train.txt"
   ]
  },
  {
   "cell_type": "code",
   "execution_count": 38,
   "metadata": {},
   "outputs": [],
   "source": [
    "spidex = pd.read_csv(projectDIR + \"vexseq/Spidex_Test.txt\", sep='\\t')"
   ]
  },
  {
   "cell_type": "code",
   "execution_count": 39,
   "metadata": {},
   "outputs": [],
   "source": [
    "spidex['ID'] = \"chr\" + spidex['#Chr'].map(str) + \"_\" + \\\n",
    "spidex['Start'].map(str) + '_' + \\\n",
    "spidex['Ref'].map(str) + '_' + \\\n",
    "spidex['Alt'].map(str)"
   ]
  },
  {
   "cell_type": "code",
   "execution_count": 40,
   "metadata": {},
   "outputs": [],
   "source": [
    "spidex = test.merge(spidex, on='ID', how='left')"
   ]
  },
  {
   "cell_type": "code",
   "execution_count": 41,
   "metadata": {},
   "outputs": [
    {
     "data": {
      "text/plain": [
       "132"
      ]
     },
     "execution_count": 41,
     "metadata": {},
     "output_type": "execute_result"
    }
   ],
   "source": [
    "sum(spidex.dpsi_max_tissue.isna())"
   ]
  },
  {
   "cell_type": "code",
   "execution_count": 42,
   "metadata": {},
   "outputs": [
    {
     "data": {
      "text/html": [
       "<div>\n",
       "<style scoped>\n",
       "    .dataframe tbody tr th:only-of-type {\n",
       "        vertical-align: middle;\n",
       "    }\n",
       "\n",
       "    .dataframe tbody tr th {\n",
       "        vertical-align: top;\n",
       "    }\n",
       "\n",
       "    .dataframe thead th {\n",
       "        text-align: right;\n",
       "    }\n",
       "</style>\n",
       "<table border=\"1\" class=\"dataframe\">\n",
       "  <thead>\n",
       "    <tr style=\"text-align: right;\">\n",
       "      <th></th>\n",
       "      <th>ID</th>\n",
       "      <th>chromosome</th>\n",
       "      <th>hg19_variant_position</th>\n",
       "      <th>reference</th>\n",
       "      <th>variant</th>\n",
       "      <th>exon_start</th>\n",
       "      <th>exon_end</th>\n",
       "      <th>HepG2_delta_psi</th>\n",
       "      <th>#Chr</th>\n",
       "      <th>Start</th>\n",
       "      <th>End</th>\n",
       "      <th>Ref</th>\n",
       "      <th>Alt</th>\n",
       "      <th>dpsi_max_tissue</th>\n",
       "      <th>dpsi_zscore</th>\n",
       "    </tr>\n",
       "  </thead>\n",
       "  <tbody>\n",
       "    <tr>\n",
       "      <th>0</th>\n",
       "      <td>chr10_114724268_T_C</td>\n",
       "      <td>chr10</td>\n",
       "      <td>114724268</td>\n",
       "      <td>T</td>\n",
       "      <td>C</td>\n",
       "      <td>114724315</td>\n",
       "      <td>114724383</td>\n",
       "      <td>-3.362128</td>\n",
       "      <td>10</td>\n",
       "      <td>114724268.0</td>\n",
       "      <td>114724268.0</td>\n",
       "      <td>T</td>\n",
       "      <td>C</td>\n",
       "      <td>-2.6303</td>\n",
       "      <td>-2.072</td>\n",
       "    </tr>\n",
       "    <tr>\n",
       "      <th>1</th>\n",
       "      <td>chr10_114724279_A_G</td>\n",
       "      <td>chr10</td>\n",
       "      <td>114724279</td>\n",
       "      <td>A</td>\n",
       "      <td>G</td>\n",
       "      <td>114724315</td>\n",
       "      <td>114724383</td>\n",
       "      <td>-2.645510</td>\n",
       "      <td>10</td>\n",
       "      <td>114724279.0</td>\n",
       "      <td>114724279.0</td>\n",
       "      <td>A</td>\n",
       "      <td>G</td>\n",
       "      <td>0.3341</td>\n",
       "      <td>0.939</td>\n",
       "    </tr>\n",
       "    <tr>\n",
       "      <th>2</th>\n",
       "      <td>chr10_114724279_A_G</td>\n",
       "      <td>chr10</td>\n",
       "      <td>114724279</td>\n",
       "      <td>A</td>\n",
       "      <td>G</td>\n",
       "      <td>114724315</td>\n",
       "      <td>114724383</td>\n",
       "      <td>-2.645510</td>\n",
       "      <td>10</td>\n",
       "      <td>114724279.0</td>\n",
       "      <td>114724279.0</td>\n",
       "      <td>A</td>\n",
       "      <td>G</td>\n",
       "      <td>0.3341</td>\n",
       "      <td>0.939</td>\n",
       "    </tr>\n",
       "    <tr>\n",
       "      <th>3</th>\n",
       "      <td>chr10_114724280_T_G</td>\n",
       "      <td>chr10</td>\n",
       "      <td>114724280</td>\n",
       "      <td>T</td>\n",
       "      <td>G</td>\n",
       "      <td>114724315</td>\n",
       "      <td>114724383</td>\n",
       "      <td>-4.144964</td>\n",
       "      <td>10</td>\n",
       "      <td>114724280.0</td>\n",
       "      <td>114724280.0</td>\n",
       "      <td>T</td>\n",
       "      <td>G</td>\n",
       "      <td>-2.1038</td>\n",
       "      <td>-1.934</td>\n",
       "    </tr>\n",
       "    <tr>\n",
       "      <th>4</th>\n",
       "      <td>chr10_114724285_A_C</td>\n",
       "      <td>chr10</td>\n",
       "      <td>114724285</td>\n",
       "      <td>A</td>\n",
       "      <td>C</td>\n",
       "      <td>114724315</td>\n",
       "      <td>114724383</td>\n",
       "      <td>-4.767620</td>\n",
       "      <td>10</td>\n",
       "      <td>114724285.0</td>\n",
       "      <td>114724285.0</td>\n",
       "      <td>A</td>\n",
       "      <td>C</td>\n",
       "      <td>2.4186</td>\n",
       "      <td>2.093</td>\n",
       "    </tr>\n",
       "  </tbody>\n",
       "</table>\n",
       "</div>"
      ],
      "text/plain": [
       "                    ID chromosome  hg19_variant_position reference variant  \\\n",
       "0  chr10_114724268_T_C      chr10              114724268         T       C   \n",
       "1  chr10_114724279_A_G      chr10              114724279         A       G   \n",
       "2  chr10_114724279_A_G      chr10              114724279         A       G   \n",
       "3  chr10_114724280_T_G      chr10              114724280         T       G   \n",
       "4  chr10_114724285_A_C      chr10              114724285         A       C   \n",
       "\n",
       "   exon_start   exon_end  HepG2_delta_psi #Chr        Start          End Ref  \\\n",
       "0   114724315  114724383        -3.362128   10  114724268.0  114724268.0   T   \n",
       "1   114724315  114724383        -2.645510   10  114724279.0  114724279.0   A   \n",
       "2   114724315  114724383        -2.645510   10  114724279.0  114724279.0   A   \n",
       "3   114724315  114724383        -4.144964   10  114724280.0  114724280.0   T   \n",
       "4   114724315  114724383        -4.767620   10  114724285.0  114724285.0   A   \n",
       "\n",
       "  Alt  dpsi_max_tissue  dpsi_zscore  \n",
       "0   C          -2.6303       -2.072  \n",
       "1   G           0.3341        0.939  \n",
       "2   G           0.3341        0.939  \n",
       "3   G          -2.1038       -1.934  \n",
       "4   C           2.4186        2.093  "
      ]
     },
     "execution_count": 42,
     "metadata": {},
     "output_type": "execute_result"
    }
   ],
   "source": [
    "spidex.head()"
   ]
  },
  {
   "cell_type": "code",
   "execution_count": 43,
   "metadata": {},
   "outputs": [
    {
     "data": {
      "image/png": "[encoded data removed]",
      "text/plain": [
       "<Figure size 360x360 with 1 Axes>"
      ]
     },
     "metadata": {},
     "output_type": "display_data"
    }
   ],
   "source": [
    "fig = plt.figure(figsize=(5, 5))\n",
    "ax = fig.add_subplot(111)\n",
    "ax.axis([-100,100,-100,100])\n",
    "ax.scatter(spidex.dpsi_max_tissue, spidex.HepG2_delta_psi, s=5)\n",
    "ax.set_xlabel(\"HAL Predicted $\\Delta PSI$\", fontsize=15)\n",
    "ax.set_ylabel(\"Measured $\\Delta PSI$\", fontsize=15)\n",
    "plt.show()"
   ]
  },
  {
   "cell_type": "code",
   "execution_count": 44,
   "metadata": {},
   "outputs": [],
   "source": [
    "spidex.to_csv(projectDIR + \"vexseq/Spidex_Test_Pred.csv\")"
   ]
  },
  {
   "cell_type": "markdown",
   "metadata": {},
   "source": [
    "## MaxEnt"
   ]
  },
  {
   "cell_type": "code",
   "execution_count": 45,
   "metadata": {},
   "outputs": [],
   "source": [
    "from copy import deepcopy\n",
    "MaxEnt = deepcopy(csvf)\n",
    "MaxEnt = MaxEnt[[\"ID\",\"REF_SEQ\", \"ALT_SEQ\",\"HepG2_ref_psi\", \"side\"]]"
   ]
  },
  {
   "cell_type": "code",
   "execution_count": 46,
   "metadata": {},
   "outputs": [
    {
     "data": {
      "text/html": [
       "<div>\n",
       "<style scoped>\n",
       "    .dataframe tbody tr th:only-of-type {\n",
       "        vertical-align: middle;\n",
       "    }\n",
       "\n",
       "    .dataframe tbody tr th {\n",
       "        vertical-align: top;\n",
       "    }\n",
       "\n",
       "    .dataframe thead th {\n",
       "        text-align: right;\n",
       "    }\n",
       "</style>\n",
       "<table border=\"1\" class=\"dataframe\">\n",
       "  <thead>\n",
       "    <tr style=\"text-align: right;\">\n",
       "      <th></th>\n",
       "      <th>ID</th>\n",
       "      <th>REF_SEQ</th>\n",
       "      <th>ALT_SEQ</th>\n",
       "      <th>HepG2_ref_psi</th>\n",
       "      <th>side</th>\n",
       "    </tr>\n",
       "  </thead>\n",
       "  <tbody>\n",
       "    <tr>\n",
       "      <th>0</th>\n",
       "      <td>chr10_114724268_T_C</td>\n",
       "      <td>TCAATCTAGGAAGGTTTGTCTGCTATTCATAAACTGCTTAAGATGT...</td>\n",
       "      <td>TCAATCTAGGAAGGTTTGTCTGCTATTCATAAACTGCTTAAGATGT...</td>\n",
       "      <td>89.024627</td>\n",
       "      <td>left</td>\n",
       "    </tr>\n",
       "    <tr>\n",
       "      <th>1</th>\n",
       "      <td>chr10_114724279_A_G</td>\n",
       "      <td>TCAATCTAGGAAGGTTTGTCTGCTATTCATAAACTGCTTAAGATGT...</td>\n",
       "      <td>TCAATCTAGGAAGGTTTGTCTGCTATTCATAAACTGCTTAAGATGT...</td>\n",
       "      <td>89.024627</td>\n",
       "      <td>left</td>\n",
       "    </tr>\n",
       "    <tr>\n",
       "      <th>2</th>\n",
       "      <td>chr10_114724280_T_G</td>\n",
       "      <td>TCAATCTAGGAAGGTTTGTCTGCTATTCATAAACTGCTTAAGATGT...</td>\n",
       "      <td>TCAATCTAGGAAGGTTTGTCTGCTATTCATAAACTGCTTAAGATGT...</td>\n",
       "      <td>89.024627</td>\n",
       "      <td>left</td>\n",
       "    </tr>\n",
       "  </tbody>\n",
       "</table>\n",
       "</div>"
      ],
      "text/plain": [
       "                    ID                                            REF_SEQ  \\\n",
       "0  chr10_114724268_T_C  TCAATCTAGGAAGGTTTGTCTGCTATTCATAAACTGCTTAAGATGT...   \n",
       "1  chr10_114724279_A_G  TCAATCTAGGAAGGTTTGTCTGCTATTCATAAACTGCTTAAGATGT...   \n",
       "2  chr10_114724280_T_G  TCAATCTAGGAAGGTTTGTCTGCTATTCATAAACTGCTTAAGATGT...   \n",
       "\n",
       "                                             ALT_SEQ  HepG2_ref_psi  side  \n",
       "0  TCAATCTAGGAAGGTTTGTCTGCTATTCATAAACTGCTTAAGATGT...      89.024627  left  \n",
       "1  TCAATCTAGGAAGGTTTGTCTGCTATTCATAAACTGCTTAAGATGT...      89.024627  left  \n",
       "2  TCAATCTAGGAAGGTTTGTCTGCTATTCATAAACTGCTTAAGATGT...      89.024627  left  "
      ]
     },
     "execution_count": 46,
     "metadata": {},
     "output_type": "execute_result"
    }
   ],
   "source": [
    "MaxEnt.head(3)"
   ]
  },
  {
   "cell_type": "code",
   "execution_count": 47,
   "metadata": {},
   "outputs": [],
   "source": [
    "MaxEnt = test.merge(MaxEnt, on='ID', how='left')"
   ]
  },
  {
   "cell_type": "code",
   "execution_count": 48,
   "metadata": {},
   "outputs": [],
   "source": [
    "MaxEnt['DONOR_REF'] = MaxEnt.REF_SEQ.apply(lambda x: x[-83:-74])\n",
    "MaxEnt['DONOR_ALT'] = MaxEnt.ALT_SEQ.apply(lambda x: x[-83:-74])\n",
    "MaxEnt['ACCEPTOR_REF'] = MaxEnt.REF_SEQ.apply(lambda x: x[80:103])\n",
    "MaxEnt['ACCEPTOR_ALT'] = MaxEnt.ALT_SEQ.apply(lambda x: x[80:103])"
   ]
  },
  {
   "cell_type": "code",
   "execution_count": 49,
   "metadata": {},
   "outputs": [],
   "source": [
    "from maxentpy import maxent\n",
    "from maxentpy.maxent import load_matrix3, load_matrix5\n",
    "matrix3 = load_matrix3()\n",
    "matrix5 = load_matrix5()\n",
    "from maxentpy import maxent_fast"
   ]
  },
  {
   "cell_type": "code",
   "execution_count": 50,
   "metadata": {},
   "outputs": [],
   "source": [
    "MaxEnt['DONOR_DIFF'] = MaxEnt['DONOR_ALT'].apply(lambda x: maxent_fast.score5(x, matrix=matrix5)) - \\\n",
    "MaxEnt['DONOR_REF'].apply(lambda x: maxent_fast.score5(x, matrix=matrix5))"
   ]
  },
  {
   "cell_type": "code",
   "execution_count": 51,
   "metadata": {},
   "outputs": [],
   "source": [
    "MaxEnt['ACCEPTOR_DIFF'] = MaxEnt['ACCEPTOR_ALT'].apply(lambda x: maxent_fast.score3(x, matrix=matrix3)) - \\\n",
    "MaxEnt['ACCEPTOR_REF'].apply(lambda x: maxent_fast.score3(x, matrix=matrix3))"
   ]
  },
  {
   "cell_type": "code",
   "execution_count": 52,
   "metadata": {},
   "outputs": [
    {
     "data": {
      "image/png": "[encoded data removed]",
      "text/plain": [
       "<Figure size 360x360 with 1 Axes>"
      ]
     },
     "metadata": {},
     "output_type": "display_data"
    }
   ],
   "source": [
    "fig = plt.figure(figsize=(5, 5))\n",
    "ax = fig.add_subplot(111)\n",
    "# ax.axis([-100,100,-100,100])\n",
    "ax.scatter(MaxEnt.DONOR_DIFF, MaxEnt.HepG2_delta_psi, s=5)\n",
    "ax.set_xlabel(\"MaxEnt Predicted $\\Delta PSI$\", fontsize=15)\n",
    "ax.set_ylabel(\"Measured $\\Delta PSI$\", fontsize=15)\n",
    "plt.show()"
   ]
  },
  {
   "cell_type": "code",
   "execution_count": 53,
   "metadata": {},
   "outputs": [
    {
     "data": {
      "image/png": "[encoded data removed]",
      "text/plain": [
       "<Figure size 360x360 with 1 Axes>"
      ]
     },
     "metadata": {},
     "output_type": "display_data"
    }
   ],
   "source": [
    "fig = plt.figure(figsize=(5, 5))\n",
    "ax = fig.add_subplot(111)\n",
    "# ax.axis([-100,100,-100,100])\n",
    "ax.scatter(MaxEnt.ACCEPTOR_DIFF, MaxEnt.HepG2_delta_psi, s=5)\n",
    "ax.set_xlabel(\"MaxEnt Predicted $\\Delta PSI$\", fontsize=15)\n",
    "ax.set_ylabel(\"Measured $\\Delta PSI$\", fontsize=15)\n",
    "plt.show()"
   ]
  },
  {
   "cell_type": "code",
   "execution_count": 54,
   "metadata": {},
   "outputs": [],
   "source": [
    "MaxEnt.to_csv(projectDIR + \"vexseq/MaxEnt_Test_Pred.csv\")"
   ]
  },
  {
   "cell_type": "code",
   "execution_count": null,
   "metadata": {},
   "outputs": [],
   "source": []
  }
 ],
 "metadata": {
  "kernelspec": {
   "display_name": "Python [conda env:mmsplice-manuscript]",
   "language": "python",
   "name": "conda-env-mmsplice-manuscript-py"
  },
  "language_info": {
   "codemirror_mode": {
    "name": "ipython",
    "version": 3
   },
   "file_extension": ".py",
   "mimetype": "text/x-python",
   "name": "python",
   "nbconvert_exporter": "python",
   "pygments_lexer": "ipython3",
   "version": "3.6.5"
  }
 },
 "nbformat": 4,
 "nbformat_minor": 2
}
