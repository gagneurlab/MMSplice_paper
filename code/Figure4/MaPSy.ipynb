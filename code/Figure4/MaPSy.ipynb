{
 "cells": [
  {
   "cell_type": "markdown",
   "metadata": {},
   "source": [
    "## Try to predict the effect of mutation on splicing efficiency change"
   ]
  },
  {
   "cell_type": "code",
   "execution_count": 1,
   "metadata": {},
   "outputs": [
    {
     "name": "stderr",
     "output_type": "stream",
     "text": [
      "Using TensorFlow backend.\n"
     ]
    }
   ],
   "source": [
    "from keras.models import load_model\n",
    "from concise.preprocessing import encodeDNA\n",
    "\n",
    "import numpy as np\n",
    "import pandas as pd\n",
    "from scipy.stats import spearmanr, pearsonr\n",
    "import joblib\n",
    "import matplotlib.pyplot as plt\n",
    "%matplotlib inline \n",
    "\n",
    "%load_ext autoreload\n",
    "%autoreload 2\n",
    "\n",
    "import mmsplice\n",
    "from mmsplice.generic import logit, expit\n",
    "\n",
    "def add_identity(axes, *line_args, **line_kwargs):\n",
    "    identity, = axes.plot([], [], *line_args, **line_kwargs)\n",
    "    def callback(axes):\n",
    "        low_x, high_x = axes.get_xlim()\n",
    "        low_y, high_y = axes.get_ylim()\n",
    "        low = max(low_x, low_y)\n",
    "        high = min(high_x, high_y)\n",
    "        identity.set_data([low, high], [low, high])\n",
    "    callback(axes)\n",
    "    axes.callbacks.connect('xlim_changed', callback)\n",
    "    axes.callbacks.connect('ylim_changed', callback)\n",
    "    return axes\n",
    "projectDIR = '../../data/'"
   ]
  },
  {
   "cell_type": "code",
   "execution_count": 2,
   "metadata": {},
   "outputs": [],
   "source": [
    "dt = pd.read_csv(projectDIR+\"mapsy/mapsy.txt\")"
   ]
  },
  {
   "cell_type": "code",
   "execution_count": 3,
   "metadata": {},
   "outputs": [
    {
     "data": {
      "text/html": [
       "<div>\n",
       "<style scoped>\n",
       "    .dataframe tbody tr th:only-of-type {\n",
       "        vertical-align: middle;\n",
       "    }\n",
       "\n",
       "    .dataframe tbody tr th {\n",
       "        vertical-align: top;\n",
       "    }\n",
       "\n",
       "    .dataframe thead th {\n",
       "        text-align: right;\n",
       "    }\n",
       "</style>\n",
       "<table border=\"1\" class=\"dataframe\">\n",
       "  <thead>\n",
       "    <tr style=\"text-align: right;\">\n",
       "      <th></th>\n",
       "      <th>ID</th>\n",
       "      <th>WT_ID</th>\n",
       "      <th>MUT_ID</th>\n",
       "      <th>WT_SEQ</th>\n",
       "      <th>MUT_SEQ</th>\n",
       "      <th>Exon_Start</th>\n",
       "      <th>Vivo_WT_Spliced</th>\n",
       "      <th>chr</th>\n",
       "      <th>Exon_End</th>\n",
       "      <th>Vivo_MUT_Spliced</th>\n",
       "      <th>...</th>\n",
       "      <th>phastCons46way_placental</th>\n",
       "      <th>phastCons46way_primate</th>\n",
       "      <th>phyloP100way_vertebrate</th>\n",
       "      <th>phyloP46way_primate</th>\n",
       "      <th>Exon_Pos</th>\n",
       "      <th>test</th>\n",
       "      <th>Exon_PhastCons</th>\n",
       "      <th>acceptor_intronL</th>\n",
       "      <th>donor_intronL</th>\n",
       "      <th>Exon_eng</th>\n",
       "    </tr>\n",
       "  </thead>\n",
       "  <tbody>\n",
       "    <tr>\n",
       "      <th>0</th>\n",
       "      <td>CM000008W_CM000008M</td>\n",
       "      <td>CM000008W</td>\n",
       "      <td>CM000008M</td>\n",
       "      <td>CTTATGCGAACGTGATCTAACAAGTGCAACTATATTTCTATTAAAG...</td>\n",
       "      <td>CTTATGCGAACGTGATCTAACAAGTGCAACTATATTTCTATTAAAG...</td>\n",
       "      <td>49565166</td>\n",
       "      <td>367</td>\n",
       "      <td>chr20</td>\n",
       "      <td>49565199</td>\n",
       "      <td>315</td>\n",
       "      <td>...</td>\n",
       "      <td>1.000</td>\n",
       "      <td>0.092</td>\n",
       "      <td>6.229</td>\n",
       "      <td>0.460</td>\n",
       "      <td>0.300000</td>\n",
       "      <td>False</td>\n",
       "      <td>0.945515</td>\n",
       "      <td>6523.0</td>\n",
       "      <td>2705.0</td>\n",
       "      <td>-2.0</td>\n",
       "    </tr>\n",
       "    <tr>\n",
       "      <th>1</th>\n",
       "      <td>CM000044W_CM000044M</td>\n",
       "      <td>CM000044W</td>\n",
       "      <td>CM000044M</td>\n",
       "      <td>CTTATGCGAACGTGAATTAGCTCTACAGTGTTTTAGTATAGATACA...</td>\n",
       "      <td>CTTATGCGAACGTGAATTAGCTCTACAGTGTTTTAGTATAGATACA...</td>\n",
       "      <td>130714887</td>\n",
       "      <td>53</td>\n",
       "      <td>chr3</td>\n",
       "      <td>130714955</td>\n",
       "      <td>31</td>\n",
       "      <td>...</td>\n",
       "      <td>1.000</td>\n",
       "      <td>0.965</td>\n",
       "      <td>7.681</td>\n",
       "      <td>0.491</td>\n",
       "      <td>0.814815</td>\n",
       "      <td>True</td>\n",
       "      <td>0.992529</td>\n",
       "      <td>1944.0</td>\n",
       "      <td>568.0</td>\n",
       "      <td>-7.0</td>\n",
       "    </tr>\n",
       "    <tr>\n",
       "      <th>2</th>\n",
       "      <td>CM000130W_CM000130M</td>\n",
       "      <td>CM000130W</td>\n",
       "      <td>CM000130M</td>\n",
       "      <td>CTTATGCGAACGTGAGCCCCAGAGACAAAACATATTTATTAGAAGT...</td>\n",
       "      <td>CTTATGCGAACGTGAGCCCCAGAGACAAAACATATTTATTAGAAGT...</td>\n",
       "      <td>15518633</td>\n",
       "      <td>186</td>\n",
       "      <td>chr3</td>\n",
       "      <td>15518704</td>\n",
       "      <td>358</td>\n",
       "      <td>...</td>\n",
       "      <td>1.000</td>\n",
       "      <td>0.991</td>\n",
       "      <td>4.547</td>\n",
       "      <td>0.561</td>\n",
       "      <td>0.352941</td>\n",
       "      <td>False</td>\n",
       "      <td>0.920901</td>\n",
       "      <td>1779.0</td>\n",
       "      <td>1638.0</td>\n",
       "      <td>-32.4</td>\n",
       "    </tr>\n",
       "    <tr>\n",
       "      <th>3</th>\n",
       "      <td>CM000143W_CM000143M</td>\n",
       "      <td>CM000143W</td>\n",
       "      <td>CM000143M</td>\n",
       "      <td>CTTATGCGAACGTGATGACTCTTGTCTTTTCATAGTTGACACATTA...</td>\n",
       "      <td>CTTATGCGAACGTGATGACTCTTGTCTTTTCATAGTTGACACATTA...</td>\n",
       "      <td>44130744</td>\n",
       "      <td>716</td>\n",
       "      <td>chr11</td>\n",
       "      <td>44130833</td>\n",
       "      <td>405</td>\n",
       "      <td>...</td>\n",
       "      <td>1.000</td>\n",
       "      <td>0.994</td>\n",
       "      <td>3.955</td>\n",
       "      <td>0.655</td>\n",
       "      <td>0.214286</td>\n",
       "      <td>False</td>\n",
       "      <td>0.946933</td>\n",
       "      <td>945.0</td>\n",
       "      <td>4901.0</td>\n",
       "      <td>-21.4</td>\n",
       "    </tr>\n",
       "    <tr>\n",
       "      <th>4</th>\n",
       "      <td>CM000143W_CM010237M</td>\n",
       "      <td>CM000143W</td>\n",
       "      <td>CM010237M</td>\n",
       "      <td>CTTATGCGAACGTGATGACTCTTGTCTTTTCATAGTTGACACATTA...</td>\n",
       "      <td>CTTATGCGAACGTGATGACTCTTGTCTTTTCATAGTTGACACATTA...</td>\n",
       "      <td>44130744</td>\n",
       "      <td>716</td>\n",
       "      <td>chr11</td>\n",
       "      <td>44130833</td>\n",
       "      <td>262</td>\n",
       "      <td>...</td>\n",
       "      <td>0.966</td>\n",
       "      <td>0.728</td>\n",
       "      <td>7.711</td>\n",
       "      <td>0.655</td>\n",
       "      <td>0.214286</td>\n",
       "      <td>False</td>\n",
       "      <td>0.946933</td>\n",
       "      <td>945.0</td>\n",
       "      <td>4901.0</td>\n",
       "      <td>-21.4</td>\n",
       "    </tr>\n",
       "  </tbody>\n",
       "</table>\n",
       "<p>5 rows × 38 columns</p>\n",
       "</div>"
      ],
      "text/plain": [
       "                    ID      WT_ID     MUT_ID  \\\n",
       "0  CM000008W_CM000008M  CM000008W  CM000008M   \n",
       "1  CM000044W_CM000044M  CM000044W  CM000044M   \n",
       "2  CM000130W_CM000130M  CM000130W  CM000130M   \n",
       "3  CM000143W_CM000143M  CM000143W  CM000143M   \n",
       "4  CM000143W_CM010237M  CM000143W  CM010237M   \n",
       "\n",
       "                                              WT_SEQ  \\\n",
       "0  CTTATGCGAACGTGATCTAACAAGTGCAACTATATTTCTATTAAAG...   \n",
       "1  CTTATGCGAACGTGAATTAGCTCTACAGTGTTTTAGTATAGATACA...   \n",
       "2  CTTATGCGAACGTGAGCCCCAGAGACAAAACATATTTATTAGAAGT...   \n",
       "3  CTTATGCGAACGTGATGACTCTTGTCTTTTCATAGTTGACACATTA...   \n",
       "4  CTTATGCGAACGTGATGACTCTTGTCTTTTCATAGTTGACACATTA...   \n",
       "\n",
       "                                             MUT_SEQ  Exon_Start  \\\n",
       "0  CTTATGCGAACGTGATCTAACAAGTGCAACTATATTTCTATTAAAG...    49565166   \n",
       "1  CTTATGCGAACGTGAATTAGCTCTACAGTGTTTTAGTATAGATACA...   130714887   \n",
       "2  CTTATGCGAACGTGAGCCCCAGAGACAAAACATATTTATTAGAAGT...    15518633   \n",
       "3  CTTATGCGAACGTGATGACTCTTGTCTTTTCATAGTTGACACATTA...    44130744   \n",
       "4  CTTATGCGAACGTGATGACTCTTGTCTTTTCATAGTTGACACATTA...    44130744   \n",
       "\n",
       "   Vivo_WT_Spliced    chr   Exon_End  Vivo_MUT_Spliced   ...     \\\n",
       "0              367  chr20   49565199               315   ...      \n",
       "1               53   chr3  130714955                31   ...      \n",
       "2              186   chr3   15518704               358   ...      \n",
       "3              716  chr11   44130833               405   ...      \n",
       "4              716  chr11   44130833               262   ...      \n",
       "\n",
       "   phastCons46way_placental  phastCons46way_primate  phyloP100way_vertebrate  \\\n",
       "0                     1.000                   0.092                    6.229   \n",
       "1                     1.000                   0.965                    7.681   \n",
       "2                     1.000                   0.991                    4.547   \n",
       "3                     1.000                   0.994                    3.955   \n",
       "4                     0.966                   0.728                    7.711   \n",
       "\n",
       "   phyloP46way_primate  Exon_Pos   test  Exon_PhastCons  acceptor_intronL  \\\n",
       "0                0.460  0.300000  False        0.945515            6523.0   \n",
       "1                0.491  0.814815   True        0.992529            1944.0   \n",
       "2                0.561  0.352941  False        0.920901            1779.0   \n",
       "3                0.655  0.214286  False        0.946933             945.0   \n",
       "4                0.655  0.214286  False        0.946933             945.0   \n",
       "\n",
       "   donor_intronL Exon_eng  \n",
       "0         2705.0     -2.0  \n",
       "1          568.0     -7.0  \n",
       "2         1638.0    -32.4  \n",
       "3         4901.0    -21.4  \n",
       "4         4901.0    -21.4  \n",
       "\n",
       "[5 rows x 38 columns]"
      ]
     },
     "execution_count": 3,
     "metadata": {},
     "output_type": "execute_result"
    }
   ],
   "source": [
    "dt.head()"
   ]
  },
  {
   "cell_type": "markdown",
   "metadata": {},
   "source": [
    "Match donor and acceptor position in the given sequence"
   ]
  },
  {
   "cell_type": "code",
   "execution_count": 4,
   "metadata": {},
   "outputs": [
    {
     "data": {
      "text/plain": [
       "(4951, 38)"
      ]
     },
     "execution_count": 4,
     "metadata": {},
     "output_type": "execute_result"
    }
   ],
   "source": [
    "dt.shape"
   ]
  },
  {
   "cell_type": "markdown",
   "metadata": {},
   "source": [
    "### Convert a vcf file"
   ]
  },
  {
   "cell_type": "code",
   "execution_count": 5,
   "metadata": {},
   "outputs": [],
   "source": [
    "import sys\n",
    "sys.path.append(\"../\")\n",
    "from utils import find_pos, find_seq_diff_pos"
   ]
  },
  {
   "cell_type": "code",
   "execution_count": 6,
   "metadata": {},
   "outputs": [],
   "source": [
    "dt['WT_Exon_End'] = dt.apply(lambda x: find_pos(x[\"WT_SEQ\"], x[\"donor\"]), axis=1)\n",
    "\n",
    "dt['WT_Exon_Start'] = dt.apply(lambda x: find_pos(x[\"WT_SEQ\"], x[\"acceptor\"], start=False), axis=1)"
   ]
  },
  {
   "cell_type": "code",
   "execution_count": 7,
   "metadata": {},
   "outputs": [],
   "source": [
    "dt['MUT_Exon_End'] = dt.apply(lambda x: find_pos(x[\"MUT_SEQ\"], x[\"donor\"]), axis=1)\n",
    "\n",
    "dt['MUT_Exon_Start'] = dt.apply(lambda x: find_pos(x[\"MUT_SEQ\"], x[\"acceptor\"], start=False), axis=1)"
   ]
  },
  {
   "cell_type": "code",
   "execution_count": 8,
   "metadata": {},
   "outputs": [
    {
     "name": "stderr",
     "output_type": "stream",
     "text": [
      "../utils.py:36: MatplotlibDeprecationWarning: The find function was deprecated in version 2.2.\n",
      "  return find(muts)[0]\n"
     ]
    }
   ],
   "source": [
    "dt[\"MUT_POS\"] = dt.apply(lambda x: find_seq_diff_pos(x[\"WT_SEQ\"], x[\"MUT_SEQ\"]), axis=1)"
   ]
  },
  {
   "cell_type": "code",
   "execution_count": 9,
   "metadata": {},
   "outputs": [],
   "source": [
    "dt['exonL'] = (dt[\"Exon_End\"] - dt[\"Exon_Start\"])"
   ]
  },
  {
   "cell_type": "code",
   "execution_count": 10,
   "metadata": {},
   "outputs": [],
   "source": [
    "## distance to spice sites\n",
    "dt['Dist_SS'] = dt.apply(lambda x: min(x['MUT_POS']-x[\"MUT_Exon_Start\"], x[\"MUT_Exon_End\"]-x['MUT_POS']), axis=1)"
   ]
  },
  {
   "cell_type": "code",
   "execution_count": 11,
   "metadata": {},
   "outputs": [],
   "source": [
    "# Prepare a vcf file\n",
    "POS = dt['MUT_POS'] - dt[\"MUT_Exon_Start\"] + dt['Exon_Start']\n",
    "REF = dt.apply(lambda x: x['WT_SEQ'][x['MUT_POS']], axis=1)\n",
    "ALT = dt.apply(lambda x: x['MUT_SEQ'][x['MUT_POS']], axis=1)"
   ]
  },
  {
   "cell_type": "code",
   "execution_count": 12,
   "metadata": {},
   "outputs": [],
   "source": [
    "prevcf = pd.DataFrame({\"ID\": dt.apply(lambda x: x['WT_ID']+\"_\"+x[\"MUT_ID\"], axis=1),\n",
    "             \"POS\": POS,\n",
    "             \"REF\": REF,\n",
    "             \"ALT\": ALT,\n",
    "             \"CHROM\": dt['chr']})"
   ]
  },
  {
   "cell_type": "markdown",
   "metadata": {},
   "source": [
    "### Get feature sequence"
   ]
  },
  {
   "cell_type": "code",
   "execution_count": 13,
   "metadata": {},
   "outputs": [],
   "source": [
    "acceptor_wt = dt.apply(lambda x: x['WT_SEQ'][x['WT_Exon_Start']-50 : x['WT_Exon_Start']+3], axis=1)\n",
    "\n",
    "donor_wt = dt.apply(lambda x: x['WT_SEQ'][x['WT_Exon_End']-5 : x['WT_Exon_End']+13], axis=1)"
   ]
  },
  {
   "cell_type": "code",
   "execution_count": 14,
   "metadata": {},
   "outputs": [],
   "source": [
    "acceptor_mut = dt.apply(lambda x: x['MUT_SEQ'][x['MUT_Exon_Start']-50 : x['MUT_Exon_Start']+3], axis=1)\n",
    "\n",
    "donor_mut = dt.apply(lambda x: x['MUT_SEQ'][x['MUT_Exon_End']-5 : x['MUT_Exon_End']+13], axis=1)"
   ]
  },
  {
   "cell_type": "code",
   "execution_count": 15,
   "metadata": {},
   "outputs": [],
   "source": [
    "exon_wt_seq = dt.apply(lambda x: x['WT_SEQ'][x['WT_Exon_Start'] : x['WT_Exon_End']], axis=1)\n",
    "exon_mut_seq = dt.apply(lambda x: x['MUT_SEQ'][x['MUT_Exon_Start'] : x['MUT_Exon_End']], axis=1)"
   ]
  },
  {
   "cell_type": "code",
   "execution_count": 16,
   "metadata": {},
   "outputs": [],
   "source": [
    "def label_region(mut_pos, exon_start, exon_end, left=3, right=5):\n",
    "    \"\"\" left: how many bases of start of exon to be considered as acceptor region\n",
    "    right: how many bases of end of exon to be considered as donor region\n",
    "    \"\"\" \n",
    "    if mut_pos < exon_start + left:\n",
    "        return 'acceptor'\n",
    "    elif mut_pos > exon_end - right:\n",
    "        return 'donor'\n",
    "    else:\n",
    "        return 'exon'"
   ]
  },
  {
   "cell_type": "code",
   "execution_count": 17,
   "metadata": {},
   "outputs": [],
   "source": [
    "dt['REGION'] = dt.apply(lambda x: label_region(x[\"MUT_POS\"], x[\"WT_Exon_Start\"], x[\"WT_Exon_End\"]), axis=1)"
   ]
  },
  {
   "cell_type": "markdown",
   "metadata": {},
   "source": [
    "## Apply model"
   ]
  },
  {
   "cell_type": "code",
   "execution_count": 18,
   "metadata": {},
   "outputs": [
    {
     "name": "stderr",
     "output_type": "stream",
     "text": [
      "/opt/modules/i12g/anaconda/3-5.0.1/envs/splicing/lib/python3.6/site-packages/keras/engine/saving.py:270: UserWarning: No training configuration found in save file: the model was *not* compiled. Compile it manually.\n",
      "  warnings.warn('No training configuration found in save file: '\n"
     ]
    }
   ],
   "source": [
    "exonM = load_model(mmsplice.EXON)\n",
    "exon_wt = exonM.predict_on_batch(encodeDNA(exon_wt_seq))"
   ]
  },
  {
   "cell_type": "code",
   "execution_count": 19,
   "metadata": {},
   "outputs": [],
   "source": [
    "exon_mut = exonM.predict_on_batch(encodeDNA(exon_mut_seq))"
   ]
  },
  {
   "cell_type": "code",
   "execution_count": 20,
   "metadata": {},
   "outputs": [],
   "source": [
    "donorM = load_model(mmsplice.DONOR)\n",
    "donor_wt = donorM.predict_on_batch(encodeDNA(donor_wt))\n",
    "donor_mut = donorM.predict_on_batch(encodeDNA(donor_mut))"
   ]
  },
  {
   "cell_type": "code",
   "execution_count": 21,
   "metadata": {},
   "outputs": [],
   "source": [
    "acceptorM = load_model(mmsplice.ACCEPTOR)\n",
    "acceptor_wt = acceptorM.predict_on_batch(encodeDNA(acceptor_wt))\n",
    "acceptor_mut = acceptorM.predict_on_batch(encodeDNA(acceptor_mut))"
   ]
  },
  {
   "cell_type": "markdown",
   "metadata": {},
   "source": [
    "## Huber loss regression"
   ]
  },
  {
   "cell_type": "code",
   "execution_count": 22,
   "metadata": {},
   "outputs": [],
   "source": [
    "from sklearn.linear_model import HuberRegressor\n",
    "from sklearn.model_selection import cross_val_predict, GridSearchCV"
   ]
  },
  {
   "cell_type": "code",
   "execution_count": 23,
   "metadata": {},
   "outputs": [],
   "source": [
    "X_vivo = np.concatenate([logit(acceptor_mut)-logit(acceptor_wt), exon_mut-exon_wt, logit(donor_mut)-logit(donor_wt)], axis=1)\n",
    "\n",
    "exon_overlap = np.logical_or(np.logical_and(X_vivo[:,0]!=0, X_vivo[:,1]!=0), np.logical_and(X_vivo[:,1]!=0, X_vivo[:,2]!=0))\n",
    "X_vivo = np.hstack([X_vivo, (X_vivo[:,1]*exon_overlap).reshape(-1,1)])"
   ]
  },
  {
   "cell_type": "code",
   "execution_count": 24,
   "metadata": {},
   "outputs": [],
   "source": [
    "X_vitro = np.concatenate([logit(acceptor_mut)-logit(acceptor_wt), exon_mut-exon_wt], axis=1)\n",
    "\n",
    "exon_overlap = np.logical_and(X_vitro[:,0]!=0, X_vitro[:,1]!=0)\n",
    "X_vitro = np.hstack([X_vitro, (X_vitro[:,1]*exon_overlap).reshape(-1,1)])"
   ]
  },
  {
   "cell_type": "markdown",
   "metadata": {},
   "source": [
    "### In vitro"
   ]
  },
  {
   "cell_type": "code",
   "execution_count": 25,
   "metadata": {},
   "outputs": [],
   "source": [
    "keep = np.isfinite(dt.log2_vitro_ratio)"
   ]
  },
  {
   "cell_type": "code",
   "execution_count": 26,
   "metadata": {},
   "outputs": [],
   "source": [
    "huber = HuberRegressor(fit_intercept=True, alpha=0.0, max_iter=100)"
   ]
  },
  {
   "cell_type": "code",
   "execution_count": 27,
   "metadata": {},
   "outputs": [
    {
     "data": {
      "text/plain": [
       "GridSearchCV(cv=None, error_score='raise',\n",
       "       estimator=HuberRegressor(alpha=0.0, epsilon=1.35, fit_intercept=True, max_iter=100,\n",
       "        tol=1e-05, warm_start=False),\n",
       "       fit_params=None, iid=True, n_jobs=1,\n",
       "       param_grid=[{'epsilon': array([1.     , 1.10345, 1.2069 , 1.31034, 1.41379, 1.51724, 1.62069,\n",
       "       1.72414, 1.82759, 1.93103, 2.03448, 2.13793, 2.24138, 2.34483,\n",
       "       2.44828, 2.55172, 2.65517, 2.75862, 2.86207, 2.96552, 3.06897,\n",
       "       3.17241, 3.27586, 3.37931, 3.48276, 3.58621, 3.68966, 3.7931 ,\n",
       "       3.89655, 4.     ])}],\n",
       "       pre_dispatch='2*n_jobs', refit=True, return_train_score='warn',\n",
       "       scoring=None, verbose=0)"
      ]
     },
     "execution_count": 27,
     "metadata": {},
     "output_type": "execute_result"
    }
   ],
   "source": [
    "param_dist = [{'epsilon': np.linspace(1, 4, 30)}]\n",
    "\n",
    "cv = GridSearchCV(huber, param_dist)\n",
    "\n",
    "cv.fit(X_vitro[keep], dt.log2_vitro_ratio[keep])"
   ]
  },
  {
   "cell_type": "code",
   "execution_count": 28,
   "metadata": {},
   "outputs": [],
   "source": [
    "y_pred_vitro = cv.best_estimator_.predict(X_vitro[keep])"
   ]
  },
  {
   "cell_type": "code",
   "execution_count": 29,
   "metadata": {},
   "outputs": [
    {
     "name": "stderr",
     "output_type": "stream",
     "text": [
      "/opt/modules/i12g/anaconda/3-5.0.1/envs/splicing/lib/python3.6/site-packages/ipykernel/__main__.py:1: FutureWarning: Method .as_matrix will be removed in a future version. Use .values instead.\n",
      "  if __name__ == '__main__':\n"
     ]
    }
   ],
   "source": [
    "vitro = np.stack([dt.log2_vitro_ratio[keep].as_matrix(), y_pred_vitro], axis=1)\n",
    "np.savetxt(projectDIR+\"mapsy/Vitro_Pred_huber.txt\", vitro)"
   ]
  },
  {
   "cell_type": "code",
   "execution_count": 30,
   "metadata": {},
   "outputs": [],
   "source": [
    "r = pearsonr(dt.log2_vitro_ratio[keep], y_pred_vitro)[0]"
   ]
  },
  {
   "cell_type": "code",
   "execution_count": 31,
   "metadata": {},
   "outputs": [
    {
     "data": {
      "image/png": "[encoded data removed]",
      "text/plain": [
       "<Figure size 360x360 with 1 Axes>"
      ]
     },
     "metadata": {},
     "output_type": "display_data"
    }
   ],
   "source": [
    "fig = plt.figure(figsize=(5, 5))\n",
    "ax = fig.add_subplot(111)\n",
    "ax.scatter(y_pred_vitro, dt.log2_vitro_ratio[keep], s=5, alpha=0.3) # delta_pred[keep]\n",
    "ax.axvline(x=0, color='k') \n",
    "ax.axhline(y=0, color='k')\n",
    "# ax.axis([-10,10,-10,10])\n",
    "ax.set_xlabel(\"EIS Predicted log rato\", fontsize=15)\n",
    "ax.set_ylabel(\"Measured log rato\", fontsize=15)\n",
    "ax.text(-0.8,0.8,'$R=%0.2f$'%r,fontsize=15)\n",
    "ax.spines['bottom'].set_visible(False)\n",
    "ax.spines['left'].set_visible(False)\n",
    "ax.spines['top'].set_visible(False)\n",
    "ax.spines['right'].set_visible(False)\n",
    "add_identity(ax, color=\"#DCDCDC\")\n",
    "plt.show()"
   ]
  },
  {
   "cell_type": "code",
   "execution_count": 32,
   "metadata": {},
   "outputs": [
    {
     "data": {
      "text/plain": [
       "['../../data/mapsy/vitro_model.pkl']"
      ]
     },
     "execution_count": 32,
     "metadata": {},
     "output_type": "execute_result"
    }
   ],
   "source": [
    "huber_best = cv.best_estimator_\n",
    "joblib.dump(huber_best, projectDIR + \"mapsy/vitro_model.pkl\")"
   ]
  },
  {
   "cell_type": "markdown",
   "metadata": {},
   "source": [
    "### In vivo"
   ]
  },
  {
   "cell_type": "code",
   "execution_count": 33,
   "metadata": {},
   "outputs": [],
   "source": [
    "huber = HuberRegressor(fit_intercept=True, max_iter=100)"
   ]
  },
  {
   "cell_type": "code",
   "execution_count": 34,
   "metadata": {},
   "outputs": [],
   "source": [
    "keep = np.isfinite(dt.log2_vivo_ratio)"
   ]
  },
  {
   "cell_type": "code",
   "execution_count": 35,
   "metadata": {},
   "outputs": [
    {
     "data": {
      "text/plain": [
       "GridSearchCV(cv=None, error_score='raise',\n",
       "       estimator=HuberRegressor(alpha=0.0001, epsilon=1.35, fit_intercept=True, max_iter=100,\n",
       "        tol=1e-05, warm_start=False),\n",
       "       fit_params=None, iid=True, n_jobs=1,\n",
       "       param_grid=[{'epsilon': array([1.     , 1.10345, 1.2069 , 1.31034, 1.41379, 1.51724, 1.62069,\n",
       "       1.72414, 1.82759, 1.93103, 2.03448, 2.13793, 2.24138, 2.34483,\n",
       "       2.44828, 2.55172, 2.65517, 2.75862, 2.86207, 2.96552, 3.06897,\n",
       "       3.17241, 3.27586, 3.37931, 3.48276, 3.58621, 3.68966, 3.7931 ,\n",
       "       3.89655, 4.     ])}],\n",
       "       pre_dispatch='2*n_jobs', refit=True, return_train_score='warn',\n",
       "       scoring=None, verbose=0)"
      ]
     },
     "execution_count": 35,
     "metadata": {},
     "output_type": "execute_result"
    }
   ],
   "source": [
    "param_dist = [{'epsilon': np.linspace(1, 4, 30)}]\n",
    "\n",
    "cv = GridSearchCV(huber, param_dist)\n",
    "\n",
    "cv.fit(X_vivo[keep], dt.log2_vivo_ratio[keep])"
   ]
  },
  {
   "cell_type": "code",
   "execution_count": 36,
   "metadata": {},
   "outputs": [],
   "source": [
    "y_pred_vivo = cv.best_estimator_.predict(X_vivo[keep])"
   ]
  },
  {
   "cell_type": "code",
   "execution_count": 37,
   "metadata": {},
   "outputs": [
    {
     "name": "stderr",
     "output_type": "stream",
     "text": [
      "/opt/modules/i12g/anaconda/3-5.0.1/envs/splicing/lib/python3.6/site-packages/ipykernel/__main__.py:1: FutureWarning: Method .as_matrix will be removed in a future version. Use .values instead.\n",
      "  if __name__ == '__main__':\n"
     ]
    }
   ],
   "source": [
    "vivo = np.stack([dt.log2_vivo_ratio[keep].as_matrix(), y_pred_vivo], axis=1)\n",
    "np.savetxt(projectDIR+\"mapsy/Vivo_Pred_huber.txt\", vivo)"
   ]
  },
  {
   "cell_type": "code",
   "execution_count": 38,
   "metadata": {},
   "outputs": [],
   "source": [
    "r = pearsonr(y_pred_vivo, dt.log2_vivo_ratio[keep])[0]"
   ]
  },
  {
   "cell_type": "code",
   "execution_count": 39,
   "metadata": {},
   "outputs": [
    {
     "data": {
      "image/png": "[encoded data removed]",
      "text/plain": [
       "<Figure size 360x360 with 1 Axes>"
      ]
     },
     "metadata": {},
     "output_type": "display_data"
    }
   ],
   "source": [
    "fig = plt.figure(figsize=(5, 5))\n",
    "ax = fig.add_subplot(111)\n",
    "ax.scatter(y_pred_vivo, dt.log2_vivo_ratio[keep], s=5, alpha=0.3)\n",
    "ax.axvline(x=0, color='k')\n",
    "ax.axhline(y=0, color='k')\n",
    "# ax.axis([-10,10,-10,10])\n",
    "ax.set_xlabel(\"EIS Predicted log rato\", fontsize=15)\n",
    "ax.set_ylabel(\"Measured log rato\", fontsize=15)\n",
    "ax.text(-0.8,0.8,'$R=%0.2f$'%r,fontsize=15)\n",
    "ax.spines['bottom'].set_visible(False)\n",
    "ax.spines['left'].set_visible(False)\n",
    "ax.spines['top'].set_visible(False)\n",
    "ax.spines['right'].set_visible(False)\n",
    "add_identity(ax, color=\"#DCDCDC\")\n",
    "plt.show()"
   ]
  },
  {
   "cell_type": "code",
   "execution_count": 40,
   "metadata": {},
   "outputs": [
    {
     "data": {
      "text/plain": [
       "['../../data/mapsy/vivo_model.pkl']"
      ]
     },
     "execution_count": 40,
     "metadata": {},
     "output_type": "execute_result"
    }
   ],
   "source": [
    "huber_best = cv.best_estimator_\n",
    "joblib.dump(huber_best, projectDIR + \"mapsy/vivo_model.pkl\")"
   ]
  }
 ],
 "metadata": {
  "kernelspec": {
   "display_name": "Python [conda env:splicing]",
   "language": "python",
   "name": "conda-env-splicing-py"
  },
  "language_info": {
   "codemirror_mode": {
    "name": "ipython",
    "version": 3
   },
   "file_extension": ".py",
   "mimetype": "text/x-python",
   "name": "python",
   "nbconvert_exporter": "python",
   "pygments_lexer": "ipython3",
   "version": "3.6.0"
  }
 },
 "nbformat": 4,
 "nbformat_minor": 2
}
