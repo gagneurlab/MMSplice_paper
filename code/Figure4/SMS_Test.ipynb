{
 "cells": [
  {
   "cell_type": "code",
   "execution_count": 1,
   "metadata": {},
   "outputs": [],
   "source": [
    "import pandas as pd\n",
    "import numpy as np\n",
    "import scipy\n",
    "import scipy.sparse\n",
    "import scipy.stats\n",
    "import os\n",
    "import scipy.io as sio\n",
    "%matplotlib inline\n",
    "from pylab import *\n",
    "\n",
    "# Plotting Params:\n",
    "rc('mathtext', default='regular')\n",
    "fsize=14\n",
    "\n",
    "projectDIR = '../../'"
   ]
  },
  {
   "cell_type": "code",
   "execution_count": 3,
   "metadata": {},
   "outputs": [],
   "source": [
    "import sys\n",
    "sys.path.append(projectDIR + \"code\")\n",
    "# import Dataset\n",
    "import dnatools\n",
    "from utils import find_pos, find_seq_diff_pos"
   ]
  },
  {
   "cell_type": "markdown",
   "metadata": {},
   "source": [
    "## Process SMS scores"
   ]
  },
  {
   "cell_type": "code",
   "execution_count": 4,
   "metadata": {},
   "outputs": [],
   "source": [
    "sms = pd.read_csv(projectDIR + 'data/mapsy/SMS_Supplemental_Table_S7.csv', header=None)\n",
    "sms = sms[[0,1]]"
   ]
  },
  {
   "cell_type": "code",
   "execution_count": 5,
   "metadata": {},
   "outputs": [],
   "source": [
    "sms.columns = ['mer', 'SMS_score']"
   ]
  },
  {
   "cell_type": "code",
   "execution_count": 6,
   "metadata": {},
   "outputs": [],
   "source": [
    "sms_scores = sms.SMS_score"
   ]
  },
  {
   "cell_type": "code",
   "execution_count": 7,
   "metadata": {},
   "outputs": [],
   "source": [
    "sms_scores.index = sms.mer"
   ]
  },
  {
   "cell_type": "code",
   "execution_count": 8,
   "metadata": {},
   "outputs": [],
   "source": [
    "logit = lambda x: log(x)-log(1-x)\n",
    "expit = lambda x: 1./(1.+exp(-x))\n",
    "\n",
    "def score_seq(seq, mer_scores):\n",
    "    score = 0.\n",
    "    for b in range(len(seq)-7):\n",
    "        score += mer_scores[seq[b:b+7]]\n",
    "    return score"
   ]
  },
  {
   "cell_type": "code",
   "execution_count": 9,
   "metadata": {},
   "outputs": [],
   "source": [
    "def make_predictions(df, label='DSCORE_PRED_Vivo'):\n",
    "    pred_score = []\n",
    "    for i in range(len(df)):\n",
    "        mut_seq = df.Exon_ALT_SEQ[i]\n",
    "        ref_seq = df.Exon_REF_SEQ[i]\n",
    "        mut_score = score_seq(mut_seq, sms_scores)\n",
    "        ref_score = score_seq(ref_seq, sms_scores)\n",
    "        pred_score.append(mut_score-ref_score)\n",
    "    df[label] = pred_score\n",
    "    return df"
   ]
  },
  {
   "cell_type": "markdown",
   "metadata": {},
   "source": [
    "## Load MaPSy data"
   ]
  },
  {
   "cell_type": "code",
   "execution_count": 11,
   "metadata": {},
   "outputs": [],
   "source": [
    "dt = pd.read_csv(projectDIR+\"/data/mapsy/CAGI_entire_file_testing_set_processed.txt\")"
   ]
  },
  {
   "cell_type": "code",
   "execution_count": 12,
   "metadata": {},
   "outputs": [
    {
     "name": "stdout",
     "output_type": "stream",
     "text": [
      "GTAAGCCCTGCTAG\n",
      "GTGTGATCCCAGGG\n",
      "AGTAGATACTTAAAATACTTAGAATTTTTTTCTTCATTTTTCTCTTTAAG\n",
      "GGATGGCAGATCCCTGAGACTTGGCTCTAATTCTGTCCTTAAAATGGCAG\n",
      "TTTTTTTTCTTTTCTTTTCTTTTTTTTTTTTTTTTTTTGTCTTCTCCCAG\n"
     ]
    },
    {
     "name": "stderr",
     "output_type": "stream",
     "text": [
      "../../code/utils.py:20: UserWarning: Cannot match full length short sequence GTAAG, used first 5 bases\n",
      "  warnings.warn(\"Cannot match full length short sequence %s, used first 5 bases\" % shortseq)\n",
      "../../code/utils.py:20: UserWarning: Cannot match full length short sequence GTGTG, used first 5 bases\n",
      "  warnings.warn(\"Cannot match full length short sequence %s, used first 5 bases\" % shortseq)\n",
      "../../code/utils.py:20: UserWarning: Cannot match full length short sequence ATTTTTCTCTTTAAG, used first 5 bases\n",
      "  warnings.warn(\"Cannot match full length short sequence %s, used first 5 bases\" % shortseq)\n",
      "../../code/utils.py:20: UserWarning: Cannot match full length short sequence TCCTTAAAATGGCAG, used first 5 bases\n",
      "  warnings.warn(\"Cannot match full length short sequence %s, used first 5 bases\" % shortseq)\n",
      "../../code/utils.py:20: UserWarning: Cannot match full length short sequence TTTGTCTTCTCCCAG, used first 5 bases\n",
      "  warnings.warn(\"Cannot match full length short sequence %s, used first 5 bases\" % shortseq)\n"
     ]
    },
    {
     "name": "stdout",
     "output_type": "stream",
     "text": [
      "GATACGTGAGAATGTCATGAGGATCTAAAATATATTGCATACTTTTATAG\n",
      "GATTTTCTTCCCAAAGAGTCAGACTTTAACAGAGTGCTTTTCTCCTACAG\n",
      "CTTTGACACTTGAGTTATCTGGATTTGTCTTGTATTCTGTTTTCTCAAAG\n",
      "GGTCCCGTAGTTATGTCTTGTAAATTAACTCTGTTCTTTCAATTCTTTAG\n"
     ]
    },
    {
     "name": "stderr",
     "output_type": "stream",
     "text": [
      "../../code/utils.py:20: UserWarning: Cannot match full length short sequence TGCATACTTTTATAG, used first 5 bases\n",
      "  warnings.warn(\"Cannot match full length short sequence %s, used first 5 bases\" % shortseq)\n",
      "../../code/utils.py:20: UserWarning: Cannot match full length short sequence GCTTTTCTCCTACAG, used first 5 bases\n",
      "  warnings.warn(\"Cannot match full length short sequence %s, used first 5 bases\" % shortseq)\n",
      "../../code/utils.py:20: UserWarning: Cannot match full length short sequence TCTGTTTTCTCAAAG, used first 5 bases\n",
      "  warnings.warn(\"Cannot match full length short sequence %s, used first 5 bases\" % shortseq)\n",
      "../../code/utils.py:20: UserWarning: Cannot match full length short sequence CTTTCAATTCTTTAG, used first 5 bases\n",
      "  warnings.warn(\"Cannot match full length short sequence %s, used first 5 bases\" % shortseq)\n"
     ]
    }
   ],
   "source": [
    "dt['WT_Exon_End'] = dt.apply(lambda x: find_pos(x[\"WT_SEQ\"], x[\"donor\"]), axis=1)\n",
    "dt['WT_Exon_Start'] = dt.apply(lambda x: find_pos(x[\"WT_SEQ\"], x[\"acceptor\"], start=False), axis=1)"
   ]
  },
  {
   "cell_type": "code",
   "execution_count": 13,
   "metadata": {},
   "outputs": [
    {
     "name": "stdout",
     "output_type": "stream",
     "text": [
      "GTAAGCCCTGCTAG\n",
      "GTGTGATCCCAGGG\n",
      "AGTAGATACTTAAAATACTTAGAATTTTTTTCTTCATTTTTCTCTTTAAG\n",
      "GGATGGCAGATCCCTGAGACTTGGCTCTAATTCTGTCCTTAAAATGGCAG\n",
      "TTTTTTTTCTTTTCTTTTCTTTTTTTTTTTTTTTTTTTGTCTTCTCCCAG\n",
      "GATACGTGAGAATGTCATGAGGATCTAAAATATATTGCATACTTTTATAG\n",
      "GATTTTCTTCCCAAAGAGTCAGACTTTAACAGAGTGCTTTTCTCCTACAG\n",
      "CTTTGACACTTGAGTTATCTGGATTTGTCTTGTATTCTGTTTTCTCAAAG\n"
     ]
    },
    {
     "name": "stderr",
     "output_type": "stream",
     "text": [
      "../../code/utils.py:20: UserWarning: Cannot match full length short sequence GTAAG, used first 5 bases\n",
      "  warnings.warn(\"Cannot match full length short sequence %s, used first 5 bases\" % shortseq)\n",
      "../../code/utils.py:20: UserWarning: Cannot match full length short sequence GTGTG, used first 5 bases\n",
      "  warnings.warn(\"Cannot match full length short sequence %s, used first 5 bases\" % shortseq)\n",
      "../../code/utils.py:20: UserWarning: Cannot match full length short sequence ATTTTTCTCTTTAAG, used first 5 bases\n",
      "  warnings.warn(\"Cannot match full length short sequence %s, used first 5 bases\" % shortseq)\n",
      "../../code/utils.py:20: UserWarning: Cannot match full length short sequence TCCTTAAAATGGCAG, used first 5 bases\n",
      "  warnings.warn(\"Cannot match full length short sequence %s, used first 5 bases\" % shortseq)\n",
      "../../code/utils.py:20: UserWarning: Cannot match full length short sequence TTTGTCTTCTCCCAG, used first 5 bases\n",
      "  warnings.warn(\"Cannot match full length short sequence %s, used first 5 bases\" % shortseq)\n",
      "../../code/utils.py:20: UserWarning: Cannot match full length short sequence TGCATACTTTTATAG, used first 5 bases\n",
      "  warnings.warn(\"Cannot match full length short sequence %s, used first 5 bases\" % shortseq)\n",
      "../../code/utils.py:20: UserWarning: Cannot match full length short sequence GCTTTTCTCCTACAG, used first 5 bases\n",
      "  warnings.warn(\"Cannot match full length short sequence %s, used first 5 bases\" % shortseq)\n",
      "../../code/utils.py:20: UserWarning: Cannot match full length short sequence TCTGTTTTCTCAAAG, used first 5 bases\n",
      "  warnings.warn(\"Cannot match full length short sequence %s, used first 5 bases\" % shortseq)\n"
     ]
    },
    {
     "name": "stdout",
     "output_type": "stream",
     "text": [
      "GGTCCCGTAGTTATGTCTTGTAAATTAACTCTGTTCTTTCAATTCTTTAG\n"
     ]
    },
    {
     "name": "stderr",
     "output_type": "stream",
     "text": [
      "../../code/utils.py:20: UserWarning: Cannot match full length short sequence CTTTCAATTCTTTAG, used first 5 bases\n",
      "  warnings.warn(\"Cannot match full length short sequence %s, used first 5 bases\" % shortseq)\n"
     ]
    }
   ],
   "source": [
    "dt['MUT_Exon_End'] = dt.apply(lambda x: find_pos(x[\"MUT_SEQ\"], x[\"donor\"]), axis=1)\n",
    "dt['MUT_Exon_Start'] = dt.apply(lambda x: find_pos(x[\"MUT_SEQ\"], x[\"acceptor\"], start=False), axis=1)"
   ]
  },
  {
   "cell_type": "code",
   "execution_count": 14,
   "metadata": {},
   "outputs": [
    {
     "name": "stderr",
     "output_type": "stream",
     "text": [
      "../../code/utils.py:36: MatplotlibDeprecationWarning: The find function was deprecated in version 2.2.\n",
      "  return find(muts)[0]\n"
     ]
    }
   ],
   "source": [
    "dt[\"MUT_POS\"] = dt.apply(lambda x: find_seq_diff_pos(x[\"WT_SEQ\"], x[\"MUT_SEQ\"]), axis=1)"
   ]
  },
  {
   "cell_type": "code",
   "execution_count": 15,
   "metadata": {},
   "outputs": [],
   "source": [
    "dt['Exon_REF_SEQ'] = dt.apply(lambda x: x['WT_SEQ'][x['WT_Exon_Start'] : x['WT_Exon_End']], axis=1)\n",
    "dt['Exon_ALT_SEQ'] = dt.apply(lambda x: x['MUT_SEQ'][x['MUT_Exon_Start'] : x['MUT_Exon_End']], axis=1)"
   ]
  },
  {
   "cell_type": "markdown",
   "metadata": {},
   "source": [
    "## Appy HAL Model"
   ]
  },
  {
   "cell_type": "code",
   "execution_count": 16,
   "metadata": {},
   "outputs": [],
   "source": [
    "dt = make_predictions(dt, label=\"DSCORE_PRED_Vivo\")\n",
    "dt = make_predictions(dt, label=\"DSCORE_PRED_Vitro\")"
   ]
  },
  {
   "cell_type": "code",
   "execution_count": 18,
   "metadata": {},
   "outputs": [],
   "source": [
    "answer = pd.read_csv(projectDIR+\"/data/mapsy/MaPsyCAGI_entire_file_test_set_answers.txt\", header=None, sep='\\t')"
   ]
  },
  {
   "cell_type": "code",
   "execution_count": 19,
   "metadata": {},
   "outputs": [],
   "source": [
    "answer = answer[[0, 1, 14, 15]]"
   ]
  },
  {
   "cell_type": "code",
   "execution_count": 20,
   "metadata": {},
   "outputs": [],
   "source": [
    "answer.columns = ['WT_ID', 'MUT_ID', 'log2_vivo_ratio', 'log2_vitro_ratio']"
   ]
  },
  {
   "cell_type": "code",
   "execution_count": 21,
   "metadata": {},
   "outputs": [],
   "source": [
    "answer['ID'] = answer.WT_ID + '_' + answer.MUT_ID"
   ]
  },
  {
   "cell_type": "code",
   "execution_count": 22,
   "metadata": {},
   "outputs": [],
   "source": [
    "dt = dt.merge(answer, on='ID')"
   ]
  },
  {
   "cell_type": "code",
   "execution_count": 23,
   "metadata": {},
   "outputs": [
    {
     "data": {
      "text/plain": [
       "Index(['ID', 'WT_ID_x', 'MUT_ID_x', 'WT_SEQ', 'MUT_SEQ', 'Exon_Start',\n",
       "       'Vivo_WT_Input', 'chr', 'Exon_End', 'Vivo_MUT_Input', 'Vitro_WT_Input',\n",
       "       'Vitro_MUT_Input', 'donor', 'acceptor', 'strand', 'Exon_PhastCons',\n",
       "       'acceptor_intronL', 'donor_intronL', 'Exon_eng', 'WT_Exon_End',\n",
       "       'WT_Exon_Start', 'MUT_Exon_End', 'MUT_Exon_Start', 'MUT_POS',\n",
       "       'Exon_REF_SEQ', 'Exon_ALT_SEQ', 'DSCORE_PRED_Vivo', 'DSCORE_PRED_Vitro',\n",
       "       'WT_ID_y', 'MUT_ID_y', 'log2_vivo_ratio', 'log2_vitro_ratio'],\n",
       "      dtype='object')"
      ]
     },
     "execution_count": 23,
     "metadata": {},
     "output_type": "execute_result"
    }
   ],
   "source": [
    "dt.columns"
   ]
  },
  {
   "cell_type": "code",
   "execution_count": 24,
   "metadata": {},
   "outputs": [
    {
     "data": {
      "image/png": "[encoded data removed]",
      "text/plain": [
       "<Figure size 432x288 with 1 Axes>"
      ]
     },
     "metadata": {},
     "output_type": "display_data"
    }
   ],
   "source": [
    "plt.scatter(dt['DSCORE_PRED_Vitro'], dt['log2_vitro_ratio'], s=5)\n",
    "plt.show()"
   ]
  },
  {
   "cell_type": "code",
   "execution_count": 25,
   "metadata": {},
   "outputs": [
    {
     "data": {
      "image/png": "[encoded data removed]",
      "text/plain": [
       "<Figure size 432x288 with 1 Axes>"
      ]
     },
     "metadata": {},
     "output_type": "display_data"
    }
   ],
   "source": [
    "plt.scatter(dt['DSCORE_PRED_Vivo'], dt['log2_vivo_ratio'], s=5)\n",
    "plt.show()"
   ]
  },
  {
   "cell_type": "code",
   "execution_count": 26,
   "metadata": {},
   "outputs": [],
   "source": [
    "dt.to_csv(projectDIR + \"data/mapsy/sms_Pred_test.csv\")"
   ]
  }
 ],
 "metadata": {
  "kernelspec": {
   "display_name": "Python [conda env:splicing]",
   "language": "python",
   "name": "conda-env-splicing-py"
  },
  "language_info": {
   "codemirror_mode": {
    "name": "ipython",
    "version": 3
   },
   "file_extension": ".py",
   "mimetype": "text/x-python",
   "name": "python",
   "nbconvert_exporter": "python",
   "pygments_lexer": "ipython3",
   "version": "3.6.0"
  }
 },
 "nbformat": 4,
 "nbformat_minor": 2
}
