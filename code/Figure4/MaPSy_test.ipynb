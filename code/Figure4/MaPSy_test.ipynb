{
 "cells": [
  {
   "cell_type": "markdown",
   "metadata": {},
   "source": [
    "## Test data of MaPSy"
   ]
  },
  {
   "cell_type": "code",
   "execution_count": 1,
   "metadata": {},
   "outputs": [
    {
     "name": "stderr",
     "output_type": "stream",
     "text": [
      "Using TensorFlow backend.\n"
     ]
    }
   ],
   "source": [
    "from keras.models import load_model\n",
    "from concise.preprocessing import encodeDNA\n",
    "\n",
    "import numpy as np\n",
    "import pandas as pd\n",
    "from scipy.stats import spearmanr, pearsonr\n",
    "import matplotlib.pyplot as plt\n",
    "%matplotlib inline \n",
    "\n",
    "%load_ext autoreload\n",
    "%autoreload 2\n",
    "\n",
    "import mmsplice\n",
    "from mmsplice.generic import logit, expit\n",
    "\n",
    "def add_identity(axes, *line_args, **line_kwargs):\n",
    "    identity, = axes.plot([], [], *line_args, **line_kwargs)\n",
    "    def callback(axes):\n",
    "        low_x, high_x = axes.get_xlim()\n",
    "        low_y, high_y = axes.get_ylim()\n",
    "        low = max(low_x, low_y)\n",
    "        high = min(high_x, high_y)\n",
    "        identity.set_data([low, high], [low, high])\n",
    "    callback(axes)\n",
    "    axes.callbacks.connect('xlim_changed', callback)\n",
    "    axes.callbacks.connect('ylim_changed', callback)\n",
    "    return axes\n",
    "\n",
    "projectDIR = '../../data/'"
   ]
  },
  {
   "cell_type": "code",
   "execution_count": 2,
   "metadata": {},
   "outputs": [],
   "source": [
    "dt = pd.read_csv(projectDIR + \"/mapsy/CAGI_entire_file_testing_set_processed.txt\")"
   ]
  },
  {
   "cell_type": "code",
   "execution_count": 3,
   "metadata": {},
   "outputs": [
    {
     "data": {
      "text/html": [
       "<div>\n",
       "<style scoped>\n",
       "    .dataframe tbody tr th:only-of-type {\n",
       "        vertical-align: middle;\n",
       "    }\n",
       "\n",
       "    .dataframe tbody tr th {\n",
       "        vertical-align: top;\n",
       "    }\n",
       "\n",
       "    .dataframe thead th {\n",
       "        text-align: right;\n",
       "    }\n",
       "</style>\n",
       "<table border=\"1\" class=\"dataframe\">\n",
       "  <thead>\n",
       "    <tr style=\"text-align: right;\">\n",
       "      <th></th>\n",
       "      <th>ID</th>\n",
       "      <th>WT_ID</th>\n",
       "      <th>MUT_ID</th>\n",
       "      <th>WT_SEQ</th>\n",
       "      <th>MUT_SEQ</th>\n",
       "      <th>Exon_Start</th>\n",
       "      <th>Vivo_WT_Input</th>\n",
       "      <th>chr</th>\n",
       "      <th>Exon_End</th>\n",
       "      <th>Vivo_MUT_Input</th>\n",
       "      <th>Vitro_WT_Input</th>\n",
       "      <th>Vitro_MUT_Input</th>\n",
       "      <th>donor</th>\n",
       "      <th>acceptor</th>\n",
       "      <th>strand</th>\n",
       "      <th>Exon_PhastCons</th>\n",
       "      <th>acceptor_intronL</th>\n",
       "      <th>donor_intronL</th>\n",
       "      <th>Exon_eng</th>\n",
       "    </tr>\n",
       "  </thead>\n",
       "  <tbody>\n",
       "    <tr>\n",
       "      <th>0</th>\n",
       "      <td>chr1-109338855-109338994M_chr1-109338855-10933...</td>\n",
       "      <td>chr1-109338855-109338994M</td>\n",
       "      <td>chr1-109338855-109338994W</td>\n",
       "      <td>CTTATGCGAACGTGAAGATGTTTTTAACTAAAAAATGAATTTTGGT...</td>\n",
       "      <td>CTTATGCGAACGTGAAGATGTTTTTAACTAAAAAATGAATTTTGGT...</td>\n",
       "      <td>109338856</td>\n",
       "      <td>184</td>\n",
       "      <td>chr1</td>\n",
       "      <td>109338994</td>\n",
       "      <td>197</td>\n",
       "      <td>359</td>\n",
       "      <td>587</td>\n",
       "      <td>GTAATGGAGATAAT</td>\n",
       "      <td>AAAAATGAATTTTGGTTATAGATCACTGACAATATTTTATTTTCAT...</td>\n",
       "      <td>+</td>\n",
       "      <td>0.946870</td>\n",
       "      <td>1326</td>\n",
       "      <td>247</td>\n",
       "      <td>-78.8</td>\n",
       "    </tr>\n",
       "    <tr>\n",
       "      <th>1</th>\n",
       "      <td>chr1-114973419-114973534W_chr1-114973419-11497...</td>\n",
       "      <td>chr1-114973419-114973534W</td>\n",
       "      <td>chr1-114973419-114973534M</td>\n",
       "      <td>CTTATGCGAACGTGATAACAGTTGATGATTCAGAGACCTAGGATAA...</td>\n",
       "      <td>CTTATGCGAACGTGATAACAGTTGATGATTCAGAGACCTAGGATAA...</td>\n",
       "      <td>114973420</td>\n",
       "      <td>595</td>\n",
       "      <td>chr1</td>\n",
       "      <td>114973534</td>\n",
       "      <td>489</td>\n",
       "      <td>851</td>\n",
       "      <td>993</td>\n",
       "      <td>GTATGGTTCAAAGC</td>\n",
       "      <td>CAGAGACCTAGGATAAGTTGATAACCTAATGATGCATTTCTCTTAT...</td>\n",
       "      <td>-</td>\n",
       "      <td>0.999851</td>\n",
       "      <td>2704</td>\n",
       "      <td>2903</td>\n",
       "      <td>-31.8</td>\n",
       "    </tr>\n",
       "    <tr>\n",
       "      <th>2</th>\n",
       "      <td>chr1-1250899-1250994W_chr1-1250899-1250994M</td>\n",
       "      <td>chr1-1250899-1250994W</td>\n",
       "      <td>chr1-1250899-1250994M</td>\n",
       "      <td>CTTATGCGAACGTGACCCTCACTCCCCGCCCCTCTGCTGTGAGGAC...</td>\n",
       "      <td>CTTATGCGAACGTGACCCTCACTCCCCGCCCCTCTGCTGTGAGGAC...</td>\n",
       "      <td>1250900</td>\n",
       "      <td>786</td>\n",
       "      <td>chr1</td>\n",
       "      <td>1250998</td>\n",
       "      <td>777</td>\n",
       "      <td>770</td>\n",
       "      <td>730</td>\n",
       "      <td>GTCAGTGGAAGGGC</td>\n",
       "      <td>CGCCCCTCTGCTGTGAGGACACAGCCTGAGCGCAGCCCTGTCCTCC...</td>\n",
       "      <td>-</td>\n",
       "      <td>0.906347</td>\n",
       "      <td>538</td>\n",
       "      <td>81</td>\n",
       "      <td>-33.5</td>\n",
       "    </tr>\n",
       "    <tr>\n",
       "      <th>3</th>\n",
       "      <td>chr1-1250899-1250998W_chr1-1250899-1250998M</td>\n",
       "      <td>chr1-1250899-1250998W</td>\n",
       "      <td>chr1-1250899-1250998M</td>\n",
       "      <td>CTTATGCGAACGTGAGCCTCCCTCACTCCCCGCCCCTCTGCTGTGA...</td>\n",
       "      <td>CTTATGCGAACGTGAGCCTCCCTCACTCCCCGCCCCTCTGCTGTGA...</td>\n",
       "      <td>1250900</td>\n",
       "      <td>418</td>\n",
       "      <td>chr1</td>\n",
       "      <td>1250998</td>\n",
       "      <td>366</td>\n",
       "      <td>666</td>\n",
       "      <td>487</td>\n",
       "      <td>GTCAGTGGAAGGGC</td>\n",
       "      <td>CGCCCCTCTGCTGTGAGGACACAGCCTGAGCGCAGCCCTGTCCTCC...</td>\n",
       "      <td>-</td>\n",
       "      <td>0.906347</td>\n",
       "      <td>538</td>\n",
       "      <td>81</td>\n",
       "      <td>-65.3</td>\n",
       "    </tr>\n",
       "    <tr>\n",
       "      <th>4</th>\n",
       "      <td>chr1-144813741-144813844M_chr1-144813741-14481...</td>\n",
       "      <td>chr1-144813741-144813844M</td>\n",
       "      <td>chr1-144813741-144813844W</td>\n",
       "      <td>CTTATGCGAACGTGAGTAGGCAGTGACCACAGCAGCATGTCCAGCC...</td>\n",
       "      <td>CTTATGCGAACGTGAGTAGGCAGTGACCACAGCAGCATGTCCAGCC...</td>\n",
       "      <td>144813742</td>\n",
       "      <td>607</td>\n",
       "      <td>chr1</td>\n",
       "      <td>144813844</td>\n",
       "      <td>538</td>\n",
       "      <td>694</td>\n",
       "      <td>564</td>\n",
       "      <td>GTGAGGGGACCCCA</td>\n",
       "      <td>AGCAGCATGTCCAGCCTTCCACTGAGACAGGCGTGTCTGTCTTTTC...</td>\n",
       "      <td>+</td>\n",
       "      <td>0.012382</td>\n",
       "      <td>1784</td>\n",
       "      <td>835</td>\n",
       "      <td>-25.4</td>\n",
       "    </tr>\n",
       "  </tbody>\n",
       "</table>\n",
       "</div>"
      ],
      "text/plain": [
       "                                                  ID  \\\n",
       "0  chr1-109338855-109338994M_chr1-109338855-10933...   \n",
       "1  chr1-114973419-114973534W_chr1-114973419-11497...   \n",
       "2        chr1-1250899-1250994W_chr1-1250899-1250994M   \n",
       "3        chr1-1250899-1250998W_chr1-1250899-1250998M   \n",
       "4  chr1-144813741-144813844M_chr1-144813741-14481...   \n",
       "\n",
       "                       WT_ID                     MUT_ID  \\\n",
       "0  chr1-109338855-109338994M  chr1-109338855-109338994W   \n",
       "1  chr1-114973419-114973534W  chr1-114973419-114973534M   \n",
       "2      chr1-1250899-1250994W      chr1-1250899-1250994M   \n",
       "3      chr1-1250899-1250998W      chr1-1250899-1250998M   \n",
       "4  chr1-144813741-144813844M  chr1-144813741-144813844W   \n",
       "\n",
       "                                              WT_SEQ  \\\n",
       "0  CTTATGCGAACGTGAAGATGTTTTTAACTAAAAAATGAATTTTGGT...   \n",
       "1  CTTATGCGAACGTGATAACAGTTGATGATTCAGAGACCTAGGATAA...   \n",
       "2  CTTATGCGAACGTGACCCTCACTCCCCGCCCCTCTGCTGTGAGGAC...   \n",
       "3  CTTATGCGAACGTGAGCCTCCCTCACTCCCCGCCCCTCTGCTGTGA...   \n",
       "4  CTTATGCGAACGTGAGTAGGCAGTGACCACAGCAGCATGTCCAGCC...   \n",
       "\n",
       "                                             MUT_SEQ  Exon_Start  \\\n",
       "0  CTTATGCGAACGTGAAGATGTTTTTAACTAAAAAATGAATTTTGGT...   109338856   \n",
       "1  CTTATGCGAACGTGATAACAGTTGATGATTCAGAGACCTAGGATAA...   114973420   \n",
       "2  CTTATGCGAACGTGACCCTCACTCCCCGCCCCTCTGCTGTGAGGAC...     1250900   \n",
       "3  CTTATGCGAACGTGAGCCTCCCTCACTCCCCGCCCCTCTGCTGTGA...     1250900   \n",
       "4  CTTATGCGAACGTGAGTAGGCAGTGACCACAGCAGCATGTCCAGCC...   144813742   \n",
       "\n",
       "   Vivo_WT_Input   chr   Exon_End  Vivo_MUT_Input  Vitro_WT_Input  \\\n",
       "0            184  chr1  109338994             197             359   \n",
       "1            595  chr1  114973534             489             851   \n",
       "2            786  chr1    1250998             777             770   \n",
       "3            418  chr1    1250998             366             666   \n",
       "4            607  chr1  144813844             538             694   \n",
       "\n",
       "   Vitro_MUT_Input           donor  \\\n",
       "0              587  GTAATGGAGATAAT   \n",
       "1              993  GTATGGTTCAAAGC   \n",
       "2              730  GTCAGTGGAAGGGC   \n",
       "3              487  GTCAGTGGAAGGGC   \n",
       "4              564  GTGAGGGGACCCCA   \n",
       "\n",
       "                                            acceptor strand  Exon_PhastCons  \\\n",
       "0  AAAAATGAATTTTGGTTATAGATCACTGACAATATTTTATTTTCAT...      +        0.946870   \n",
       "1  CAGAGACCTAGGATAAGTTGATAACCTAATGATGCATTTCTCTTAT...      -        0.999851   \n",
       "2  CGCCCCTCTGCTGTGAGGACACAGCCTGAGCGCAGCCCTGTCCTCC...      -        0.906347   \n",
       "3  CGCCCCTCTGCTGTGAGGACACAGCCTGAGCGCAGCCCTGTCCTCC...      -        0.906347   \n",
       "4  AGCAGCATGTCCAGCCTTCCACTGAGACAGGCGTGTCTGTCTTTTC...      +        0.012382   \n",
       "\n",
       "   acceptor_intronL  donor_intronL  Exon_eng  \n",
       "0              1326            247     -78.8  \n",
       "1              2704           2903     -31.8  \n",
       "2               538             81     -33.5  \n",
       "3               538             81     -65.3  \n",
       "4              1784            835     -25.4  "
      ]
     },
     "execution_count": 3,
     "metadata": {},
     "output_type": "execute_result"
    }
   ],
   "source": [
    "dt.head()"
   ]
  },
  {
   "cell_type": "code",
   "execution_count": 4,
   "metadata": {},
   "outputs": [],
   "source": [
    "import sys\n",
    "sys.path.append(\"../\")\n",
    "from utils import find_pos, find_seq_diff_pos"
   ]
  },
  {
   "cell_type": "code",
   "execution_count": 5,
   "metadata": {},
   "outputs": [
    {
     "data": {
      "text/plain": [
       "170"
      ]
     },
     "execution_count": 5,
     "metadata": {},
     "output_type": "execute_result"
    }
   ],
   "source": [
    "find_pos(dt.iloc[0][\"WT_SEQ\"], dt.iloc[0][\"donor\"])"
   ]
  },
  {
   "cell_type": "code",
   "execution_count": 6,
   "metadata": {},
   "outputs": [
    {
     "name": "stdout",
     "output_type": "stream",
     "text": [
      "GTAAGCCCTGCTAG\n",
      "GTGTGATCCCAGGG\n",
      "AGTAGATACTTAAAATACTTAGAATTTTTTTCTTCATTTTTCTCTTTAAG\n",
      "GGATGGCAGATCCCTGAGACTTGGCTCTAATTCTGTCCTTAAAATGGCAG\n",
      "TTTTTTTTCTTTTCTTTTCTTTTTTTTTTTTTTTTTTTGTCTTCTCCCAG\n"
     ]
    },
    {
     "name": "stderr",
     "output_type": "stream",
     "text": [
      "../utils.py:20: UserWarning: Cannot match full length short sequence GTAAG, used first 5 bases\n",
      "  warnings.warn(\"Cannot match full length short sequence %s, used first 5 bases\" % shortseq)\n",
      "../utils.py:20: UserWarning: Cannot match full length short sequence GTGTG, used first 5 bases\n",
      "  warnings.warn(\"Cannot match full length short sequence %s, used first 5 bases\" % shortseq)\n",
      "../utils.py:20: UserWarning: Cannot match full length short sequence ATTTTTCTCTTTAAG, used first 5 bases\n",
      "  warnings.warn(\"Cannot match full length short sequence %s, used first 5 bases\" % shortseq)\n",
      "../utils.py:20: UserWarning: Cannot match full length short sequence TCCTTAAAATGGCAG, used first 5 bases\n",
      "  warnings.warn(\"Cannot match full length short sequence %s, used first 5 bases\" % shortseq)\n",
      "../utils.py:20: UserWarning: Cannot match full length short sequence TTTGTCTTCTCCCAG, used first 5 bases\n",
      "  warnings.warn(\"Cannot match full length short sequence %s, used first 5 bases\" % shortseq)\n"
     ]
    },
    {
     "name": "stdout",
     "output_type": "stream",
     "text": [
      "GATACGTGAGAATGTCATGAGGATCTAAAATATATTGCATACTTTTATAG\n",
      "GATTTTCTTCCCAAAGAGTCAGACTTTAACAGAGTGCTTTTCTCCTACAG\n",
      "CTTTGACACTTGAGTTATCTGGATTTGTCTTGTATTCTGTTTTCTCAAAG\n",
      "GGTCCCGTAGTTATGTCTTGTAAATTAACTCTGTTCTTTCAATTCTTTAG\n"
     ]
    },
    {
     "name": "stderr",
     "output_type": "stream",
     "text": [
      "../utils.py:20: UserWarning: Cannot match full length short sequence TGCATACTTTTATAG, used first 5 bases\n",
      "  warnings.warn(\"Cannot match full length short sequence %s, used first 5 bases\" % shortseq)\n",
      "../utils.py:20: UserWarning: Cannot match full length short sequence GCTTTTCTCCTACAG, used first 5 bases\n",
      "  warnings.warn(\"Cannot match full length short sequence %s, used first 5 bases\" % shortseq)\n",
      "../utils.py:20: UserWarning: Cannot match full length short sequence TCTGTTTTCTCAAAG, used first 5 bases\n",
      "  warnings.warn(\"Cannot match full length short sequence %s, used first 5 bases\" % shortseq)\n",
      "../utils.py:20: UserWarning: Cannot match full length short sequence CTTTCAATTCTTTAG, used first 5 bases\n",
      "  warnings.warn(\"Cannot match full length short sequence %s, used first 5 bases\" % shortseq)\n"
     ]
    }
   ],
   "source": [
    "dt['WT_Exon_End'] = dt.apply(lambda x: find_pos(x[\"WT_SEQ\"], x[\"donor\"]), axis=1)\n",
    "\n",
    "dt['WT_Exon_Start'] = dt.apply(lambda x: find_pos(x[\"WT_SEQ\"], x[\"acceptor\"], start=False), axis=1)"
   ]
  },
  {
   "cell_type": "code",
   "execution_count": 7,
   "metadata": {},
   "outputs": [
    {
     "name": "stdout",
     "output_type": "stream",
     "text": [
      "GTAAGCCCTGCTAG\n",
      "GTGTGATCCCAGGG\n",
      "AGTAGATACTTAAAATACTTAGAATTTTTTTCTTCATTTTTCTCTTTAAG\n",
      "GGATGGCAGATCCCTGAGACTTGGCTCTAATTCTGTCCTTAAAATGGCAG\n",
      "TTTTTTTTCTTTTCTTTTCTTTTTTTTTTTTTTTTTTTGTCTTCTCCCAG\n"
     ]
    },
    {
     "name": "stderr",
     "output_type": "stream",
     "text": [
      "../utils.py:20: UserWarning: Cannot match full length short sequence GTAAG, used first 5 bases\n",
      "  warnings.warn(\"Cannot match full length short sequence %s, used first 5 bases\" % shortseq)\n",
      "../utils.py:20: UserWarning: Cannot match full length short sequence GTGTG, used first 5 bases\n",
      "  warnings.warn(\"Cannot match full length short sequence %s, used first 5 bases\" % shortseq)\n",
      "../utils.py:20: UserWarning: Cannot match full length short sequence ATTTTTCTCTTTAAG, used first 5 bases\n",
      "  warnings.warn(\"Cannot match full length short sequence %s, used first 5 bases\" % shortseq)\n",
      "../utils.py:20: UserWarning: Cannot match full length short sequence TCCTTAAAATGGCAG, used first 5 bases\n",
      "  warnings.warn(\"Cannot match full length short sequence %s, used first 5 bases\" % shortseq)\n",
      "../utils.py:20: UserWarning: Cannot match full length short sequence TTTGTCTTCTCCCAG, used first 5 bases\n",
      "  warnings.warn(\"Cannot match full length short sequence %s, used first 5 bases\" % shortseq)\n",
      "../utils.py:20: UserWarning: Cannot match full length short sequence TGCATACTTTTATAG, used first 5 bases\n",
      "  warnings.warn(\"Cannot match full length short sequence %s, used first 5 bases\" % shortseq)\n",
      "../utils.py:20: UserWarning: Cannot match full length short sequence GCTTTTCTCCTACAG, used first 5 bases\n",
      "  warnings.warn(\"Cannot match full length short sequence %s, used first 5 bases\" % shortseq)\n",
      "../utils.py:20: UserWarning: Cannot match full length short sequence TCTGTTTTCTCAAAG, used first 5 bases\n",
      "  warnings.warn(\"Cannot match full length short sequence %s, used first 5 bases\" % shortseq)\n",
      "../utils.py:20: UserWarning: Cannot match full length short sequence CTTTCAATTCTTTAG, used first 5 bases\n",
      "  warnings.warn(\"Cannot match full length short sequence %s, used first 5 bases\" % shortseq)\n"
     ]
    },
    {
     "name": "stdout",
     "output_type": "stream",
     "text": [
      "GATACGTGAGAATGTCATGAGGATCTAAAATATATTGCATACTTTTATAG\n",
      "GATTTTCTTCCCAAAGAGTCAGACTTTAACAGAGTGCTTTTCTCCTACAG\n",
      "CTTTGACACTTGAGTTATCTGGATTTGTCTTGTATTCTGTTTTCTCAAAG\n",
      "GGTCCCGTAGTTATGTCTTGTAAATTAACTCTGTTCTTTCAATTCTTTAG\n"
     ]
    }
   ],
   "source": [
    "dt['MUT_Exon_End'] = dt.apply(lambda x: find_pos(x[\"MUT_SEQ\"], x[\"donor\"]), axis=1)\n",
    "\n",
    "dt['MUT_Exon_Start'] = dt.apply(lambda x: find_pos(x[\"MUT_SEQ\"], x[\"acceptor\"], start=False), axis=1)"
   ]
  },
  {
   "cell_type": "code",
   "execution_count": 8,
   "metadata": {},
   "outputs": [
    {
     "name": "stderr",
     "output_type": "stream",
     "text": [
      "../utils.py:36: MatplotlibDeprecationWarning: The find function was deprecated in version 2.2.\n",
      "  return find(muts)[0]\n"
     ]
    }
   ],
   "source": [
    "dt[\"MUT_POS\"] = dt.apply(lambda x: find_seq_diff_pos(x[\"WT_SEQ\"], x[\"MUT_SEQ\"]), axis=1)"
   ]
  },
  {
   "cell_type": "code",
   "execution_count": 9,
   "metadata": {},
   "outputs": [],
   "source": [
    "## distance to spice sites\n",
    "dt['Dist_SS'] = dt.apply(lambda x: min(x['MUT_POS']-x[\"MUT_Exon_Start\"], x[\"MUT_Exon_End\"]-x['MUT_POS']), axis=1)"
   ]
  },
  {
   "cell_type": "markdown",
   "metadata": {},
   "source": [
    "### Get feature sequence"
   ]
  },
  {
   "cell_type": "code",
   "execution_count": 10,
   "metadata": {},
   "outputs": [
    {
     "data": {
      "text/plain": [
       "Index(['ID', 'WT_ID', 'MUT_ID', 'WT_SEQ', 'MUT_SEQ', 'Exon_Start',\n",
       "       'Vivo_WT_Input', 'chr', 'Exon_End', 'Vivo_MUT_Input', 'Vitro_WT_Input',\n",
       "       'Vitro_MUT_Input', 'donor', 'acceptor', 'strand', 'Exon_PhastCons',\n",
       "       'acceptor_intronL', 'donor_intronL', 'Exon_eng', 'WT_Exon_End',\n",
       "       'WT_Exon_Start', 'MUT_Exon_End', 'MUT_Exon_Start', 'MUT_POS',\n",
       "       'Dist_SS'],\n",
       "      dtype='object')"
      ]
     },
     "execution_count": 10,
     "metadata": {},
     "output_type": "execute_result"
    }
   ],
   "source": [
    "dt.columns"
   ]
  },
  {
   "cell_type": "code",
   "execution_count": 11,
   "metadata": {},
   "outputs": [],
   "source": [
    "acceptor_wt = dt.apply(lambda x: x['WT_SEQ'][x['WT_Exon_Start']-50 : x['WT_Exon_Start']+3], axis=1)\n",
    "\n",
    "donor_wt = dt.apply(lambda x: x['WT_SEQ'][x['WT_Exon_End']-5 : x['WT_Exon_End']+13], axis=1)"
   ]
  },
  {
   "cell_type": "code",
   "execution_count": 12,
   "metadata": {},
   "outputs": [],
   "source": [
    "acceptor_mut = dt.apply(lambda x: x['MUT_SEQ'][x['MUT_Exon_Start']-50 : x['MUT_Exon_Start']+3], axis=1)\n",
    "\n",
    "donor_mut = dt.apply(lambda x: x['MUT_SEQ'][x['MUT_Exon_End']-5 : x['MUT_Exon_End']+13], axis=1)"
   ]
  },
  {
   "cell_type": "code",
   "execution_count": 13,
   "metadata": {},
   "outputs": [],
   "source": [
    "exon_wt_seq = dt.apply(lambda x: x['WT_SEQ'][x['WT_Exon_Start'] : x['WT_Exon_End']], axis=1)\n",
    "exon_mut_seq = dt.apply(lambda x: x['MUT_SEQ'][x['MUT_Exon_Start'] : x['MUT_Exon_End']], axis=1)"
   ]
  },
  {
   "cell_type": "code",
   "execution_count": 14,
   "metadata": {},
   "outputs": [],
   "source": [
    "def label_region(mut_pos, exon_start, exon_end, left=3, right=5):\n",
    "    \"\"\" left: how many bases of start of exon to be considered as acceptor region\n",
    "    right: how many bases of end of exon to be considered as donor region\n",
    "    \"\"\" \n",
    "    if mut_pos < exon_start + left:\n",
    "        return 'acceptor'\n",
    "    elif mut_pos > exon_end - right:\n",
    "        return 'donor'\n",
    "    else:\n",
    "        return 'exon'"
   ]
  },
  {
   "cell_type": "code",
   "execution_count": 15,
   "metadata": {},
   "outputs": [],
   "source": [
    "dt['REGION'] = dt.apply(lambda x: label_region(x[\"MUT_POS\"], x[\"WT_Exon_Start\"], x[\"WT_Exon_End\"]), axis=1)"
   ]
  },
  {
   "cell_type": "markdown",
   "metadata": {},
   "source": [
    "## Apply Model"
   ]
  },
  {
   "cell_type": "code",
   "execution_count": 16,
   "metadata": {},
   "outputs": [
    {
     "name": "stderr",
     "output_type": "stream",
     "text": [
      "/opt/modules/i12g/anaconda/3-5.0.1/envs/splicing/lib/python3.6/site-packages/keras/engine/saving.py:270: UserWarning: No training configuration found in save file: the model was *not* compiled. Compile it manually.\n",
      "  warnings.warn('No training configuration found in save file: '\n"
     ]
    }
   ],
   "source": [
    "exonM = load_model(mmsplice.EXON)"
   ]
  },
  {
   "cell_type": "code",
   "execution_count": 17,
   "metadata": {},
   "outputs": [],
   "source": [
    "exon_wt = exonM.predict_on_batch(encodeDNA(exon_wt_seq))"
   ]
  },
  {
   "cell_type": "code",
   "execution_count": 18,
   "metadata": {},
   "outputs": [],
   "source": [
    "exon_mut = exonM.predict_on_batch(encodeDNA(exon_mut_seq))"
   ]
  },
  {
   "cell_type": "code",
   "execution_count": 19,
   "metadata": {},
   "outputs": [
    {
     "data": {
      "image/png": "[encoded data removed]",
      "text/plain": [
       "<Figure size 432x288 with 1 Axes>"
      ]
     },
     "metadata": {},
     "output_type": "display_data"
    }
   ],
   "source": [
    "plt.hist(exon_mut - exon_wt)\n",
    "plt.show()"
   ]
  },
  {
   "cell_type": "code",
   "execution_count": 20,
   "metadata": {},
   "outputs": [],
   "source": [
    "donorM = load_model(mmsplice.DONOR)"
   ]
  },
  {
   "cell_type": "code",
   "execution_count": 21,
   "metadata": {},
   "outputs": [],
   "source": [
    "donor_wt = donorM.predict_on_batch(encodeDNA(donor_wt))\n",
    "donor_mut = donorM.predict_on_batch(encodeDNA(donor_mut))"
   ]
  },
  {
   "cell_type": "code",
   "execution_count": 22,
   "metadata": {},
   "outputs": [
    {
     "data": {
      "image/png": "[encoded data removed]",
      "text/plain": [
       "<Figure size 432x288 with 1 Axes>"
      ]
     },
     "metadata": {},
     "output_type": "display_data"
    }
   ],
   "source": [
    "plt.hist(logit(donor_mut) - logit(donor_wt))\n",
    "plt.show()"
   ]
  },
  {
   "cell_type": "code",
   "execution_count": 23,
   "metadata": {},
   "outputs": [],
   "source": [
    "acceptorM = load_model(mmsplice.ACCEPTOR)"
   ]
  },
  {
   "cell_type": "code",
   "execution_count": 24,
   "metadata": {},
   "outputs": [],
   "source": [
    "acceptor_wt = acceptorM.predict_on_batch(encodeDNA(acceptor_wt))\n",
    "acceptor_mut = acceptorM.predict_on_batch(encodeDNA(acceptor_mut))"
   ]
  },
  {
   "cell_type": "code",
   "execution_count": 25,
   "metadata": {},
   "outputs": [
    {
     "data": {
      "image/png": "[encoded data removed]",
      "text/plain": [
       "<Figure size 432x288 with 1 Axes>"
      ]
     },
     "metadata": {},
     "output_type": "display_data"
    }
   ],
   "source": [
    "plt.hist(logit(acceptor_mut) - logit(acceptor_wt))\n",
    "plt.show()"
   ]
  },
  {
   "cell_type": "markdown",
   "metadata": {},
   "source": [
    "## Huber regression "
   ]
  },
  {
   "cell_type": "code",
   "execution_count": 26,
   "metadata": {},
   "outputs": [],
   "source": [
    "X_vivo = np.concatenate([logit(acceptor_mut)-logit(acceptor_wt), exon_mut-exon_wt, logit(donor_mut)-logit(donor_wt)], axis=1)\n",
    "\n",
    "exon_overlap = np.logical_or(np.logical_and(X_vivo[:,0]!=0, X_vivo[:,1]!=0), np.logical_and(X_vivo[:,1]!=0, X_vivo[:,2]!=0))\n",
    "X_vivo = np.hstack([X_vivo, (X_vivo[:,1]*exon_overlap).reshape(-1,1)])"
   ]
  },
  {
   "cell_type": "code",
   "execution_count": 27,
   "metadata": {},
   "outputs": [],
   "source": [
    "X_vitro = np.concatenate([logit(acceptor_mut)-logit(acceptor_wt), exon_mut-exon_wt], axis=1)\n",
    "\n",
    "exon_overlap = np.logical_and(X_vitro[:,0]!=0, X_vitro[:,1]!=0)\n",
    "X_vitro = np.hstack([X_vitro, (X_vitro[:,1]*exon_overlap).reshape(-1,1)])"
   ]
  },
  {
   "cell_type": "markdown",
   "metadata": {},
   "source": [
    "### Predict log2 mut/ref"
   ]
  },
  {
   "cell_type": "code",
   "execution_count": 28,
   "metadata": {},
   "outputs": [],
   "source": [
    "import joblib\n",
    "huber_vivo = joblib.load(projectDIR + 'mapsy/vivo_model.pkl')\n",
    "huber_vitro = joblib.load(projectDIR + 'mapsy/vitro_model.pkl')"
   ]
  },
  {
   "cell_type": "code",
   "execution_count": 29,
   "metadata": {},
   "outputs": [],
   "source": [
    "vivo_pred = huber_vivo.predict(X_vivo)\n",
    "vitro_pred = huber_vitro.predict(X_vitro)"
   ]
  },
  {
   "cell_type": "markdown",
   "metadata": {},
   "source": [
    "### Write the results"
   ]
  },
  {
   "cell_type": "code",
   "execution_count": 30,
   "metadata": {},
   "outputs": [
    {
     "data": {
      "text/plain": [
       "Index(['ID', 'WT_ID', 'MUT_ID', 'WT_SEQ', 'MUT_SEQ', 'Exon_Start',\n",
       "       'Vivo_WT_Input', 'chr', 'Exon_End', 'Vivo_MUT_Input', 'Vitro_WT_Input',\n",
       "       'Vitro_MUT_Input', 'donor', 'acceptor', 'strand', 'Exon_PhastCons',\n",
       "       'acceptor_intronL', 'donor_intronL', 'Exon_eng', 'WT_Exon_End',\n",
       "       'WT_Exon_Start', 'MUT_Exon_End', 'MUT_Exon_Start', 'MUT_POS', 'Dist_SS',\n",
       "       'REGION'],\n",
       "      dtype='object')"
      ]
     },
     "execution_count": 30,
     "metadata": {},
     "output_type": "execute_result"
    }
   ],
   "source": [
    "dt.columns"
   ]
  },
  {
   "cell_type": "code",
   "execution_count": 31,
   "metadata": {},
   "outputs": [],
   "source": [
    "from collections import OrderedDict"
   ]
  },
  {
   "cell_type": "code",
   "execution_count": 32,
   "metadata": {},
   "outputs": [],
   "source": [
    "results = OrderedDict([('Wildtype_id', dt.WT_ID), \n",
    "          ('Mutant_id', dt.MUT_ID),\n",
    "          ('vivo_wildtype_spliced', dt.Vivo_WT_Input),\n",
    "          ('vivo_mutant_spliced', dt.Vivo_MUT_Input),\n",
    "          ('vitro_wildtype_spliced', dt.Vitro_WT_Input),\n",
    "          ('vitro_mutant_spliced', dt.Vitro_MUT_Input),\n",
    "          ('log2_vivo_allele_ratio', vivo_pred),\n",
    "          ('log2_vitro_allele_ratio', vitro_pred)])"
   ]
  },
  {
   "cell_type": "code",
   "execution_count": 33,
   "metadata": {},
   "outputs": [],
   "source": [
    "mapsy_test_pred = pd.DataFrame.from_dict(results)"
   ]
  },
  {
   "cell_type": "code",
   "execution_count": 34,
   "metadata": {},
   "outputs": [
    {
     "data": {
      "text/html": [
       "<div>\n",
       "<style scoped>\n",
       "    .dataframe tbody tr th:only-of-type {\n",
       "        vertical-align: middle;\n",
       "    }\n",
       "\n",
       "    .dataframe tbody tr th {\n",
       "        vertical-align: top;\n",
       "    }\n",
       "\n",
       "    .dataframe thead th {\n",
       "        text-align: right;\n",
       "    }\n",
       "</style>\n",
       "<table border=\"1\" class=\"dataframe\">\n",
       "  <thead>\n",
       "    <tr style=\"text-align: right;\">\n",
       "      <th></th>\n",
       "      <th>Wildtype_id</th>\n",
       "      <th>Mutant_id</th>\n",
       "      <th>vivo_wildtype_spliced</th>\n",
       "      <th>vivo_mutant_spliced</th>\n",
       "      <th>vitro_wildtype_spliced</th>\n",
       "      <th>vitro_mutant_spliced</th>\n",
       "      <th>log2_vivo_allele_ratio</th>\n",
       "      <th>log2_vitro_allele_ratio</th>\n",
       "    </tr>\n",
       "  </thead>\n",
       "  <tbody>\n",
       "    <tr>\n",
       "      <th>0</th>\n",
       "      <td>chr1-109338855-109338994M</td>\n",
       "      <td>chr1-109338855-109338994W</td>\n",
       "      <td>184</td>\n",
       "      <td>197</td>\n",
       "      <td>359</td>\n",
       "      <td>587</td>\n",
       "      <td>-0.122903</td>\n",
       "      <td>-0.091725</td>\n",
       "    </tr>\n",
       "    <tr>\n",
       "      <th>1</th>\n",
       "      <td>chr1-114973419-114973534W</td>\n",
       "      <td>chr1-114973419-114973534M</td>\n",
       "      <td>595</td>\n",
       "      <td>489</td>\n",
       "      <td>851</td>\n",
       "      <td>993</td>\n",
       "      <td>0.150041</td>\n",
       "      <td>0.194460</td>\n",
       "    </tr>\n",
       "    <tr>\n",
       "      <th>2</th>\n",
       "      <td>chr1-1250899-1250994W</td>\n",
       "      <td>chr1-1250899-1250994M</td>\n",
       "      <td>786</td>\n",
       "      <td>777</td>\n",
       "      <td>770</td>\n",
       "      <td>730</td>\n",
       "      <td>-0.517884</td>\n",
       "      <td>-0.505868</td>\n",
       "    </tr>\n",
       "    <tr>\n",
       "      <th>3</th>\n",
       "      <td>chr1-1250899-1250998W</td>\n",
       "      <td>chr1-1250899-1250998M</td>\n",
       "      <td>418</td>\n",
       "      <td>366</td>\n",
       "      <td>666</td>\n",
       "      <td>487</td>\n",
       "      <td>-0.517885</td>\n",
       "      <td>-0.505870</td>\n",
       "    </tr>\n",
       "    <tr>\n",
       "      <th>4</th>\n",
       "      <td>chr1-144813741-144813844M</td>\n",
       "      <td>chr1-144813741-144813844W</td>\n",
       "      <td>607</td>\n",
       "      <td>538</td>\n",
       "      <td>694</td>\n",
       "      <td>564</td>\n",
       "      <td>-0.605788</td>\n",
       "      <td>-0.598037</td>\n",
       "    </tr>\n",
       "  </tbody>\n",
       "</table>\n",
       "</div>"
      ],
      "text/plain": [
       "                 Wildtype_id                  Mutant_id  \\\n",
       "0  chr1-109338855-109338994M  chr1-109338855-109338994W   \n",
       "1  chr1-114973419-114973534W  chr1-114973419-114973534M   \n",
       "2      chr1-1250899-1250994W      chr1-1250899-1250994M   \n",
       "3      chr1-1250899-1250998W      chr1-1250899-1250998M   \n",
       "4  chr1-144813741-144813844M  chr1-144813741-144813844W   \n",
       "\n",
       "   vivo_wildtype_spliced  vivo_mutant_spliced  vitro_wildtype_spliced  \\\n",
       "0                    184                  197                     359   \n",
       "1                    595                  489                     851   \n",
       "2                    786                  777                     770   \n",
       "3                    418                  366                     666   \n",
       "4                    607                  538                     694   \n",
       "\n",
       "   vitro_mutant_spliced  log2_vivo_allele_ratio  log2_vitro_allele_ratio  \n",
       "0                   587               -0.122903                -0.091725  \n",
       "1                   993                0.150041                 0.194460  \n",
       "2                   730               -0.517884                -0.505868  \n",
       "3                   487               -0.517885                -0.505870  \n",
       "4                   564               -0.605788                -0.598037  "
      ]
     },
     "execution_count": 34,
     "metadata": {},
     "output_type": "execute_result"
    }
   ],
   "source": [
    "mapsy_test_pred.head()"
   ]
  },
  {
   "cell_type": "code",
   "execution_count": 35,
   "metadata": {},
   "outputs": [],
   "source": [
    "mapsy_test_pred.to_csv(\"/data/ouga/home/ag_gagneur/chengju/project/recods/Data/MaPSy/mapsy_test_pred.txt\",\n",
    "                 sep='\\t', index=False, float_format='%.17f', encoding='utf-8')"
   ]
  },
  {
   "cell_type": "code",
   "execution_count": null,
   "metadata": {},
   "outputs": [],
   "source": []
  }
 ],
 "metadata": {
  "kernelspec": {
   "display_name": "Python [conda env:splicing]",
   "language": "python",
   "name": "conda-env-splicing-py"
  },
  "language_info": {
   "codemirror_mode": {
    "name": "ipython",
    "version": 3
   },
   "file_extension": ".py",
   "mimetype": "text/x-python",
   "name": "python",
   "nbconvert_exporter": "python",
   "pygments_lexer": "ipython3",
   "version": "3.6.0"
  }
 },
 "nbformat": 4,
 "nbformat_minor": 2
}
